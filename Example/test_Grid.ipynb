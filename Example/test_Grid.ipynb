{
 "cells": [
  {
   "cell_type": "code",
   "execution_count": 1,
   "metadata": {
    "collapsed": false
   },
   "outputs": [],
   "source": [
    "# Parse arguments\n",
    "import numpy as np\n",
    "\n",
    "import argparse\n",
    "parser = argparse.ArgumentParser(description='Test van der Waals grids')\n",
    "parser.add_argument('--receptor_prmtop', help='Input AMBER PRMTOP file for receptor', \\\n",
    "  default='prmtopcrd/receptor.prmtop')\n",
    "parser.add_argument('--receptor_inpcrd', help='Input coordinates for receptor', \\\n",
    "  default='prmtopcrd/receptor.trans.inpcrd')\n",
    "parser.add_argument('--ligand_prmtop', help='Input AMBER PRMTOP file for ligand', \\\n",
    "  default='prmtopcrd/ligand.prmtop')\n",
    "parser.add_argument('--ligand_coordinates', help='Input coordinates for ligand', \\\n",
    "  default='prmtopcrd/xtal_plus_dock6_scored.mol2')\n",
    "parser.add_argument('--LJa', help='Input file for attractive Lennard-Jones grid', \\\n",
    "  default='grids/LJa.nc')\n",
    "parser.add_argument('--LJr', help='Input file for repulsive Lennard-Jones grid', \\\n",
    "  default='grids/LJr.nc')\n",
    "parser.add_argument('--ELE', help='Input file for direct electrostatic grid', \\\n",
    "  default='grids/direct_ele.nc')\n",
    "parser.add_argument('--pbsa', help='Input file for pbsa grid', \\\n",
    "  default='grids/pbsa.nc')\n",
    "parser.add_argument('--energy', help='File to store energies',\n",
    "  default='energies.nc')\n",
    "parser.add_argument('-f')\n",
    "args = parser.parse_args()\n",
    "\n",
    "# This is for the jupyter notebook\n",
    "class self:\n",
    "  pass\n",
    "\n",
    "self.FNs = {\\\n",
    "  'prmtop_R':args.receptor_prmtop, \\\n",
    "  'inpcrd_R':args.receptor_inpcrd, \\\n",
    "  'prmtop_L':args.ligand_prmtop, \\\n",
    "  'crd_L':args.ligand_coordinates, \\\n",
    "  'LJa':args.LJa, \\\n",
    "  'LJr':args.LJr, \\\n",
    "  'ELE':args.ELE, \\\n",
    "  'pbsa':args.pbsa, \\\n",
    "  'energy':args.energy}"
   ]
  },
  {
   "cell_type": "code",
   "execution_count": 2,
   "metadata": {
    "collapsed": false
   },
   "outputs": [],
   "source": [
    "# Load prmtop and get Lennard-Jones radii and well depths\n",
    "import AlGDock.IO\n",
    "IO_prmtop = AlGDock.IO.prmtop()\n",
    "prmtop_R = IO_prmtop.read(self.FNs['prmtop_R'], \\\n",
    "  varnames=['POINTERS','CHARGE','ATOM_TYPE_INDEX','NONBONDED_PARM_INDEX',\\\n",
    "            'LENNARD_JONES_ACOEF','LENNARD_JONES_BCOEF','MASS'])\n",
    "prmtop_L = IO_prmtop.read(self.FNs['prmtop_L'], \\\n",
    "  varnames=['POINTERS','CHARGE','ATOM_TYPE_INDEX','NONBONDED_PARM_INDEX',\\\n",
    "            'LENNARD_JONES_ACOEF','LENNARD_JONES_BCOEF','MASS'])\n",
    "\n",
    "prmtop_R['CHARGE'] = prmtop_R['CHARGE']/18.2223 # Convert to units of electric charge\n",
    "prmtop_L['CHARGE'] = prmtop_L['CHARGE']/18.2223 # Convert to units of electric charge\n",
    "\n",
    "NATOM_R = prmtop_R['POINTERS'][0]\n",
    "NTYPES_R = prmtop_R['POINTERS'][1]\n",
    "\n",
    "NATOM_L = prmtop_L['POINTERS'][0]\n",
    "NTYPES_L = prmtop_L['POINTERS'][1]\n",
    "\n",
    "def LJ_radii_and_depth(prmtop, NTYPES):\n",
    "  ### Extract Lennard-Jones well depth and radii for each atom type\n",
    "  LJ_radius = np.zeros(shape=(NTYPES), dtype=float)\n",
    "  LJ_depth = np.zeros(shape=(NTYPES), dtype=float)\n",
    "  for i in range(NTYPES):\n",
    "    LJ_index = prmtop['NONBONDED_PARM_INDEX'][NTYPES*i+i]-1\n",
    "    if prmtop['LENNARD_JONES_ACOEF'][LJ_index]<1.0e-6:\n",
    "      LJ_radius[i] = 0\n",
    "      LJ_depth[i] = 0\n",
    "    else:\n",
    "      factor = 2 * prmtop['LENNARD_JONES_ACOEF'][LJ_index] / prmtop['LENNARD_JONES_BCOEF'][LJ_index]\n",
    "      LJ_radius[i] = pow(factor, 1.0/6.0) * 0.5 # R_min/2\n",
    "      LJ_depth[i] = prmtop['LENNARD_JONES_BCOEF'][LJ_index] / 2. / factor # epsilon\n",
    "  return LJ_radius, LJ_depth\n",
    "\n",
    "LJ_radius_R, LJ_depth_R = LJ_radii_and_depth(prmtop_R, NTYPES_R)\n",
    "LJ_radius_L, LJ_depth_L = LJ_radii_and_depth(prmtop_L, NTYPES_L)\n",
    "#   # More useful for later calculations\n",
    "#   root_LJ_depth = np.sqrt(LJ_depth)\n",
    "#   LJ_diameter = LJ_radius*2"
   ]
  },
  {
   "cell_type": "code",
   "execution_count": 3,
   "metadata": {
    "collapsed": false
   },
   "outputs": [],
   "source": [
    "# Read coordinates\n",
    "import AlGDock.IO\n",
    "IO_crd = AlGDock.IO.crd()\n",
    "self.crd_R = IO_crd.read(self.FNs['inpcrd_R'])\n",
    "\n",
    "IO_mol2 = AlGDock.IO.dock6_mol2()\n",
    "(self.crd_L,E_L) = IO_mol2.read(self.FNs['crd_L'])\n",
    "# Removes poses with high scores\n",
    "# self.crd_L = [self.crd_L[n] for n in range(len(self.crd_L)) if E_L['Grid Score'][n]<(E_L['Grid Score'][n]+50.)]\n",
    "# Trims data for testing\n",
    "self.crd_L = self.crd_L[:10]"
   ]
  },
  {
   "cell_type": "code",
   "execution_count": 4,
   "metadata": {
    "collapsed": false
   },
   "outputs": [],
   "source": [
    "# Get vdW A and B coefficients for every ligand atom\n",
    "atom_type_R = [prmtop_R['ATOM_TYPE_INDEX'][n_R]-1 for n_R in range(NATOM_R)]\n",
    "atom_type_L = [prmtop_L['ATOM_TYPE_INDEX'][n_L]-1 for n_L in range(NATOM_L)]\n",
    "\n",
    "A_a = []\n",
    "B_a = []\n",
    "A_g = []\n",
    "B_g = []\n",
    "for n_L in range(NATOM_L):\n",
    "  A_a_L = []\n",
    "  B_a_L = []\n",
    "  A_g_L = []\n",
    "  B_g_L = []\n",
    "  for n_R in range(NATOM_R):\n",
    "    # Lorenz/Berthelot mixing (AMBER default)\n",
    "    LJ_radius_ij = LJ_radius_R[atom_type_R[n_R]] + LJ_radius_L[atom_type_L[n_L]]\n",
    "    LJ_depth_ij = np.sqrt(LJ_depth_R[atom_type_R[n_R]]*LJ_depth_L[atom_type_L[n_L]])\n",
    "    A_a_L.append(LJ_depth_ij*LJ_radius_ij**12)\n",
    "    B_a_L.append(2*LJ_depth_ij*LJ_radius_ij**6)\n",
    "    # Radius from geometric mean (DOCK 6 default)\n",
    "    LJ_radius_ij = np.sqrt(4.*LJ_radius_R[atom_type_R[n_R]]*LJ_radius_L[atom_type_L[n_L]])\n",
    "    A_g_L.append(LJ_depth_ij*LJ_radius_ij**12)\n",
    "    B_g_L.append(2*LJ_depth_ij*LJ_radius_ij**6)\n",
    "  A_a.append(A_a_L)\n",
    "  B_a.append(B_a_L)\n",
    "  A_g.append(A_g_L)\n",
    "  B_g.append(B_g_L)\n",
    "A_a = np.array(A_a)\n",
    "B_a = np.array(B_a)\n",
    "A_g = np.array(A_g)\n",
    "B_g = np.array(B_g)"
   ]
  },
  {
   "cell_type": "code",
   "execution_count": 5,
   "metadata": {
    "collapsed": false
   },
   "outputs": [],
   "source": [
    "scaling_factors = {}\n",
    "scaling_factors['LJr'] = [np.sqrt(LJ_depth_L[ind])*((2*LJ_radius_L[ind])**6) for ind in atom_type_L]\n",
    "scaling_factors['LJa'] = [np.sqrt(LJ_depth_L[ind])*((2*LJ_radius_L[ind])**3) for ind in atom_type_L]"
   ]
  },
  {
   "cell_type": "code",
   "execution_count": 6,
   "metadata": {
    "collapsed": false
   },
   "outputs": [],
   "source": [
    "# Calculate direct Lennard-Jones and electrostatic energies\n",
    "ELE = []\n",
    "LJr_LB = []\n",
    "LJa_LB = []\n",
    "LJr_g = []\n",
    "LJa_g = []\n",
    "for i_L in range(len(self.crd_L)):\n",
    "  ELE_i = []\n",
    "  LJr_LB_i = []\n",
    "  LJa_LB_i = []\n",
    "  LJr_g_i = []\n",
    "  LJa_g_i = []  \n",
    "  for n_L in range(NATOM_L):\n",
    "    rinv  = 1/np.sqrt(np.sum(np.square(self.crd_L[i_L][n_L,:] - self.crd_R),1))\n",
    "    rinv6 = np.power(rinv,6)\n",
    "    rinv12 = rinv6*rinv6\n",
    "    ELE_i.append(np.sum(prmtop_L['CHARGE'][n_L]*prmtop_R['CHARGE']*rinv))\n",
    "    LJr_LB_i.append(np.sum(A_a[n_L]*rinv12))\n",
    "    LJa_LB_i.append(-np.sum(B_a[n_L]*rinv6))\n",
    "    LJr_g_i.append(np.sum(A_g[n_L]*rinv12))\n",
    "    LJa_g_i.append(-np.sum(B_g[n_L]*rinv6))\n",
    "  ELE.append(ELE_i)\n",
    "  LJr_LB.append(LJr_LB_i)\n",
    "  LJa_LB.append(LJa_LB_i)\n",
    "  LJr_g.append(LJr_g_i)\n",
    "  LJa_g.append(LJa_g_i)"
   ]
  },
  {
   "cell_type": "code",
   "execution_count": 7,
   "metadata": {
    "collapsed": false
   },
   "outputs": [],
   "source": [
    "# Read grids\n",
    "import AlGDock.IO\n",
    "IO_Grid = AlGDock.IO.Grid()\n",
    "grids = {}\n",
    "for key in ['LJa','LJr','ELE','pbsa']:\n",
    "  grids[key] = IO_Grid.read(self.FNs[key])"
   ]
  },
  {
   "cell_type": "code",
   "execution_count": 8,
   "metadata": {
    "collapsed": false
   },
   "outputs": [],
   "source": [
    "def trilinearIterpolation(counts, spacing, vals, coordinates, scaling_factor, inv_power):\n",
    "  interpolated = np.zeros(len(coordinates))\n",
    "  nyz = counts[1]*counts[2]\n",
    "  for atom_index in range(len(coordinates)):\n",
    "    # Index within the grid\n",
    "    ix = int(coordinates[atom_index][0]/spacing[0])\n",
    "    iy = int(coordinates[atom_index][1]/spacing[1])\n",
    "    iz = int(coordinates[atom_index][2]/spacing[2])\n",
    "\n",
    "    i = ix*nyz + iy*counts[2] + iz\n",
    "\n",
    "    # Corners of the box surrounding the point\n",
    "    vmmm = vals[i]\n",
    "    vmmp = vals[i+1]\n",
    "    vmpm = vals[i+counts[2]]\n",
    "    vmpp = vals[i+counts[2]+1]\n",
    "\n",
    "    vpmm = vals[i+nyz]\n",
    "    vpmp = vals[i+nyz+1]\n",
    "    vppm = vals[i+nyz+counts[2]]\n",
    "    vppp = vals[i+nyz+counts[2]+1]\n",
    "\n",
    "    # Fraction within the box\n",
    "    fx = (coordinates[atom_index][0] - (ix*spacing[0]))/spacing[0]\n",
    "    fy = (coordinates[atom_index][1] - (iy*spacing[1]))/spacing[1]\n",
    "    fz = (coordinates[atom_index][2] - (iz*spacing[2]))/spacing[2]\n",
    "\n",
    "    # Fraction ahead\n",
    "    ax = 1 - fx\n",
    "    ay = 1 - fy\n",
    "    az = 1 - fz\n",
    "\n",
    "    # Trilinear interpolation for energy\n",
    "    vmm = az*vmmm + fz*vmmp\n",
    "    vmp = az*vmpm + fz*vmpp\n",
    "    vpm = az*vpmm + fz*vpmp\n",
    "    vpp = az*vppm + fz*vppp\n",
    "\n",
    "    vm = ay*vmm + fy*vmp\n",
    "    vp = ay*vpm + fy*vpp\n",
    "\n",
    "    interpolated[atom_index] = (ax*vm + fx*vp)\n",
    "  interpolated = scaling_factor*(interpolated**inv_power)\n",
    "  return interpolated"
   ]
  },
  {
   "cell_type": "code",
   "execution_count": 9,
   "metadata": {
    "collapsed": false
   },
   "outputs": [],
   "source": [
    "def transformGrid(vals, inv_power):\n",
    "  vals_t = np.copy(vals)\n",
    "\n",
    "  # Transform the grid\n",
    "  neg_vals = False\n",
    "  # Make sure all grid values are positive\n",
    "  if (vals_t>0).any():\n",
    "    if (vals_t<0).any():\n",
    "      raise Exception('All of the grid points do not have the same sign')\n",
    "  else:\n",
    "    neg_vals = True\n",
    "    vals_t *= -1\n",
    "\n",
    "  # Transform all nonzero elements\n",
    "  nonzero = vals_t!=0\n",
    "  vals_t[nonzero] = vals_t[nonzero]**(1./inv_power)\n",
    "  return vals_t\n",
    "\n",
    "inv_powers = np.array(range(-12,0) + range(1,13), dtype=float)\n",
    "n_powers = len(inv_powers)\n",
    "\n",
    "interpolatedE = {}\n",
    "for key in ['LJr','LJa']:\n",
    "  interpolatedE[key] = []\n",
    "  for inv_power in inv_powers:\n",
    "    transformedGrid = transformGrid(grids[key]['vals'], inv_power)\n",
    "    interpolatedE[key].append([trilinearIterpolation(grids[key]['counts'], grids[key]['spacing'], \\\n",
    "      transformedGrid, crd, scaling_factors[key], inv_power) for crd in self.crd_L])\n",
    "  \n",
    "# Transformation is not available for ELE and pbsa\n",
    "# because they have both positive and negative components,\n",
    "# and the inverse transformation always leads to positive components\n",
    "for key in ['ELE','pbsa']:\n",
    "  interpolatedE[key] = [trilinearIterpolation(grids[key]['counts'], grids[key]['spacing'], \\\n",
    "      grids[key]['vals'], crd, prmtop_L['CHARGE'], 1) for crd in self.crd_L]"
   ]
  },
  {
   "cell_type": "code",
   "execution_count": 10,
   "metadata": {
    "collapsed": false
   },
   "outputs": [],
   "source": [
    "heavy_atom_indices = prmtop_L['MASS']>1.008\n",
    "nheavy_atoms = sum(heavy_atom_indices)"
   ]
  },
  {
   "cell_type": "code",
   "execution_count": 11,
   "metadata": {
    "collapsed": false
   },
   "outputs": [],
   "source": [
    "rmsd = [np.sum(np.sqrt(np.square(self.crd_L[n][heavy_atom_indices]-self.crd_L[0][heavy_atom_indices]))/nheavy_atoms) \\\n",
    "   for n in range(len(self.crd_L))]"
   ]
  },
  {
   "cell_type": "code",
   "execution_count": 68,
   "metadata": {
    "collapsed": false
   },
   "outputs": [],
   "source": [
    "from netCDF4 import Dataset\n",
    "energy_nc = Dataset(self.FNs['energy'],'w',format='NETCDF4')\n",
    "energy_nc.createDimension('one', 1)\n",
    "energy_nc.createDimension('cartesian', 3)\n",
    "energy_nc.createDimension('frames', len(self.crd_L))\n",
    "energy_nc.createDimension('ligand_atoms', len(self.crd_L[0]))\n",
    "energy_nc.createDimension('transforms', len(inv_powers))\n",
    "\n",
    "energy_nc.createGroup('direct')\n",
    "for key in ['ELE','LJr_LB','LJa_LB','LJr_g','LJa_g']:\n",
    "  energy_nc.groups['direct'].createVariable(key,'f8',('frames','ligand_atoms'))\n",
    "  energy_nc.groups['direct'].variables[key][:] = locals()[key]\n",
    "\n",
    "energy_nc.createGroup('interpolated')\n",
    "for key in ['LJr','LJa']:\n",
    "  energy_nc.groups['interpolated'].createVariable(key,'f8',('transforms','frames','ligand_atoms'))  \n",
    "  energy_nc.groups['interpolated'].variables[key][:] = interpolatedE[key]\n",
    "for key in ['ELE','pbsa']:\n",
    "  energy_nc.groups['interpolated'].createVariable(key,'f8',('frames','ligand_atoms'))  \n",
    "  energy_nc.groups['interpolated'].variables[key][:] = interpolatedE[key]\n",
    "  \n",
    "energy_nc.createVariable('rmsd','f8',('frames','one'))\n",
    "energy_nc.variables['rmsd'][:] = rmsd\n",
    "energy_nc.close()"
   ]
  },
  {
   "cell_type": "code",
   "execution_count": 14,
   "metadata": {
    "collapsed": false
   },
   "outputs": [
    {
     "data": {
      "text/plain": [
       "[<matplotlib.lines.Line2D at 0x10e166fd0>]"
      ]
     },
     "execution_count": 14,
     "metadata": {},
     "output_type": "execute_result"
    },
    {
     "data": {
      "image/png": "[encoded data removed]",
      "text/plain": [
       "<matplotlib.figure.Figure at 0x104e68390>"
      ]
     },
     "metadata": {},
     "output_type": "display_data"
    }
   ],
   "source": [
    "%matplotlib inline\n",
    "import matplotlib.pyplot as plt\n",
    "plt.plot(np.array(ELE).flatten(),(np.array(interpolatedE['ELE']).flatten())/332.05, '.')"
   ]
  },
  {
   "cell_type": "code",
   "execution_count": 15,
   "metadata": {
    "collapsed": false
   },
   "outputs": [],
   "source": [
    "# plt.plot(inv_powers,[np.sqrt(np.sum(np.square(np.array(LJr_a).flatten()[toKeep]-np.array(interpolatedE['LJr'][p]).flatten()[toKeep]))) for p in range(len(inv_powers))],'.')"
   ]
  },
  {
   "cell_type": "code",
   "execution_count": 16,
   "metadata": {
    "collapsed": false
   },
   "outputs": [
    {
     "data": {
      "text/plain": [
       "(10, 24)"
      ]
     },
     "execution_count": 16,
     "metadata": {},
     "output_type": "execute_result"
    }
   ],
   "source": [
    "np.array(ELE).shape"
   ]
  },
  {
   "cell_type": "code",
   "execution_count": 17,
   "metadata": {
    "collapsed": false
   },
   "outputs": [
    {
     "data": {
      "text/plain": [
       "(10, 24)"
      ]
     },
     "execution_count": 17,
     "metadata": {},
     "output_type": "execute_result"
    }
   ],
   "source": [
    "np.array(interpolatedE['ELE']).shape"
   ]
  },
  {
   "cell_type": "code",
   "execution_count": null,
   "metadata": {
    "collapsed": true
   },
   "outputs": [],
   "source": []
  }
 ],
 "metadata": {
  "kernelspec": {
   "display_name": "Python 2",
   "language": "python",
   "name": "python2"
  },
  "language_info": {
   "codemirror_mode": {
    "name": "ipython",
    "version": 2
   },
   "file_extension": ".py",
   "mimetype": "text/x-python",
   "name": "python",
   "nbconvert_exporter": "python",
   "pygments_lexer": "ipython2",
   "version": "2.7.11"
  }
 },
 "nbformat": 4,
 "nbformat_minor": 2
}
