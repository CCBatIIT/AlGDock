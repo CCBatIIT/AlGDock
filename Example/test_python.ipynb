{
 "cells": [
  {
   "cell_type": "code",
   "execution_count": 1,
   "metadata": {
    "collapsed": false
   },
   "outputs": [
    {
     "name": "stdout",
     "output_type": "stream",
     "text": [
      "###########\n",
      "# AlGDock #\n",
      "###########\n",
      "Molecular docking with adaptively scaled alchemical interaction grids\n",
      "\n",
      "in /Users/dminh/Applications/miniconda2/envs/algdock/lib/python2.7/site-packages/AlGDock/BindingPMF.py\n",
      "last modified Sun Dec 24 19:53:15 2017\n",
      "    \n",
      "using 4/4 available cores\n",
      "using random number seed of -1\n",
      "  no progress information for dock\n",
      "  no progress information for cool\n",
      "\n",
      "*** Directories ***\n",
      "  start: /Users/dminh/Installers/AlGDock-0.0.1/Example\n",
      "  cool: /Users/dminh/Installers/AlGDock-0.0.1/Example/cool\n",
      "  dock: /Users/dminh/Installers/AlGDock-0.0.1/Example/dock\n",
      "\n",
      "*** Files ***\n",
      "  ligand_database: prmtopcrd/ligand.db\n",
      "  receptor_database: prmtopcrd/receptor.db\n",
      "  forcefield: ../Data/gaff2.dat\n",
      "  frcmodList: ['/Users/dminh/Installers/AlGDock-0.0.1/Example/prmtopcrd/ligand.frcmod']\n",
      "  prmtop:\n",
      "    L: prmtopcrd/ligand.prmtop\n",
      "    R: prmtopcrd/receptor.prmtop\n",
      "    RL: prmtopcrd/complex.prmtop\n",
      "  inpcrd:\n",
      "    L: prmtopcrd/ligand.trans.inpcrd\n",
      "    R: prmtopcrd/receptor.trans.inpcrd\n",
      "    RL: prmtopcrd/complex.trans.inpcrd\n",
      "  mol2:\n",
      "    L: prmtopcrd/ligand.mol2\n",
      "  fixed_atoms:\n",
      "    R: prmtopcrd/receptor.pdb\n",
      "    RL: prmtopcrd/complex.pdb\n",
      "  grids:\n",
      "    LJr: grids/LJr.nc\n",
      "    LJa: grids/LJa.nc\n",
      "    sELE: grids/pbsa.nc\n",
      "    ELE: grids/direct_ELE.nc\n",
      "    desolv: grids/desolv.nc\n",
      "  score: prmtopcrd/xtal_plus_dock6_scored.mol2\n",
      "  dir_cool: cool\n",
      "          DOES NOT EXIST\n",
      "\n",
      "ligand residue name: iga\n",
      "\n",
      "*** Simulation parameters and constants ***\n",
      "\n",
      "for cool:\n",
      "  protocol: Adaptive\n",
      "  therm_speed: 25.0\n",
      "  T_HIGH: 450.0\n",
      "  T_SIMMIN: 300.0\n",
      "  T_TARGET: 300.0\n",
      "  H_mass: 4.0\n",
      "  fraction_CD: 0.5\n",
      "  CD_steps_per_trial: 5\n",
      "  delta_t: 4.0\n",
      "  sampler: HMC\n",
      "  steps_per_seed: 200\n",
      "  seeds_per_state: 10\n",
      "  darts_per_seed: 0\n",
      "  repX_cycles: 3\n",
      "  min_repX_acc: 0.4\n",
      "  sweeps_per_cycle: 50\n",
      "  snaps_per_cycle: 25\n",
      "  attempts_per_sweep: 100\n",
      "  steps_per_sweep: 50\n",
      "  darts_per_sweep: 0\n",
      "  phases: ['NAMD_Gas', 'NAMD_OBC', 'OpenMM_OBC2']\n",
      "  sampling_importance_resampling: True\n",
      "  solvation: Full\n",
      "  keep_intermediate: True\n",
      "  GMC_attempts: 0\n",
      "  GMC_tors_threshold: 0.0\n",
      "  delta_t_CD: 4.0\n",
      "\n",
      "for dock:\n",
      "  protocol: Adaptive\n",
      "  therm_speed: 0.25\n",
      "  T_HIGH: 450.0\n",
      "  T_SIMMIN: 300.0\n",
      "  T_TARGET: 300.0\n",
      "  H_mass: 4.0\n",
      "  fraction_CD: 0.5\n",
      "  CD_steps_per_trial: 5\n",
      "  delta_t: 4.0\n",
      "  sampler: HMC\n",
      "  steps_per_seed: 200\n",
      "  seeds_per_state: 10\n",
      "  darts_per_seed: 0\n",
      "  repX_cycles: 4\n",
      "  min_repX_acc: 0.4\n",
      "  sweeps_per_cycle: 50\n",
      "  snaps_per_cycle: 25\n",
      "  attempts_per_sweep: 100\n",
      "  steps_per_sweep: 50\n",
      "  darts_per_sweep: 0\n",
      "  phases: ['NAMD_Gas', 'NAMD_OBC', 'OpenMM_OBC2']\n",
      "  sampling_importance_resampling: True\n",
      "  solvation: Full\n",
      "  keep_intermediate: True\n",
      "  GMC_attempts: 0\n",
      "  GMC_tors_threshold: 0.0\n",
      "  temperature_scaling: Quadratic\n",
      "  site: Sphere\n",
      "  site_center: array([ 1.7416,  1.7416,  1.7416])\n",
      "  site_max_R: 1.0\n",
      "  site_density: 10.0\n",
      "  pose: -1\n",
      "  k_pose: 1000.0\n",
      "  MCMC_moves: 1\n",
      "  rmsd: True\n",
      "  delta_t_CD: 4.0\n"
     ]
    }
   ],
   "source": [
    "import AlGDock.BindingPMF_plots\n",
    "from AlGDock.BindingPMF_plots import *\n",
    "import os, shutil, glob\n",
    "\n",
    "phases = ['NAMD_Gas', 'NAMD_OBC', 'OpenMM_OBC2']\n",
    "# phases = ['sander_Gas', \\\n",
    "#   'sander_HCT', 'sander_OBC1', 'sander_OBC2', 'sander_GBn', 'sander_GBn2', \\\n",
    "#   'sander_PBSA', 'sander_ALPB_HCT', 'sander_ALPB_OBC1', 'sander_ALPB_OBC2', \\\n",
    "#   'sander_ALPB_GBn', 'gbnsr6_Still', 'gbnsr6_CHA']\n",
    "\n",
    "self = AlGDock.BindingPMF_plots.BPMF_plots(\\\n",
    "  dir_dock='dock', dir_cool='cool',\\\n",
    "  ligand_database='prmtopcrd/ligand.db', \\\n",
    "  forcefield='prmtopcrd/gaff2.dat', \\\n",
    "  ligand_prmtop='prmtopcrd/ligand.prmtop', \\\n",
    "  ligand_inpcrd='prmtopcrd/ligand.trans.inpcrd', \\\n",
    "  ligand_mol2='prmtopcrd/ligand.mol2', \\\n",
    "  ligand_rb='prmtopcrd/ligand.rb', \\\n",
    "  receptor_database='prmtopcrd/receptor.db', \\\n",
    "  receptor_prmtop='prmtopcrd/receptor.prmtop', \\\n",
    "  receptor_inpcrd='prmtopcrd/receptor.trans.inpcrd', \\\n",
    "  receptor_fixed_atoms='prmtopcrd/receptor.pdb', \\\n",
    "  complex_prmtop='prmtopcrd/complex.prmtop', \\\n",
    "  complex_inpcrd='prmtopcrd/complex.trans.inpcrd', \\\n",
    "  complex_fixed_atoms='prmtopcrd/complex.pdb', \\\n",
    "  score = 'prmtopcrd/xtal_plus_dock6_scored.mol2', \\\n",
    "  temperature_scaling = 'Quadratic', \\\n",
    "  pose = 0, \\\n",
    "  rmsd=True, \\\n",
    "  dir_grid='grids', \\\n",
    "  protocol='Adaptive', cool_therm_speed=25.0, dock_therm_speed=0.25, \\\n",
    "  T_HIGH=450.0, T_SIMMIN=300.0, T_TARGET=300.0, \\\n",
    "  sampler='HMC', \\\n",
    "  MCMC_moves=1, \\\n",
    "  sampling_importance_resampling = True, \\\n",
    "  solvation = 'Full', \\\n",
    "  seeds_per_state=10, steps_per_seed=200, darts_per_seed=0, \\\n",
    "  sweeps_per_cycle=50, snaps_per_cycle=25, attempts_per_sweep=100, \\\n",
    "  steps_per_sweep=50, darts_per_sweep=0, \\\n",
    "  cool_repX_cycles=3, dock_repX_cycles=4, \\\n",
    "  site='Sphere', site_center=[1.7416, 1.7416, 1.7416], \\\n",
    "  site_max_R=1.0, \\\n",
    "  site_density=10., \\\n",
    "  phases=phases, \\\n",
    "  cores=-1, \\\n",
    "  random_seed=-1, \\\n",
    "  max_time=240, \\\n",
    "  keep_intermediate=True)"
   ]
  },
  {
   "cell_type": "code",
   "execution_count": 2,
   "metadata": {
    "collapsed": true
   },
   "outputs": [],
   "source": [
    "self._clear_lock('cool')\n",
    "self._clear_lock('dock')"
   ]
  },
  {
   "cell_type": "code",
   "execution_count": 6,
   "metadata": {
    "collapsed": false
   },
   "outputs": [
    {
     "name": "stdout",
     "output_type": "stream",
     "text": [
      "{'OBC': -11526643.182297459}\n",
      "32.6574959755\n"
     ]
    }
   ],
   "source": [
    "from AlGDock.ForceFields.OBC.OBC import OBCForceField\n",
    "self.bonusE_universe.setForceField(OBCForceField())"
   ]
  },
  {
   "cell_type": "code",
   "execution_count": 11,
   "metadata": {
    "collapsed": false
   },
   "outputs": [
    {
     "name": "stdout",
     "output_type": "stream",
     "text": [
      "-11526643.1823\n",
      "20.5965950489\n"
     ]
    }
   ],
   "source": [
    "import time\n",
    "start_time = time.time()\n",
    "print self.bonusE_universe.energy()\n",
    "print time.time() - start_time"
   ]
  },
  {
   "cell_type": "code",
   "execution_count": 8,
   "metadata": {
    "collapsed": false
   },
   "outputs": [
    {
     "name": "stdout",
     "output_type": "stream",
     "text": [
      "  LJr grid loaded from LJr.nc in 0.40 s\n",
      "  LJa grid loaded from LJa.nc in 0.14 s\n",
      "  ELE grid loaded from direct_ELE.nc in 0.19 s\n"
     ]
    }
   ],
   "source": [
    "self._set_universe_evaluator(self._lambda(1.0))"
   ]
  },
  {
   "cell_type": "code",
   "execution_count": 10,
   "metadata": {
    "collapsed": false
   },
   "outputs": [
    {
     "data": {
      "text/plain": [
       "2585.7653894684145"
      ]
     },
     "execution_count": 10,
     "metadata": {},
     "output_type": "execute_result"
    }
   ],
   "source": [
    "self.universe.energy()"
   ]
  },
  {
   "cell_type": "markdown",
   "metadata": {},
   "source": [
    "The OBC energy of receptor seems to work but it takes a prohibitively long time!"
   ]
  },
  {
   "cell_type": "code",
   "execution_count": null,
   "metadata": {
    "collapsed": true
   },
   "outputs": [],
   "source": []
  }
 ],
 "metadata": {
  "kernelspec": {
   "display_name": "Python 2",
   "language": "python",
   "name": "python2"
  },
  "language_info": {
   "codemirror_mode": {
    "name": "ipython",
    "version": 2
   },
   "file_extension": ".py",
   "mimetype": "text/x-python",
   "name": "python",
   "nbconvert_exporter": "python",
   "pygments_lexer": "ipython2",
   "version": "2.7.11"
  }
 },
 "nbformat": 4,
 "nbformat_minor": 2
}
