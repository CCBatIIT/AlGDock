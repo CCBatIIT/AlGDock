{
 "cells": [
  {
   "cell_type": "code",
   "execution_count": 1,
   "metadata": {
    "collapsed": false
   },
   "outputs": [
    {
     "name": "stdout",
     "output_type": "stream",
     "text": [
      "###########\n",
      "# AlGDock #\n",
      "###########\n",
      "Molecular docking with adaptively scaled alchemical interaction grids\n",
      "\n",
      "in /Users/dminh/Applications/miniconda2/envs/algdock/lib/python2.7/site-packages/AlGDock/BindingPMF.py\n",
      "last modified Mon Jul  3 11:35:41 2017\n",
      "    \n",
      "using 4/4 available cores\n",
      "using random number seed of -1\n",
      "\n",
      "*** Directories ***\n",
      "  start: /Users/dminh/Installers/AlGDock-0.0.1/Example\n",
      "  cool: /Users/dminh/Installers/AlGDock-0.0.1/Example/cool\n",
      "  dock: /Users/dminh/Installers/AlGDock-0.0.1/Example/dock\n",
      "\n",
      "*** Files ***\n",
      "previously stored in cool directory:\n",
      "  prmtop:\n",
      "    L: prmtopcrd/ligand.prmtop\n",
      "  ligand_database: prmtopcrd/ligand.db\n",
      "  forcefield: ../Data/gaff2.dat\n",
      "  inpcrd:\n",
      "    L: prmtopcrd/ligand.trans.inpcrd\n",
      "\n",
      "previously stored in dock directory:\n",
      "  namd: ../../../Applications/NAMD_2.10/namd2\n",
      "  grids:\n",
      "    LJr: grids/LJr.nc\n",
      "    LJa: grids/LJa.nc\n",
      "    ELE: grids/pbsa.nc\n",
      "    desolv: grids/desolv.nc\n",
      "  prmtop:\n",
      "    L: prmtopcrd/ligand.prmtop\n",
      "    R: prmtopcrd/receptor.prmtop\n",
      "    RL: prmtopcrd/complex.prmtop\n",
      "  ligand_database: prmtopcrd/ligand.db\n",
      "  fixed_atoms:\n",
      "    R: prmtopcrd/receptor.pdb\n",
      "    RL: prmtopcrd/complex.pdb\n",
      "  mol2:\n",
      "    L: prmtopcrd/ligand.mol2\n",
      "  score: prmtopcrd/xtal_plus_dock6_scored.mol2\n",
      "  forcefield: ../Data/gaff2.dat\n",
      "  dir_cool: cool\n",
      "  inpcrd:\n",
      "    L: prmtopcrd/ligand.trans.inpcrd\n",
      "    R: prmtopcrd/receptor.trans.inpcrd\n",
      "    RL: prmtopcrd/complex.trans.inpcrd\n",
      "\n",
      "from arguments and defaults:\n",
      "  failed to find file in: prmtopcrd/ligand.rb, /Users/dminh/Installers/AlGDock-0.0.1/Example/dock/prmtopcrd/ligand.rb\n",
      "  ligand_database: prmtopcrd/ligand.db\n",
      "  forcefield: ../Data/gaff2.dat\n",
      "  prmtop:\n",
      "    L: prmtopcrd/ligand.prmtop\n",
      "    R: prmtopcrd/receptor.prmtop\n",
      "    RL: prmtopcrd/complex.prmtop\n",
      "  inpcrd:\n",
      "    L: prmtopcrd/ligand.trans.inpcrd\n",
      "    R: prmtopcrd/receptor.trans.inpcrd\n",
      "    RL: prmtopcrd/complex.trans.inpcrd\n",
      "  mol2:\n",
      "    L: prmtopcrd/ligand.mol2\n",
      "  fixed_atoms:\n",
      "    R: prmtopcrd/receptor.pdb\n",
      "    RL: prmtopcrd/complex.pdb\n",
      "  grids:\n",
      "    LJr: grids/LJr.nc\n",
      "    LJa: grids/LJa.nc\n",
      "    ELE: grids/pbsa.nc\n",
      "    desolv: grids/desolv.nc\n",
      "  score: prmtopcrd/xtal_plus_dock6_scored.mol2\n",
      "  dir_cool: cool\n",
      "\n",
      "to be used:\n",
      "  ligand_database: prmtopcrd/ligand.db\n",
      "  forcefield: ../Data/gaff2.dat\n",
      "  frcmodList: ['/Users/dminh/Installers/AlGDock-0.0.1/Example/prmtopcrd/ligand.frcmod']\n",
      "  prmtop:\n",
      "    L: prmtopcrd/ligand.prmtop\n",
      "    R: prmtopcrd/receptor.prmtop\n",
      "    RL: prmtopcrd/complex.prmtop\n",
      "  inpcrd:\n",
      "    L: prmtopcrd/ligand.trans.inpcrd\n",
      "    R: prmtopcrd/receptor.trans.inpcrd\n",
      "    RL: prmtopcrd/complex.trans.inpcrd\n",
      "  mol2:\n",
      "    L: prmtopcrd/ligand.mol2\n",
      "  fixed_atoms:\n",
      "    R: prmtopcrd/receptor.pdb\n",
      "    RL: prmtopcrd/complex.pdb\n",
      "  grids:\n",
      "    LJr: grids/LJr.nc\n",
      "    LJa: grids/LJa.nc\n",
      "    ELE: grids/pbsa.nc\n",
      "    desolv: grids/desolv.nc\n",
      "  score: prmtopcrd/xtal_plus_dock6_scored.mol2\n",
      "  dir_cool: cool\n",
      "  namd: ../../../Applications/NAMD_2.10/namd2\n",
      "\n",
      ">>> Setting up the simulation\n",
      "  considering a residue named \"iga\" as the ligand\n",
      "\n",
      "*** Simulation parameters and constants ***\n",
      "\n",
      "for cool:\n",
      "  protocol: Adaptive\n",
      "  therm_speed: 5.0\n",
      "  T_HIGH: 600.0\n",
      "  T_SIMMIN: 300.0\n",
      "  T_TARGET: 300.0\n",
      "  H_mass: 4.0\n",
      "  fraction_CD: 0.5\n",
      "  CD_steps_per_trial: 5\n",
      "  delta_t: 3.0\n",
      "  sampler: HMC\n",
      "  steps_per_seed: 200\n",
      "  seeds_per_state: 10\n",
      "  darts_per_seed: 0\n",
      "  repX_cycles: 3\n",
      "  min_repX_acc: 0.4\n",
      "  sweeps_per_cycle: 25\n",
      "  attempts_per_sweep: 100\n",
      "  steps_per_sweep: 100\n",
      "  darts_per_sweep: 0\n",
      "  snaps_per_independent: 3.0\n",
      "  phases: ['NAMD_Gas', 'NAMD_OBC']\n",
      "  sampling_importance_resampling: True\n",
      "  solvation: Fractional\n",
      "  keep_intermediate: True\n",
      "  GMC_attempts: 0\n",
      "  GMC_tors_threshold: 0.0\n",
      "  delta_t_CD: 4.0\n",
      "\n",
      "for dock:\n",
      "  protocol: Adaptive\n",
      "  therm_speed: 0.5\n",
      "  T_HIGH: 600.0\n",
      "  T_SIMMIN: 300.0\n",
      "  T_TARGET: 300.0\n",
      "  H_mass: 4.0\n",
      "  fraction_CD: 0.5\n",
      "  CD_steps_per_trial: 5\n",
      "  delta_t: 3.0\n",
      "  sampler: HMC\n",
      "  steps_per_seed: 200\n",
      "  seeds_per_state: 10\n",
      "  darts_per_seed: 0\n",
      "  repX_cycles: 4\n",
      "  min_repX_acc: 0.4\n",
      "  sweeps_per_cycle: 25\n",
      "  attempts_per_sweep: 100\n",
      "  steps_per_sweep: 100\n",
      "  darts_per_sweep: 0\n",
      "  snaps_per_independent: 20.0\n",
      "  phases: ['NAMD_Gas', 'NAMD_OBC']\n",
      "  sampling_importance_resampling: True\n",
      "  solvation: Fractional\n",
      "  keep_intermediate: True\n",
      "  GMC_attempts: 0\n",
      "  GMC_tors_threshold: 0.0\n",
      "  site: Sphere\n",
      "  site_center: array([ 1.7416,  1.7416,  1.7416])\n",
      "  site_max_R: 1.0\n",
      "  site_density: 10.0\n",
      "  pose: 0\n",
      "  k_pose: 200.0\n",
      "  MCMC_moves: 1\n",
      "  rmsd: True\n",
      "  receptor_NAMD_Gas: array([[ 0.,  0.,  0.,  0.,  0.,  0.,  0.,  0.]])\n",
      "  receptor_NAMD_OBC: array([[     0.      ,      0.      ,      0.      ,      0.      ,\n",
      "        -56747.052264,      0.      ,      0.      , -56747.052264]])\n",
      "  delta_t_CD: 4.0\n"
     ]
    }
   ],
   "source": [
    "import AlGDock.BindingPMF_plots\n",
    "from AlGDock.BindingPMF_plots import *\n",
    "import os, shutil, glob\n",
    "\n",
    "phases = ['NAMD_Gas', 'NAMD_OBC']\n",
    "\n",
    "self = AlGDock.BindingPMF_plots.BPMF_plots(\\\n",
    "  dir_dock='dock', dir_cool='cool',\\\n",
    "  ligand_database='prmtopcrd/ligand.db', \\\n",
    "  forcefield='prmtopcrd/gaff2.dat', \\\n",
    "  ligand_prmtop='prmtopcrd/ligand.prmtop', \\\n",
    "  ligand_inpcrd='prmtopcrd/ligand.trans.inpcrd', \\\n",
    "  ligand_mol2='prmtopcrd/ligand.mol2', \\\n",
    "  ligand_rb='prmtopcrd/ligand.rb', \\\n",
    "  receptor_prmtop='prmtopcrd/receptor.prmtop', \\\n",
    "  receptor_inpcrd='prmtopcrd/receptor.trans.inpcrd', \\\n",
    "  receptor_fixed_atoms='prmtopcrd/receptor.pdb', \\\n",
    "  complex_prmtop='prmtopcrd/complex.prmtop', \\\n",
    "  complex_inpcrd='prmtopcrd/complex.trans.inpcrd', \\\n",
    "  complex_fixed_atoms='prmtopcrd/complex.pdb', \\\n",
    "  score = 'prmtopcrd/xtal_plus_dock6_scored.mol2', \\\n",
    "  pose = 0, \\\n",
    "  rmsd=True, \\\n",
    "  dir_grid='grids', \\\n",
    "  protocol='Adaptive', cool_therm_speed=5.0, dock_therm_speed=0.5, \\\n",
    "  T_HIGH=600.0, T_SIMMIN=300.0, T_TARGET=300.0, \\\n",
    "  sampler='HMC', \\\n",
    "  MCMC_moves=1, \\\n",
    "  sampling_importance_resampling = True, \\\n",
    "  solvation = 'Fractional', \\\n",
    "  seeds_per_state=10, steps_per_seed=200, darts_per_seed=0, \\\n",
    "  sweeps_per_cycle=25, attempts_per_sweep=100, \\\n",
    "  steps_per_sweep=100, darts_per_sweep=0, \\\n",
    "  cool_repX_cycles=3, dock_repX_cycles=4, \\\n",
    "  site='Sphere', site_center=[1.7416, 1.7416, 1.7416], \\\n",
    "  site_max_R=1.0, \\\n",
    "  site_density=10., \\\n",
    "  phases=phases, \\\n",
    "  cores=-1, \\\n",
    "  random_seed=-1, \\\n",
    "  max_time=240, \\\n",
    "  keep_intermediate=True)"
   ]
  },
  {
   "cell_type": "code",
   "execution_count": 6,
   "metadata": {
    "collapsed": false
   },
   "outputs": [
    {
     "data": {
      "text/plain": [
       "[17]"
      ]
     },
     "execution_count": 6,
     "metadata": {},
     "output_type": "execute_result"
    }
   ],
   "source": [
    "[n for n in range(len(self.dock_protocol)) if self.dock_protocol[n]['a']==0.5]"
   ]
  },
  {
   "cell_type": "code",
   "execution_count": 15,
   "metadata": {
    "collapsed": false
   },
   "outputs": [
    {
     "data": {
      "text/plain": [
       "[<matplotlib.lines.Line2D at 0x1094e07d0>]"
      ]
     },
     "execution_count": 15,
     "metadata": {},
     "output_type": "execute_result"
    },
    {
     "data": {
      "image/png": "[encoded data removed]",
      "text/plain": [
       "<matplotlib.figure.Figure at 0x109301490>"
      ]
     },
     "metadata": {},
     "output_type": "display_data"
    }
   ],
   "source": [
    "%matplotlib inline\n",
    "import matplotlib.pyplot as plt\n",
    "plt.plot([self.dock_protocol[n]['a'] for n in range(len(self.dock_protocol))], self.f_RL['grid_MBAR'][-1],'.-')"
   ]
  },
  {
   "cell_type": "code",
   "execution_count": 14,
   "metadata": {
    "collapsed": false
   },
   "outputs": [
    {
     "data": {
      "text/plain": [
       "[<matplotlib.lines.Line2D at 0x1094c9910>]"
      ]
     },
     "execution_count": 14,
     "metadata": {},
     "output_type": "execute_result"
    },
    {
     "data": {
      "image/png": "[encoded data removed]",
      "text/plain": [
       "<matplotlib.figure.Figure at 0x109312fd0>"
      ]
     },
     "metadata": {},
     "output_type": "display_data"
    }
   ],
   "source": [
    "plt.plot(self.f_L['cool_MBAR'][-1])"
   ]
  },
  {
   "cell_type": "code",
   "execution_count": null,
   "metadata": {
    "collapsed": true
   },
   "outputs": [],
   "source": []
  }
 ],
 "metadata": {
  "kernelspec": {
   "display_name": "Python 2",
   "language": "python",
   "name": "python2"
  },
  "language_info": {
   "codemirror_mode": {
    "name": "ipython",
    "version": 2
   },
   "file_extension": ".py",
   "mimetype": "text/x-python",
   "name": "python",
   "nbconvert_exporter": "python",
   "pygments_lexer": "ipython2",
   "version": "2.7.11"
  }
 },
 "nbformat": 4,
 "nbformat_minor": 2
}
