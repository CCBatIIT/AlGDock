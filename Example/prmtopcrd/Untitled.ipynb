{
 "cells": [
  {
   "cell_type": "code",
   "execution_count": 1,
   "metadata": {
    "collapsed": true
   },
   "outputs": [],
   "source": [
    "import AlGDock.IO"
   ]
  },
  {
   "cell_type": "code",
   "execution_count": 3,
   "metadata": {
    "collapsed": true
   },
   "outputs": [],
   "source": [
    "dock6_reader = AlGDock.IO.dock6_mol2()"
   ]
  },
  {
   "cell_type": "code",
   "execution_count": 11,
   "metadata": {
    "collapsed": true
   },
   "outputs": [],
   "source": [
    "import glob\n",
    "FNs = glob.glob('/Users/dminh/clusters/CCB/AstexDiv_xtal/4-UCSF_dock6/*/anchor_and_grow_scored.mol2')"
   ]
  },
  {
   "cell_type": "code",
   "execution_count": 17,
   "metadata": {
    "collapsed": false
   },
   "outputs": [],
   "source": [
    "Es = []\n",
    "for FN in FNs:\n",
    "  (crd,E) = dock6_reader.read(FN)\n",
    "  Es.append(E['Grid Score'][0])"
   ]
  },
  {
   "cell_type": "code",
   "execution_count": 23,
   "metadata": {
    "collapsed": false
   },
   "outputs": [
    {
     "name": "stdout",
     "output_type": "stream",
     "text": [
      "-49.696400, -46.778893, -49.174583, -50.000267, -49.942337, -61.261330, -52.734730, -87.068512, -63.813042, -47.328041, -47.790573, -51.752815, -44.924656, -59.676674, -142.024063, -62.943737, -62.798122, -51.957062, -90.703568, -47.274483, -77.849129, -70.319695, -55.785995, -66.946449, -57.509949, -64.972610, -60.139137, -50.216354, -31.280252, -42.059086, -47.940025, -57.354794, -53.077812, -27.718000, -66.265671, -68.750397, -49.486176, -62.972836, -43.568989, -44.946728, -64.544777, -73.002541, -45.804638, -48.840748, -72.563721, -65.174347, -74.339218, -42.564304, -72.746826, -66.562538, -46.522564, -79.734795, -45.320724, -50.879410, -66.549042, -90.122864, -55.933350, -43.502815, -59.736088, -33.874935, -56.727280, -43.172024, -80.539093, -55.963413, -46.928852, -59.915604, -80.472404, -38.396168, -74.262383, -25.706045, -36.053413, -38.025719, -54.032681, -56.631989, -56.325764, -68.197800, -69.150932, -47.704582, -56.682205, -56.826077, -66.045982, -63.594429, -70.170219, -51.994556, -63.950523, "
     ]
    }
   ],
   "source": [
    "import sys\n",
    "for E in Es:\n",
    "  sys.stdout.write('%f, '%E)"
   ]
  },
  {
   "cell_type": "code",
   "execution_count": null,
   "metadata": {
    "collapsed": true
   },
   "outputs": [],
   "source": []
  }
 ],
 "metadata": {
  "kernelspec": {
   "display_name": "Python 2",
   "language": "python",
   "name": "python2"
  },
  "language_info": {
   "codemirror_mode": {
    "name": "ipython",
    "version": 2
   },
   "file_extension": ".py",
   "mimetype": "text/x-python",
   "name": "python",
   "nbconvert_exporter": "python",
   "pygments_lexer": "ipython2",
   "version": "2.7.11"
  }
 },
 "nbformat": 4,
 "nbformat_minor": 2
}
