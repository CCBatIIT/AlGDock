{
 "cells": [
  {
   "cell_type": "code",
   "execution_count": 1,
   "metadata": {
    "collapsed": false
   },
   "outputs": [
    {
     "name": "stdout",
     "output_type": "stream",
     "text": [
      "###########\n",
      "# AlGDock #\n",
      "###########\n",
      "Molecular docking with adaptively scaled alchemical interaction grids\n",
      "\n",
      "in /Users/dminh/Applications/miniconda2/envs/algdock/lib/python2.7/site-packages/AlGDock/BindingPMF.py\n",
      "last modified Sun Dec 31 16:36:17 2017\n",
      "    \n",
      "using 4/4 available cores\n",
      "using random number seed of -1\n",
      "  no progress information for dock\n",
      "  no progress information for cool\n",
      "\n",
      "*** Directories ***\n",
      "  start: /Users/dminh/Installers/AlGDock-0.0.1/Example\n",
      "  cool: /Users/dminh/Installers/AlGDock-0.0.1/Example/cool\n",
      "  dock: /Users/dminh/Installers/AlGDock-0.0.1/Example/dock\n",
      "\n",
      "*** Files ***\n",
      "  ligand_database: prmtopcrd/ligand.db\n",
      "  receptor_database: None\n",
      "  forcefield: ../Data/gaff2.dat\n",
      "  frcmodList: ['/Users/dminh/Installers/AlGDock-0.0.1/Example/prmtopcrd/ligand.frcmod']\n",
      "  prmtop:\n",
      "    L: prmtopcrd/ligand.prmtop\n",
      "    R: prmtopcrd/receptor.prmtop\n",
      "    RL: prmtopcrd/complex.prmtop\n",
      "  inpcrd:\n",
      "    L: prmtopcrd/ligand.trans.inpcrd\n",
      "    R: prmtopcrd/receptor.trans.inpcrd\n",
      "    RL: prmtopcrd/complex.trans.inpcrd\n",
      "  mol2:\n",
      "    L: prmtopcrd/ligand.mol2\n",
      "  fixed_atoms:\n",
      "    R: prmtopcrd/receptor.pdb\n",
      "    RL: prmtopcrd/complex.pdb\n",
      "  grids:\n",
      "    LJr: grids/LJr.nc\n",
      "    LJa: grids/LJa.nc\n",
      "    sELE: grids/pbsa.nc\n",
      "    ELE: grids/direct_ELE.nc\n",
      "    desolv: grids/desolv.nc\n",
      "  score: prmtopcrd/anchor_and_grow_scored.mol2\n",
      "  dir_cool: cool\n",
      "          DOES NOT EXIST\n",
      "\n",
      "ligand residue name: iga\n",
      "\n",
      "*** Simulation parameters and constants ***\n",
      "\n",
      "for cool:\n",
      "  protocol: Adaptive\n",
      "  therm_speed: 5.0\n",
      "  T_HIGH: 600.0\n",
      "  T_SIMMIN: 300.0\n",
      "  T_TARGET: 300.0\n",
      "  H_mass: 4.0\n",
      "  fraction_CD: 0.5\n",
      "  CD_steps_per_trial: 5\n",
      "  delta_t: 4.0\n",
      "  sampler: HMC\n",
      "  steps_per_seed: 200\n",
      "  seeds_per_state: 10\n",
      "  darts_per_seed: 0\n",
      "  repX_cycles: 3\n",
      "  min_repX_acc: 0.4\n",
      "  sweeps_per_cycle: 25\n",
      "  snaps_per_cycle: 50\n",
      "  attempts_per_sweep: 100\n",
      "  steps_per_sweep: 100\n",
      "  darts_per_sweep: 0\n",
      "  phases: ['NAMD_Gas', 'NAMD_OBC']\n",
      "  sampling_importance_resampling: True\n",
      "  solvation: Fractional\n",
      "  keep_intermediate: True\n",
      "  GMC_attempts: 0\n",
      "  GMC_tors_threshold: 0.0\n",
      "  delta_t_CD: 4.0\n",
      "\n",
      "for dock:\n",
      "  protocol: Adaptive\n",
      "  therm_speed: 0.5\n",
      "  T_HIGH: 600.0\n",
      "  T_SIMMIN: 300.0\n",
      "  T_TARGET: 300.0\n",
      "  H_mass: 4.0\n",
      "  fraction_CD: 0.5\n",
      "  CD_steps_per_trial: 5\n",
      "  delta_t: 4.0\n",
      "  sampler: HMC\n",
      "  steps_per_seed: 200\n",
      "  seeds_per_state: 10\n",
      "  darts_per_seed: 0\n",
      "  repX_cycles: 4\n",
      "  min_repX_acc: 0.4\n",
      "  sweeps_per_cycle: 25\n",
      "  snaps_per_cycle: 50\n",
      "  attempts_per_sweep: 100\n",
      "  steps_per_sweep: 100\n",
      "  darts_per_sweep: 0\n",
      "  phases: ['NAMD_Gas', 'NAMD_OBC']\n",
      "  sampling_importance_resampling: True\n",
      "  solvation: Fractional\n",
      "  keep_intermediate: True\n",
      "  GMC_attempts: 0\n",
      "  GMC_tors_threshold: 0.0\n",
      "  temperature_scaling: Linear\n",
      "  site: Sphere\n",
      "  site_center: array([ 1.7416,  1.7416,  1.7416])\n",
      "  site_max_R: 0.6\n",
      "  site_density: 10.0\n",
      "  pose: -1\n",
      "  k_pose: 1000.0\n",
      "  MCMC_moves: 1\n",
      "  rmsd: True\n",
      "  delta_t_CD: 4.0\n"
     ]
    }
   ],
   "source": [
    "import AlGDock.BindingPMF_plots\n",
    "from AlGDock.BindingPMF_plots import *\n",
    "import os, shutil, glob\n",
    "\n",
    "phases = ['NAMD_Gas', 'NAMD_OBC']\n",
    "\n",
    "self = AlGDock.BindingPMF_plots.BPMF_plots(\\\n",
    "  dir_dock='dock', dir_cool='cool',\\\n",
    "  ligand_database='prmtopcrd/ligand.db', \\\n",
    "  forcefield='prmtopcrd/gaff2.dat', \\\n",
    "  ligand_prmtop='prmtopcrd/ligand.prmtop', \\\n",
    "  ligand_inpcrd='prmtopcrd/ligand.trans.inpcrd', \\\n",
    "  ligand_mol2='prmtopcrd/ligand.mol2', \\\n",
    "  ligand_rb='prmtopcrd/ligand.rb', \\\n",
    "  receptor_prmtop='prmtopcrd/receptor.prmtop', \\\n",
    "  receptor_inpcrd='prmtopcrd/receptor.trans.inpcrd', \\\n",
    "  receptor_fixed_atoms='prmtopcrd/receptor.pdb', \\\n",
    "  complex_prmtop='prmtopcrd/complex.prmtop', \\\n",
    "  complex_inpcrd='prmtopcrd/complex.trans.inpcrd', \\\n",
    "  complex_fixed_atoms='prmtopcrd/complex.pdb', \\\n",
    "  score = 'prmtopcrd/anchor_and_grow_scored.mol2', \\\n",
    "  pose=-1, \\\n",
    "  rmsd=True, \\\n",
    "  dir_grid='grids', \\\n",
    "  protocol='Adaptive', cool_therm_speed=5.0, dock_therm_speed=0.5, \\\n",
    "  T_HIGH=600.0, T_SIMMIN=300.0, T_TARGET=300.0, \\\n",
    "  sampler='HMC', \\\n",
    "  MCMC_moves=1, \\\n",
    "  sampling_importance_resampling = True, \\\n",
    "  solvation = 'Fractional', \\\n",
    "  seeds_per_state=10, steps_per_seed=200, darts_per_seed=0, \\\n",
    "  sweeps_per_cycle=25, attempts_per_sweep=100, \\\n",
    "  steps_per_sweep=100, darts_per_sweep=0, \\\n",
    "  cool_repX_cycles=3, dock_repX_cycles=4, \\\n",
    "  site='Sphere', site_center=[1.7416, 1.7416, 1.7416], \\\n",
    "  site_max_R=0.6, \\\n",
    "  site_density=10., \\\n",
    "  phases=phases, \\\n",
    "  cores=-1, \\\n",
    "  random_seed=-1, \\\n",
    "  max_time=240, \\\n",
    "  keep_intermediate=True)"
   ]
  },
  {
   "cell_type": "code",
   "execution_count": 2,
   "metadata": {
    "collapsed": false
   },
   "outputs": [
    {
     "name": "stdout",
     "output_type": "stream",
     "text": [
      "  OBC grid loaded from desolv.nc in 0.10 s\n",
      "  LJr grid loaded from LJr.nc in 0.51 s\n",
      "  LJa grid loaded from LJa.nc in 0.22 s\n",
      "  ELE grid loaded from direct_ELE.nc in 0.30 s\n"
     ]
    },
    {
     "data": {
      "text/plain": [
       "{'ELE': -502.2617072178208,\n",
       " 'LJa': -281.57549305023628,\n",
       " 'LJr': 186.28414797797012,\n",
       " 'Lennard-Jones': 21.413802964373939,\n",
       " 'OBC_desolv': -226.53086550823375,\n",
       " 'cosine dihedral angle': 1.0999459308051078,\n",
       " 'electrostatic': 51.402086447910861,\n",
       " 'electrostatic/pair sum': 51.402086447910861,\n",
       " 'harmonic bond': 31.147260184927156,\n",
       " 'harmonic bond angle': 24.155664120012112,\n",
       " 'site': 0.0}"
      ]
     },
     "execution_count": 2,
     "metadata": {},
     "output_type": "execute_result"
    }
   ],
   "source": [
    "self.universe.setConfiguration(Configuration(self.universe,self.confs['ligand']))\n",
    "self._set_universe_evaluator(self._lambda(1.0, 'dock'))\n",
    "self.universe.energyTerms()\n",
    "# Before the unit fix, OBC_desolv is -358.92191041097993"
   ]
  },
  {
   "cell_type": "code",
   "execution_count": 3,
   "metadata": {
    "collapsed": false
   },
   "outputs": [
    {
     "name": "stdout",
     "output_type": "stream",
     "text": [
      "/Users/dminh/Installers/AlGDock-0.0.1/Example/grids/desolv.nc\n"
     ]
    }
   ],
   "source": [
    "print self._forceFields['OBC'].desolvationGridFN"
   ]
  },
  {
   "cell_type": "code",
   "execution_count": 4,
   "metadata": {
    "collapsed": true
   },
   "outputs": [],
   "source": [
    "# First goal: Get GB radii for ligand.\n",
    "# Second goal: Load receptor\n",
    "# Third goal: Get GB radii for ligand with receptor present"
   ]
  },
  {
   "cell_type": "code",
   "execution_count": 5,
   "metadata": {
    "collapsed": false
   },
   "outputs": [],
   "source": [
    "# This is to test the gradients, which do not work\n",
    "# from AlGDock.ForceFields.OBC.OBC import OBCForceField\n",
    "# FF_desolv = OBCForceField(desolvationGridFN=self._FNs['grids']['desolv'])\n",
    "# self.universe.setForceField(FF_desolv)\n",
    "\n",
    "# from MMTK.ForceFields.ForceFieldTest import gradientTest\n",
    "#\n",
    "# gradientTest(self.universe)"
   ]
  },
  {
   "cell_type": "code",
   "execution_count": 6,
   "metadata": {
    "collapsed": false
   },
   "outputs": [
    {
     "name": "stderr",
     "output_type": "stream",
     "text": [
      "Warning: multiple database entries for\n",
      "         /Users/dminh/Installers/AlGDock-0.0.1/Example/prmtopcrd/receptor.db,\n",
      "         using first one\n",
      "/Users/dminh/Installers/AlGDock-0.0.1/Example/prmtopcrd/receptor.db\n",
      "/Users/dminh/Installers/AlGDock-0.0.1/Example/prmtopcrd/receptor.db\n"
     ]
    },
    {
     "name": "stdout",
     "output_type": "stream",
     "text": [
      "{'OBC': -150541.25350378072}\n",
      "36.2632181644\n"
     ]
    }
   ],
   "source": [
    "# This is the receptor without the ligand\n",
    "self.receptor_R = MMTK.Molecule('receptor.db')\n",
    "\n",
    "self.universe_R = MMTK.Universe.InfiniteUniverse()\n",
    "self.universe_R.addObject(self.receptor_R)\n",
    "\n",
    "# Getting the AMBER energy appears to work\n",
    "# from MMTK.ForceFields import Amber12SBForceField\n",
    "# self._forceFields['AMBER'] = \\\n",
    "#   Amber12SBForceField(\\\n",
    "#     mod_files=['/Users/dminh/Installers/AlGDock-0.0.1/Data/frcmod.ff14SB',\n",
    "#                '/Users/dminh/Installers/AlGDock-0.0.1/Example/prmtopcrd/R2773.frcmod',\n",
    "#                '/Users/dminh/Installers/AlGDock-0.0.1/Example/prmtopcrd/R2777.frcmod'])\n",
    "# Specifying the main force field file seems to make the energy calculation crash\n",
    "#    '/Users/dminh/Installers/AlGDock-0.0.1/Data/parm10_gaff2.dat',   \n",
    "# self.universe_R.setForceField(self._forceFields['AMBER'])\n",
    "# print self.universe_R.energyTerms()\n",
    "\n",
    "from AlGDock.ForceFields.OBC.OBC import OBCForceField\n",
    "self.universe_R.setForceField(OBCForceField())\n",
    "\n",
    "import time\n",
    "start_time = time.time()\n",
    "print self.universe_R.energyTerms()\n",
    "print time.time() - start_time, 's'"
   ]
  },
  {
   "cell_type": "code",
   "execution_count": 7,
   "metadata": {
    "collapsed": false
   },
   "outputs": [],
   "source": [
    "# This is the protein alone\n",
    "# import MMTK\n",
    "# universe = MMTK.Universe.InfiniteUniverse()\n",
    "\n",
    "# from MMTK.Proteins import Protein\n",
    "# protein = Protein('/Users/dminh/Installers/AlGDock-0.0.1/Example/prmtopcrd/receptor.pdb')\n",
    "# universe.addObject(protein)\n",
    "\n",
    "# from MMTK.ForceFields import Amber12SBForceField\n",
    "# forcefield = Amber12SBForceField(mod_files=['/Users/dminh/Installers/AlGDock-0.0.1/Data/frcmod.ff14SB'])\n",
    "#     # '/Users/dminh/Installers/AlGDock-0.0.1/Data/parm10.dat', \n",
    "#     # mod_files=['/Users/dminh/Installers/AlGDock-0.0.1/Data/frcmod.ff14SB'])\n",
    "# universe.setForceField(forcefield)\n",
    "# universe.energyTerms()"
   ]
  },
  {
   "cell_type": "code",
   "execution_count": 7,
   "metadata": {
    "collapsed": false
   },
   "outputs": [
    {
     "name": "stdout",
     "output_type": "stream",
     "text": [
      "{'OBC': -150609.60677667416}\n",
      "36.0361831188\n"
     ]
    }
   ],
   "source": [
    "self.receptor_RL = MMTK.Molecule('receptor.db')\n",
    "self.molecule_RL = MMTK.Molecule(os.path.basename(self._FNs['ligand_database']))\n",
    "for (atom,pos) in zip(self.molecule_RL.atomList(),self.confs['ligand']):\n",
    "  atom.setPosition(pos)\n",
    "\n",
    "self.universe_RL = MMTK.Universe.InfiniteUniverse()\n",
    "self.universe_RL.addObject(self.receptor_RL)\n",
    "self.universe_RL.addObject(self.molecule_RL)\n",
    "self.universe_RL.configuration().array[-len(self.universe.configuration().array):,:] = self.universe.configuration().array\n",
    "\n",
    "from AlGDock.ForceFields.OBC.OBC import OBCForceField\n",
    "self.universe_RL.setForceField(OBCForceField())\n",
    "\n",
    "import time\n",
    "start_time = time.time()\n",
    "print self.universe_RL.energyTerms()\n",
    "print time.time() - start_time"
   ]
  },
  {
   "cell_type": "code",
   "execution_count": 9,
   "metadata": {
    "collapsed": true
   },
   "outputs": [],
   "source": [
    "# The columns are before and after fractional desolvation and in the complex\n",
    "I = np.array(\n",
    "[( 1.55022, 1.66261, 2.90035 ),\n",
    " ( 1.56983, 1.68106, 2.82747 ),\n",
    " ( 1.41972, 1.53815, 2.8298  ),\n",
    " ( 1.45936, 1.58425, 2.84062 ),\n",
    " ( 2.05316, 2.15476, 3.24919 ),\n",
    " ( 1.5354,  1.65705, 2.93556 ),\n",
    " ( 1.43417, 1.56071, 3.04796 ),\n",
    " ( 1.85508, 1.9636 , 3.13083 ),\n",
    " ( 2.06909, 2.17661, 3.35871 ),\n",
    " ( 2.4237, 2.57502 , 4.41055 ),\n",
    " ( 1.9603, 2.16599 , 4.35363 ),\n",
    " ( 2.18017, 2.32447, 3.89703 ),\n",
    " ( 2.19774, 2.32646, 3.68217 ),\n",
    " ( 2.02152, 2.16213, 3.76695 ),\n",
    " ( 2.05662, 2.21947, 3.8166  ),\n",
    " ( 2.65659, 2.79067, 4.25442 ),\n",
    " ( 2.81839, 2.9631 , 4.4784  ),\n",
    " ( 2.90653, 3.02582, 4.34538 ),\n",
    " ( 2.37779, 2.5372 , 4.38744 ),\n",
    " ( 2.17795, 2.32426, 4.23382 ),\n",
    " ( 1.77652, 1.89423, 3.35642 ),\n",
    " ( 1.22359, 1.38423, 3.22575 ),\n",
    " ( 1.2336, 1.40284 , 3.49822 ),\n",
    " ( 1.21771, 1.37135, 3.07989 )])"
   ]
  },
  {
   "cell_type": "code",
   "execution_count": 10,
   "metadata": {
    "collapsed": true
   },
   "outputs": [],
   "source": [
    "%matplotlib inline\n",
    "import matplotlib.pyplot as plt"
   ]
  },
  {
   "cell_type": "code",
   "execution_count": 11,
   "metadata": {
    "collapsed": false
   },
   "outputs": [
    {
     "name": "stdout",
     "output_type": "stream",
     "text": [
      "The correlation is 0.940328533713\n",
      "The linear least squares regression slope is 12.6407980837 and intercept is -0.0674710984723\n"
     ]
    },
    {
     "data": {
      "image/png": "[encoded data removed]",
      "text/plain": [
       "<matplotlib.figure.Figure at 0x113ced3d0>"
      ]
     },
     "metadata": {},
     "output_type": "display_data"
    }
   ],
   "source": [
    "# This is the different between the quantity added by fractional desolvation and by the full complex\n",
    "diff_frac = I[:,1]-I[:,0]\n",
    "diff_real = I[:,2]-I[:,0]\n",
    "plt.plot(diff_frac, diff_real,'.')\n",
    "\n",
    "A = np.vstack([diff_frac, np.ones(len(diff_frac))]).T\n",
    "m,c = np.linalg.lstsq(A, diff_real)[0]\n",
    "\n",
    "plt.plot(diff_frac, m*diff_frac + c, 'r')\n",
    "\n",
    "print 'The correlation is', np.corrcoef(diff_frac,diff_real)[0,1]\n",
    "print 'The linear least squares regression slope is', m, 'and intercept is', c"
   ]
  },
  {
   "cell_type": "markdown",
   "metadata": {},
   "source": [
    "## Igrid[atomI] appears to be off by a factor of 12.6!"
   ]
  },
  {
   "cell_type": "code",
   "execution_count": 12,
   "metadata": {
    "collapsed": false
   },
   "outputs": [
    {
     "name": "stdout",
     "output_type": "stream",
     "text": [
      "6.14285714286\n",
      "0.614285714286\n"
     ]
    }
   ],
   "source": [
    "# This is probably due to a unit conversion in a multiplicative prefactor\n",
    "\n",
    "# This multiplicative prefactor is based on nanometers\n",
    "r_min = 0.14\n",
    "r_max = 1.0\n",
    "print (1/r_min - 1/r_max)\n",
    "\n",
    "# This multiplicative prefactor is based on angstroms\n",
    "r_min = 1.4\n",
    "r_max = 10.0\n",
    "print (1/r_min - 1/r_max)"
   ]
  },
  {
   "cell_type": "markdown",
   "metadata": {},
   "source": [
    "## Switching from nanometers to angstroms makes the multiplicative prefactor smaller, which is opposite of the desired effect!"
   ]
  },
  {
   "cell_type": "code",
   "execution_count": 13,
   "metadata": {
    "collapsed": false
   },
   "outputs": [
    {
     "data": {
      "text/plain": [
       "12.566370614359172"
      ]
     },
     "execution_count": 13,
     "metadata": {},
     "output_type": "execute_result"
    }
   ],
   "source": [
    "4*np.pi"
   ]
  },
  {
   "cell_type": "markdown",
   "metadata": {},
   "source": [
    "## Igrid[atomI] appears to be off by a factor of 4*pi!"
   ]
  },
  {
   "cell_type": "code",
   "execution_count": null,
   "metadata": {
    "collapsed": true
   },
   "outputs": [],
   "source": [
    "# This is after multiplication by 4*pi\n",
    "# Sum for atom 0: 1.55022, 2.96246\n",
    "# Sum for atom 1: 1.56983, 2.96756\n",
    "# Sum for atom 2: 1.41972, 2.90796\n",
    "# Sum for atom 3: 1.45936, 3.02879\n",
    "# Sum for atom 4: 2.05316, 3.32989\n",
    "# Sum for atom 5: 1.5354, 3.06405\n",
    "# Sum for atom 6: 1.43417, 3.02438\n",
    "# Sum for atom 7: 1.85508, 3.21875\n",
    "# Sum for atom 8: 2.06909, 3.42013\n",
    "# Sum for atom 9: 2.4237, 4.32524\n",
    "# Sum for atom 10: 1.9603, 4.54512\n",
    "# Sum for atom 11: 2.18017, 3.99349\n",
    "# Sum for atom 12: 2.19774, 3.8152\n",
    "# Sum for atom 13: 2.02152, 3.7884\n",
    "# Sum for atom 14: 2.05662, 4.10305\n",
    "# Sum for atom 15: 2.65659, 4.34157\n",
    "# Sum for atom 16: 2.81839, 4.63688\n",
    "# Sum for atom 17: 2.90653, 4.40561\n",
    "# Sum for atom 18: 2.37779, 4.38092\n",
    "# Sum for atom 19: 2.17795, 4.01659\n",
    "# Sum for atom 20: 1.77652, 3.25573\n",
    "# Sum for atom 21: 1.22359, 3.24223\n",
    "# Sum for atom 22: 1.2336, 3.3604\n",
    "# Sum for atom 23: 1.21771, 3.1483"
   ]
  }
 ],
 "metadata": {
  "kernelspec": {
   "display_name": "Python 2",
   "language": "python",
   "name": "python2"
  },
  "language_info": {
   "codemirror_mode": {
    "name": "ipython",
    "version": 2
   },
   "file_extension": ".py",
   "mimetype": "text/x-python",
   "name": "python",
   "nbconvert_exporter": "python",
   "pygments_lexer": "ipython2",
   "version": "2.7.11"
  }
 },
 "nbformat": 4,
 "nbformat_minor": 2
}
