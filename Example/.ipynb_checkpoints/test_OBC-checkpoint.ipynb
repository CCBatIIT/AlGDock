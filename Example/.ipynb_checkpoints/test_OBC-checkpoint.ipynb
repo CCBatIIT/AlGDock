{
 "cells": [
  {
   "cell_type": "code",
   "execution_count": 1,
   "metadata": {
    "collapsed": false
   },
   "outputs": [
    {
     "name": "stdout",
     "output_type": "stream",
     "text": [
      "###########\n",
      "# AlGDock #\n",
      "###########\n",
      "Molecular docking with adaptively scaled alchemical interaction grids\n",
      "\n",
      "in /Users/dminh/Applications/miniconda2/envs/algdock/lib/python2.7/site-packages/AlGDock/BindingPMF.py\n",
      "last modified Mon Dec 19 04:01:19 2016\n",
      "    \n",
      "using 4/4 available cores\n",
      "using random number seed of -1\n",
      "\n",
      "*** Directories ***\n",
      "  start: /Users/dminh/Installers/AlGDock-0.0.1/Example\n",
      "  cool: /Users/dminh/Installers/AlGDock-0.0.1/Example/cool\n",
      "  dock: /Users/dminh/Installers/AlGDock-0.0.1/Example/dock\n",
      "\n",
      ">>> Decompressing tarballs\n",
      "looking for:\n",
      "  complex.trans.inpcrd\n",
      "  complex.pdb\n",
      "  ligand.mol2\n",
      "  receptor.trans.inpcrd\n",
      "  ligand.trans.inpcrd\n",
      "  ligand.prmtop\n",
      "  ligand.db\n",
      "  receptor.pdb\n",
      "  complex.prmtop\n",
      "  ligand.rb\n",
      "  receptor.prmtop\n",
      "  and frcmod files\n",
      "reading prmtopcrd/receptor.tar.gz\n",
      "  extracted receptor.pdb\n",
      "  extracted receptor.prmtop\n",
      "  extracted receptor.trans.inpcrd\n",
      "reading /Users/dminh/Installers/AlGDock-0.0.1/Example/prmtopcrd/ligand.tar.gz\n",
      "  extracted ligand.db\n",
      "  extracted ligand.mol2\n",
      "  extracted ligand.prmtop\n",
      "  extracted ligand.rb\n",
      "  extracted ligand.trans.inpcrd\n",
      "reading prmtopcrd/ligand.tar.gz\n",
      "  extracted ligand.db\n",
      "  extracted ligand.mol2\n",
      "  extracted ligand.prmtop\n",
      "  extracted ligand.rb\n",
      "  extracted ligand.trans.inpcrd\n",
      "reading prmtopcrd/complex.tar.gz\n",
      "  extracted complex.pdb\n",
      "  extracted complex.prmtop\n",
      "  extracted complex.trans.inpcrd\n",
      "reading /Users/dminh/Installers/AlGDock-0.0.1/Example/prmtopcrd/receptor.tar.gz\n",
      "  extracted receptor.pdb\n",
      "  extracted receptor.prmtop\n",
      "  extracted receptor.trans.inpcrd\n",
      "reading /Users/dminh/Installers/AlGDock-0.0.1/Example/prmtopcrd/complex.tar.gz\n",
      "  extracted complex.pdb\n",
      "  extracted complex.prmtop\n",
      "  extracted complex.trans.inpcrd\n",
      "\n",
      "*** Files ***\n",
      "previously stored in cool directory:\n",
      "  prmtop:\n",
      "    L: dock/ligand.prmtop\n",
      "  ligand_database: dock/ligand.db\n",
      "  tarball:\n",
      "    L: prmtopcrd/ligand.tar.gz\n",
      "  forcefield: prmtopcrd/gaff.dat\n",
      "  inpcrd:\n",
      "    L: dock/ligand.trans.inpcrd\n",
      "\n",
      "previously stored in dock directory:\n",
      "  namd: ../../../Applications/NAMD_2.10/namd2\n",
      "  grids:\n",
      "    LJr: grids/LJr.nc\n",
      "    LJa: grids/LJa.nc\n",
      "    ELE: grids/pbsa.nc\n",
      "  prmtop:\n",
      "    L: dock/ligand.prmtop\n",
      "    R: dock/receptor.prmtop\n",
      "    RL: dock/complex.prmtop\n",
      "  ligand_database: dock/ligand.db\n",
      "  fixed_atoms:\n",
      "    R: dock/receptor.pdb\n",
      "    RL: dock/complex.pdb\n",
      "  mol2:\n",
      "    L: dock/ligand.mol2\n",
      "  tarball:\n",
      "    L: prmtopcrd/ligand.tar.gz\n",
      "    R: prmtopcrd/receptor.tar.gz\n",
      "    RL: prmtopcrd/complex.tar.gz\n",
      "  score: prmtopcrd/anchor_and_grow_scored.mol2\n",
      "  forcefield: prmtopcrd/gaff.dat\n",
      "  rb:\n",
      "    L: dock/ligand.rb\n",
      "  dir_cool: cool\n",
      "  inpcrd:\n",
      "    L: dock/ligand.trans.inpcrd\n",
      "    R: dock/receptor.trans.inpcrd\n",
      "    RL: dock/complex.trans.inpcrd\n",
      "\n",
      "from arguments and defaults:\n",
      "  ligand_database: dock/ligand.db\n",
      "  forcefield: prmtopcrd/gaff.dat\n",
      "  tarball:\n",
      "    L: prmtopcrd/ligand.tar.gz\n",
      "    R: prmtopcrd/receptor.tar.gz\n",
      "    RL: prmtopcrd/complex.tar.gz\n",
      "  prmtop:\n",
      "    L: dock/ligand.prmtop\n",
      "    R: dock/receptor.prmtop\n",
      "    RL: dock/complex.prmtop\n",
      "  inpcrd:\n",
      "    L: dock/ligand.trans.inpcrd\n",
      "    R: dock/receptor.trans.inpcrd\n",
      "    RL: dock/complex.trans.inpcrd\n",
      "  mol2:\n",
      "    L: dock/ligand.mol2\n",
      "  rb:\n",
      "    L: dock/ligand.rb\n",
      "  fixed_atoms:\n",
      "    R: dock/receptor.pdb\n",
      "    RL: dock/complex.pdb\n",
      "  grids:\n",
      "    LJr: grids/LJr.nc\n",
      "    LJa: grids/LJa.nc\n",
      "    ELE: grids/pbsa.nc\n",
      "  score: prmtopcrd/anchor_and_grow_scored.mol2\n",
      "  dir_cool: cool\n",
      "\n",
      "to be used:\n",
      "  ligand_database: dock/ligand.db\n",
      "  forcefield: prmtopcrd/gaff.dat\n",
      "  frcmodList: ['/Users/dminh/Installers/AlGDock-0.0.1/Example/dock/ligand.frcmod']\n",
      "  tarball:\n",
      "    L: prmtopcrd/ligand.tar.gz\n",
      "    R: prmtopcrd/receptor.tar.gz\n",
      "    RL: prmtopcrd/complex.tar.gz\n",
      "  prmtop:\n",
      "    L: dock/ligand.prmtop\n",
      "    R: dock/receptor.prmtop\n",
      "    RL: dock/complex.prmtop\n",
      "  inpcrd:\n",
      "    L: dock/ligand.trans.inpcrd\n",
      "    R: dock/receptor.trans.inpcrd\n",
      "    RL: dock/complex.trans.inpcrd\n",
      "  mol2:\n",
      "    L: dock/ligand.mol2\n",
      "  rb:\n",
      "    L: dock/ligand.rb\n",
      "  fixed_atoms:\n",
      "    R: dock/receptor.pdb\n",
      "    RL: dock/complex.pdb\n",
      "  grids:\n",
      "    LJr: grids/LJr.nc\n",
      "    LJa: grids/LJa.nc\n",
      "    ELE: grids/pbsa.nc\n",
      "  score: prmtopcrd/anchor_and_grow_scored.mol2\n",
      "  dir_cool: cool\n",
      "  namd: ../../../Applications/NAMD_2.10/namd2\n",
      "\n",
      ">>> Setting up the simulation\n",
      "  considering a residue named \"iga\" as the ligand\n",
      "\n",
      "*** Simulation parameters and constants ***\n",
      "\n",
      "for cool:\n",
      "  protocol: Adaptive\n",
      "  therm_speed: 0.5\n",
      "  T_HIGH: 600.0\n",
      "  T_SIMMIN: 300.0\n",
      "  T_TARGET: 300.0\n",
      "  H_mass: 4.0\n",
      "  fraction_TD: 0.5\n",
      "  TD_steps_per_trial: 10\n",
      "  delta_t_TD: 4.0\n",
      "  delta_t: 3.0\n",
      "  sampler: HMC\n",
      "  steps_per_seed: 200\n",
      "  seeds_per_state: 10\n",
      "  darts_per_seed: 0\n",
      "  repX_cycles: 3\n",
      "  min_repX_acc: 0.4\n",
      "  sweeps_per_cycle: 25\n",
      "  attempts_per_sweep: 100\n",
      "  steps_per_sweep: 100\n",
      "  darts_per_sweep: 0\n",
      "  snaps_per_independent: 3.0\n",
      "  phases: ['NAMD_Gas', 'NAMD_OBC']\n",
      "  sampling_importance_resampling: True\n",
      "  keep_intermediate: False\n",
      "  GMC_attempts: 0\n",
      "  GMC_tors_threshold: 0.0\n",
      "\n",
      "for dock:\n",
      "  protocol: Adaptive\n",
      "  therm_speed: 0.5\n",
      "  T_HIGH: 600.0\n",
      "  T_SIMMIN: 300.0\n",
      "  T_TARGET: 300.0\n",
      "  H_mass: 4.0\n",
      "  fraction_TD: 0.5\n",
      "  TD_steps_per_trial: 10\n",
      "  delta_t_TD: 4.0\n",
      "  delta_t: 3.0\n",
      "  sampler: HMC\n",
      "  steps_per_seed: 200\n",
      "  seeds_per_state: 10\n",
      "  darts_per_seed: 0\n",
      "  repX_cycles: 4\n",
      "  min_repX_acc: 0.4\n",
      "  sweeps_per_cycle: 25\n",
      "  attempts_per_sweep: 100\n",
      "  steps_per_sweep: 100\n",
      "  darts_per_sweep: 0\n",
      "  snaps_per_independent: 20.0\n",
      "  phases: ['NAMD_Gas', 'NAMD_OBC']\n",
      "  sampling_importance_resampling: True\n",
      "  keep_intermediate: False\n",
      "  GMC_attempts: 0\n",
      "  GMC_tors_threshold: 0.0\n",
      "  site: Sphere\n",
      "  site_center: array([ 1.74395,  1.74395,  1.74395])\n",
      "  site_max_R: 0.6\n",
      "  site_density: 10.0\n",
      "  pose: -1\n",
      "  k_pose: 200.0\n",
      "  MCMC_moves: 1\n",
      "  rmsd: True\n",
      "  receptor_NAMD_Gas: array([[ 0.,  0.,  0.,  0.,  0.,  0.,  0.,  0.]])\n",
      "  receptor_NAMD_OBC: array([[     0.       ,      0.       ,      0.       ,      0.       ,\n",
      "        -40218.8790752,      0.       ,      0.       , -40218.8790752]])\n"
     ]
    }
   ],
   "source": [
    "execfile('test_python.py')"
   ]
  },
  {
   "cell_type": "code",
   "execution_count": 2,
   "metadata": {
    "collapsed": true
   },
   "outputs": [],
   "source": [
    "def time_loop(force_field_name):\n",
    "    import time\n",
    "    t = time.time()\n",
    "    for r in range(1000):\n",
    "        (en,grad)=self.universe.energyAndGradients()\n",
    "    print 'Time for %s: %.3f'%(force_field_name, time.time() - t)"
   ]
  },
  {
   "cell_type": "code",
   "execution_count": 3,
   "metadata": {
    "collapsed": false
   },
   "outputs": [
    {
     "name": "stdout",
     "output_type": "stream",
     "text": [
      "Time for MMTK: 0.221\n"
     ]
    }
   ],
   "source": [
    "self._set_universe_evaluator(self._lambda(1.0,process='cool'))\n",
    "time_loop('MMTK')"
   ]
  },
  {
   "cell_type": "code",
   "execution_count": 4,
   "metadata": {
    "collapsed": false
   },
   "outputs": [
    {
     "name": "stdout",
     "output_type": "stream",
     "text": [
      "Time for OpenMM_Gas: 10.129\n"
     ]
    }
   ],
   "source": [
    "from AlGDock.ForceFields.OpenMM.OpenMM import OpenMMForceField\n",
    "self._forceFields['OpenMM_Gas'] = OpenMMForceField(\n",
    "    self._FNs['prmtop']['L'], \\\n",
    "    self.molecule.prmtop_atom_order, \n",
    "    self.molecule.inv_prmtop_atom_order, \n",
    "    implicitSolvent='OpenMM_Gas')\n",
    "self.universe.setForceField(self._forceFields['OpenMM_Gas'])\n",
    "(en_OpenMM_Gas,grad_OpenMM_Gas)=self.universe.energyAndGradients()\n",
    "time_loop('OpenMM_Gas')"
   ]
  },
  {
   "cell_type": "code",
   "execution_count": 5,
   "metadata": {
    "collapsed": false
   },
   "outputs": [
    {
     "name": "stderr",
     "output_type": "stream",
     "text": [
      "/Users/dminh/Applications/miniconda2/envs/algdock/lib/python2.7/site-packages/simtk/openmm/app/internal/amber_file_parser.py:1010: UserWarning: Non-optimal GB parameters detected for GB model OBC2\n",
      "  'model %s' % gbmodel)\n"
     ]
    },
    {
     "name": "stdout",
     "output_type": "stream",
     "text": [
      "Time for OpenMM_OBC2: 12.668\n"
     ]
    }
   ],
   "source": [
    "from AlGDock.ForceFields.OpenMM.OpenMM import OpenMMForceField\n",
    "self._forceFields['OpenMM_OBC2'] = OpenMMForceField(\n",
    "    self._FNs['prmtop']['L'], \\\n",
    "    self.molecule.prmtop_atom_order, \n",
    "    self.molecule.inv_prmtop_atom_order, \n",
    "    implicitSolvent='OpenMM_OBC2')\n",
    "self.universe.setForceField(self._forceFields['OpenMM_OBC2'])\n",
    "(en_OpenMM_OBC2,grad_OpenMM_OBC2)=self.universe.energyAndGradients()\n",
    "time_loop('OpenMM_OBC2')"
   ]
  },
  {
   "cell_type": "code",
   "execution_count": 6,
   "metadata": {
    "collapsed": false
   },
   "outputs": [
    {
     "name": "stdout",
     "output_type": "stream",
     "text": [
      "\n",
      "        in /Users/dminh/Applications/miniconda2/envs/algdock/lib/python2.7/site-packages/AlGDock/ForceFields/OBC/MMTK_OBC.so\n",
      "        last modified Tue Dec 20 18:19:13 2016\n",
      "            \n",
      "Time for OBC: 0.458\n"
     ]
    }
   ],
   "source": [
    "from AlGDock.ForceFields.OBC.OBC import OBCForceField\n",
    "\n",
    "self._forceFields['OBC'] = OBCForceField(self._FNs['prmtop']['L'],\n",
    "                                         self.molecule.prmtop_atom_order,self.molecule.inv_prmtop_atom_order)\n",
    "self.universe.setForceField(self._forceFields['OBC'])\n",
    "(en_OBC,grad_OBC)=self.universe.energyAndGradients()\n",
    "time_loop('OBC')"
   ]
  },
  {
   "cell_type": "code",
   "execution_count": 7,
   "metadata": {
    "collapsed": false
   },
   "outputs": [
    {
     "data": {
      "text/plain": [
       "[<matplotlib.lines.Line2D at 0x10c523110>,\n",
       " <matplotlib.lines.Line2D at 0x10c5ba8d0>,\n",
       " <matplotlib.lines.Line2D at 0x10c5baad0>]"
      ]
     },
     "execution_count": 7,
     "metadata": {},
     "output_type": "execute_result"
    },
    {
     "data": {
      "image/png": "[encoded data removed]",
      "text/plain": [
       "<matplotlib.figure.Figure at 0x107a80450>"
      ]
     },
     "metadata": {},
     "output_type": "display_data"
    }
   ],
   "source": [
    "%matplotlib inline\n",
    "import matplotlib.pyplot as plt\n",
    "\n",
    "plt.plot(grad_OpenMM_OBC2-grad_OpenMM_Gas,grad_OBC,'.')"
   ]
  },
  {
   "cell_type": "code",
   "execution_count": 1,
   "metadata": {
    "collapsed": false
   },
   "outputs": [
    {
     "data": {
      "text/plain": [
       "3.072398190045249"
      ]
     },
     "execution_count": 1,
     "metadata": {},
     "output_type": "execute_result"
    }
   ],
   "source": [
    "(0.458+0.221)/0.221"
   ]
  },
  {
   "cell_type": "markdown",
   "metadata": {},
   "source": [
    "Calculations with the GBSA implicit solvent are expected to take 3x longer than without."
   ]
  },
  {
   "cell_type": "code",
   "execution_count": null,
   "metadata": {
    "collapsed": true
   },
   "outputs": [],
   "source": []
  }
 ],
 "metadata": {
  "kernelspec": {
   "display_name": "Python 2",
   "language": "python",
   "name": "python2"
  },
  "language_info": {
   "codemirror_mode": {
    "name": "ipython",
    "version": 2
   },
   "file_extension": ".py",
   "mimetype": "text/x-python",
   "name": "python",
   "nbconvert_exporter": "python",
   "pygments_lexer": "ipython2",
   "version": "2.7.11"
  }
 },
 "nbformat": 4,
 "nbformat_minor": 2
}
