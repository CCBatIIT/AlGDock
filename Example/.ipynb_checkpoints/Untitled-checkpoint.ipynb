{
 "cells": [
  {
   "cell_type": "code",
   "execution_count": null,
   "metadata": {
    "collapsed": true
   },
   "outputs": [],
   "source": [
    "for gridFN in ['grids/LJr.nc','grids/desolv.nc']:\n",
    "  if gridFN.endswith('.nc') and (not os.path.isfile(gridFN[:-2]+'dx')):\n",
    "    import AlGDock.IO\n",
    "    IO_Grid = AlGDock.IO.Grid()\n",
    "    IO_Grid.read(gridFN)\n",
    "    IO_Grid.write(gridFN[:-2]+'dx')\n",
    "\n",
    "# scriptFN = 'script.vmd'\n",
    "\n",
    "# script = ''\n",
    "# # script +=  'set ligand [mol new '+self.args['ligand_prmtop']+']\\n'\n",
    "# # script += 'mol addfile '+self.args['output_dcd']+' type dcd waitfor all\\n'\n",
    "# script += 'mol new {%s} type {dx} first 0 last -1 step 1 waitfor 1\\n'%(gridFN[:-2]+'dx')\n",
    "# script += 'mol modstyle 0 1 Isosurface 10.000000 0 2 0 1 1\\n'\n",
    "\n",
    "# scriptF = open(scriptFN,'w')\n",
    "# scriptF.write(script)\n",
    "# scriptF.close()"
   ]
  }
 ],
 "metadata": {
  "kernelspec": {
   "display_name": "Python 2",
   "language": "python",
   "name": "python2"
  },
  "language_info": {
   "codemirror_mode": {
    "name": "ipython",
    "version": 2
   },
   "file_extension": ".py",
   "mimetype": "text/x-python",
   "name": "python",
   "nbconvert_exporter": "python",
   "pygments_lexer": "ipython2",
   "version": "2.7.11"
  }
 },
 "nbformat": 4,
 "nbformat_minor": 2
}
