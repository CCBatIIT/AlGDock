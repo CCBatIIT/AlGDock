{
 "cells": [
  {
   "cell_type": "code",
   "execution_count": 1,
   "metadata": {
    "collapsed": false
   },
   "outputs": [
    {
     "name": "stdout",
     "output_type": "stream",
     "text": [
      "  extracted /Users/dminh/Installers/AlGDock-0.0.1/Example/ligand.db\n",
      "  extracted /Users/dminh/Installers/AlGDock-0.0.1/Example/ligand.frcmod\n",
      "  extracted /Users/dminh/Installers/AlGDock-0.0.1/Example/ligand.prmtop\n"
     ]
    }
   ],
   "source": [
    "import AlGDock.Nanopore\n",
    "from AlGDock.Nanopore import *\n",
    "\n",
    "self = AlGDock.Nanopore.Simulation(\\\n",
    "  ligand_tarball='prmtopcrd_1p2y/ligand.tar.gz', \\\n",
    "  ligand_database='ligand.db', \\\n",
    "  forcefield='prmtopcrd/gaff.dat', \\\n",
    "  frcmodList=['ligand.frcmod'], \\\n",
    "  ligand_prmtop='ligand.prmtop', \\\n",
    "  grid_LJr='grids/LJr.nc', \\\n",
    "  grid_LJa='grids/LJa.nc', \\\n",
    "  grid_ELE='grids/pbsa.nc', \\\n",
    "  starting_conf='prmtopcrd_1p2y/anchor_and_grow_scored.mol2', \\\n",
    "  ef='0.5')"
   ]
  },
  {
   "cell_type": "code",
   "execution_count": 2,
   "metadata": {
    "collapsed": false
   },
   "outputs": [
    {
     "name": "stdout",
     "output_type": "stream",
     "text": [
      "The net charge on the ligand is 4.184\n"
     ]
    },
    {
     "name": "stderr",
     "output_type": "stream",
     "text": [
      "Warning: multiple database entries for\n",
      "         /Users/dminh/Installers/AlGDock-0.0.1/Example/ligand.db,\n",
      "         using first one\n",
      "/Users/dminh/Installers/AlGDock-0.0.1/Example/ligand.db\n",
      "/Users/dminh/Installers/AlGDock-0.0.1/Example/ligand.db\n"
     ]
    }
   ],
   "source": [
    "    # Create molecule object\n",
    "    MMTK.Database.molecule_types.directory = \\\n",
    "      os.path.dirname(self.args['ligand_database'])\n",
    "    self.molecule = MMTK.Molecule(\\\n",
    "      os.path.basename(self.args['ligand_database']))\n",
    "\n",
    "    # Hydrogen mass repartitioning to 4.0 amu\n",
    "    from AlGDock.HMR import hydrogen_mass_repartitioning\n",
    "    self.molecule = hydrogen_mass_repartitioning(self.molecule, 4.0)\n",
    "\n",
    "    # Helpful variables for referencing and indexing atoms in the molecule\n",
    "    self.molecule.heavy_atoms = [ind for (atm,ind) in \\\n",
    "      zip(self.molecule.atoms,range(self.molecule.numberOfAtoms())) \\\n",
    "      if atm.type.name!='hydrogen']\n",
    "\n",
    "    self.molecule.prmtop_atom_order = np.array([atom.number \\\n",
    "      for atom in self.molecule.prmtop_order], dtype=int)\n",
    "    self.molecule.inv_prmtop_atom_order = np.zeros(shape=len(self.molecule.prmtop_atom_order), dtype=int)\n",
    "    for i in range(len(self.molecule.prmtop_atom_order)):\n",
    "      self.molecule.inv_prmtop_atom_order[self.molecule.prmtop_atom_order[i]] = i\n",
    "    \n",
    "    # Create universe and add molecule to universe\n",
    "    self.universe = MMTK.Universe.InfiniteUniverse()\n",
    "    self.universe.addObject(self.molecule)\n",
    "\n",
    "    # Determine the net charge on the ligand\n",
    "    net_charge = 0.\n",
    "    for o in self.universe:\n",
    "      for a in o.atomList():\n",
    "        net_charge += float(o.getAtomProperty(a, 'scaling_factor_electrostatic'))\n",
    "    net_charge = net_charge/4.184\n",
    "    print 'The net charge on the ligand is', net_charge\n",
    "    if abs(net_charge)<0.1:\n",
    "      raise Exception('The net charge on the ligand is too low' + \\\n",
    "        ' for the electric field to have an effect')\n",
    "    \n",
    "    # Force fields\n",
    "    self._forceFields = {}\n",
    "    from MMTK.ForceFields import Amber12SBForceField\n",
    "    self._forceFields['gaff'] = Amber12SBForceField(\n",
    "      parameter_file=self.args['forcefield'],mod_files=self.args['frcmodList'])\n",
    "\n",
    "    from AlGDock.ForceFields.OBC.OBC import OBCForceField\n",
    "    self._forceFields['OBC'] = OBCForceField(self.args['ligand_prmtop'],\n",
    "      self.molecule.prmtop_atom_order,self.molecule.inv_prmtop_atom_order)\n",
    "\n",
    "    from AlGDock.ForceFields.Grid.Interpolation import InterpolationForceField\n",
    "    for grid_type in ['LJa','LJr','ELE']:\n",
    "      self._forceFields[grid_type] = InterpolationForceField(\\\n",
    "        self.args['grid_'+grid_type], name=grid_type, \\\n",
    "        interpolation_type='Trilinear', strength=1.0, \\\n",
    "        scaling_property='scaling_factor_' + \\\n",
    "          {'LJr':'LJr','LJa':'LJa','ELE':'electrostatic'}[grid_type], \\\n",
    "        inv_power=4 if grid_type=='LJr' else None)\n",
    "\n",
    "    from AlGDock.ForceFields.ElectricField.ElectricField import ElectricField\n",
    "    self._forceFields['electric_field'] = ElectricField(\\\n",
    "      0.5*(MMTK.Units.V/MMTK.Units.m), 'scaling_factor_electrostatic')\n",
    "    # scaling_factor_electrostatic is amber_charge multiplied by 4.184, \n",
    "    # converting kcal/mol (AMBER units) to kJ/mol (MMTK Units).\n",
    "    # 1 V m−1 = 1 kg m s−3 A−1.\n",
    "    \n",
    "    FFkeys = self._forceFields.keys()\n",
    "    compoundFF = self._forceFields[FFkeys[0]]\n",
    "    for FFkey in FFkeys:\n",
    "      compoundFF += self._forceFields[FFkey]\n",
    "    self.universe.setForceField(compoundFF)\n",
    "    \n",
    "    # Set the ligand starting coordinates\n",
    "    # Load the file\n",
    "    import AlGDock.IO\n",
    "    if self.args['starting_conf'].endswith('.inpcrd'):\n",
    "      reader = AlGDock.IO.crd()\n",
    "      lig_crd = IO_crd.read(self.args['starting_conf'], multiplier=0.1)\n",
    "    elif self.args['starting_conf'].endswith('.mol2') or \\\n",
    "       self.args['starting_conf'].endswith('.mol2.gz'):\n",
    "      reader = AlGDock.IO.dock6_mol2()\n",
    "      lig_crd = reader.read(self.args['starting_conf'])[0][0]\n",
    "    else:\n",
    "      raise Exception('Unknown file extension')\n",
    "    lig_crd = lig_crd[self.molecule.inv_prmtop_atom_order,:]\n",
    "    \n",
    "    # Randomly rotate the ligand\n",
    "    from AlGDock.Integrators.ExternalMC.ExternalMC import random_rotate\n",
    "    lig_crd = np.dot(lig_crd, np.transpose(random_rotate()))\n",
    "    self.universe.setConfiguration(Configuration(self.universe,lig_crd))\n",
    "    \n",
    "    # Translate the ligand to the middle of the grid on the x and y axes \n",
    "    # and the origin on the z axis\n",
    "    gd = self._forceFields['ELE'].grid_data\n",
    "    starting_position = np.copy(gd['origin'])\n",
    "    starting_position[:2] += (gd['counts']*gd['spacing']/2)[:2]\n",
    "    self.universe.translateTo(MMTK.Vector(starting_position))\n",
    "    "
   ]
  },
  {
   "cell_type": "code",
   "execution_count": 3,
   "metadata": {
    "collapsed": false
   },
   "outputs": [
    {
     "name": "stderr",
     "output_type": "stream",
     "text": [
      "/Users/dminh/Applications/miniconda2/envs/algdock/lib/python2.7/site-packages/simtk/openmm/app/internal/amber_file_parser.py:1010: UserWarning: Non-optimal GB parameters detected for GB model OBC2\n",
      "  'model %s' % gbmodel)\n"
     ]
    },
    {
     "data": {
      "text/plain": [
       "{'ELE': 1028.3090656313689,\n",
       " 'LJa': -1648852.7449561066,\n",
       " 'LJr': 51564273.667538367,\n",
       " 'Lennard-Jones': 19.852654424070909,\n",
       " 'OBC': -269.10318651435762,\n",
       " 'cosine dihedral angle': 30.228190901925053,\n",
       " 'electric_field_z': 7.8203149827292044e-09,\n",
       " 'electrostatic': 153.15450849661138,\n",
       " 'electrostatic/pair sum': 153.15450849661138,\n",
       " 'harmonic bond': 7.2356682784701221,\n",
       " 'harmonic bond angle': 36.593746452920954}"
      ]
     },
     "execution_count": 3,
     "metadata": {},
     "output_type": "execute_result"
    }
   ],
   "source": [
    "self.universe.energyTerms()"
   ]
  },
  {
   "cell_type": "code",
   "execution_count": 4,
   "metadata": {
    "collapsed": false
   },
   "outputs": [
    {
     "data": {
      "text/plain": [
       "4.184000000000001"
      ]
     },
     "execution_count": 4,
     "metadata": {},
     "output_type": "execute_result"
    }
   ],
   "source": [
    "abs(net_charge)<0.1"
   ]
  },
  {
   "cell_type": "code",
   "execution_count": null,
   "metadata": {
    "collapsed": true
   },
   "outputs": [],
   "source": []
  }
 ],
 "metadata": {
  "kernelspec": {
   "display_name": "Python 2",
   "language": "python",
   "name": "python2"
  },
  "language_info": {
   "codemirror_mode": {
    "name": "ipython",
    "version": 2
   },
   "file_extension": ".py",
   "mimetype": "text/x-python",
   "name": "python",
   "nbconvert_exporter": "python",
   "pygments_lexer": "ipython2",
   "version": "2.7.11"
  }
 },
 "nbformat": 4,
 "nbformat_minor": 2
}
