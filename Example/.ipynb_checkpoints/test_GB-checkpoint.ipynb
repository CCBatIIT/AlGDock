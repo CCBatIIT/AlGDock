{
 "cells": [
  {
   "cell_type": "code",
   "execution_count": 1,
   "metadata": {
    "collapsed": false
   },
   "outputs": [
    {
     "name": "stdout",
     "output_type": "stream",
     "text": [
      "###########\n",
      "# AlGDock #\n",
      "###########\n",
      "Molecular docking with adaptively scaled alchemical interaction grids\n",
      "\n",
      "in /Users/dminh/Applications/miniconda2/envs/algdock/lib/python2.7/site-packages/AlGDock/BindingPMF.py\n",
      "last modified Thu Apr  6 14:08:07 2017\n",
      "    \n",
      "using 4/4 available cores\n",
      "using random number seed of -1\n",
      "\n",
      "*** Directories ***\n",
      "  start: /Users/dminh/Installers/AlGDock-0.0.1/Example\n",
      "  cool: /Users/dminh/Installers/AlGDock-0.0.1/Example/cool\n",
      "  dock: /Users/dminh/Installers/AlGDock-0.0.1/Example/dock\n",
      "\n",
      ">>> Decompressing tarballs\n",
      "looking for:\n",
      "  complex.trans.inpcrd\n",
      "  complex.pdb\n",
      "  ligand.mol2\n",
      "  receptor.trans.inpcrd\n",
      "  ligand.trans.inpcrd\n",
      "  ligand.prmtop\n",
      "  ligand.db\n",
      "  receptor.pdb\n",
      "  complex.prmtop\n",
      "  ligand.rb\n",
      "  receptor.prmtop\n",
      "  and frcmod files\n",
      "reading prmtopcrd/receptor.tar.gz\n",
      "  extracted receptor.pdb\n",
      "  extracted receptor.prmtop\n",
      "  extracted receptor.trans.inpcrd\n",
      "reading /Users/dminh/Installers/AlGDock-0.0.1/Example/prmtopcrd/ligand.tar.gz\n",
      "  extracted ligand.db\n",
      "  extracted /Users/dminh/Installers/AlGDock-0.0.1/Example/dock/ligand.frcmod\n",
      "  extracted ligand.mol2\n",
      "  extracted ligand.prmtop\n",
      "  extracted ligand.rb\n",
      "  extracted ligand.trans.inpcrd\n",
      "reading prmtopcrd/ligand.tar.gz\n",
      "  extracted ligand.db\n",
      "  extracted ligand.mol2\n",
      "  extracted ligand.prmtop\n",
      "  extracted ligand.rb\n",
      "  extracted ligand.trans.inpcrd\n",
      "reading prmtopcrd/complex.tar.gz\n",
      "  extracted complex.pdb\n",
      "  extracted complex.prmtop\n",
      "  extracted complex.trans.inpcrd\n",
      "reading /Users/dminh/Installers/AlGDock-0.0.1/Example/prmtopcrd/receptor.tar.gz\n",
      "  extracted receptor.pdb\n",
      "  extracted receptor.prmtop\n",
      "  extracted receptor.trans.inpcrd\n",
      "reading /Users/dminh/Installers/AlGDock-0.0.1/Example/prmtopcrd/complex.tar.gz\n",
      "  extracted complex.pdb\n",
      "  extracted complex.prmtop\n",
      "  extracted complex.trans.inpcrd\n",
      "\n",
      "*** Files ***\n",
      "previously stored in cool directory:\n",
      "  prmtop:\n",
      "    L: dock/ligand.prmtop\n",
      "  ligand_database: dock/ligand.db\n",
      "  tarball:\n",
      "    L: prmtopcrd/ligand.tar.gz\n",
      "  forcefield: ../Data/gaff2.dat\n",
      "  inpcrd:\n",
      "    L: dock/ligand.trans.inpcrd\n",
      "\n",
      "previously stored in dock directory:\n",
      "  namd: ../../../Applications/NAMD_2.10/namd2\n",
      "  grids:\n",
      "    LJr: grids/LJr.nc\n",
      "    LJa: grids/LJa.nc\n",
      "    ELE: grids/pbsa.nc\n",
      "    desolv: grids/desolv.nc\n",
      "  prmtop:\n",
      "    L: dock/ligand.prmtop\n",
      "    R: dock/receptor.prmtop\n",
      "    RL: dock/complex.prmtop\n",
      "  ligand_database: dock/ligand.db\n",
      "  fixed_atoms:\n",
      "    R: dock/receptor.pdb\n",
      "    RL: dock/complex.pdb\n",
      "  mol2:\n",
      "    L: dock/ligand.mol2\n",
      "  tarball:\n",
      "    L: prmtopcrd/ligand.tar.gz\n",
      "    R: prmtopcrd/receptor.tar.gz\n",
      "    RL: prmtopcrd/complex.tar.gz\n",
      "  score: prmtopcrd/anchor_and_grow_scored.mol2\n",
      "  forcefield: ../Data/gaff2.dat\n",
      "  rb:\n",
      "    L: dock/ligand.rb\n",
      "  dir_cool: cool\n",
      "  inpcrd:\n",
      "    L: dock/ligand.trans.inpcrd\n",
      "    R: dock/receptor.trans.inpcrd\n",
      "    RL: dock/complex.trans.inpcrd\n",
      "\n",
      "from arguments and defaults:\n",
      "  ligand_database: dock/ligand.db\n",
      "  forcefield: ../Data/gaff2.dat\n",
      "  frcmodList: ['/Users/dminh/Installers/AlGDock-0.0.1/Example/dock/ligand.frcmod']\n",
      "  tarball:\n",
      "    L: prmtopcrd/ligand.tar.gz\n",
      "    R: prmtopcrd/receptor.tar.gz\n",
      "    RL: prmtopcrd/complex.tar.gz\n",
      "  prmtop:\n",
      "    L: dock/ligand.prmtop\n",
      "    R: dock/receptor.prmtop\n",
      "    RL: dock/complex.prmtop\n",
      "  inpcrd:\n",
      "    L: dock/ligand.trans.inpcrd\n",
      "    R: dock/receptor.trans.inpcrd\n",
      "    RL: dock/complex.trans.inpcrd\n",
      "  mol2:\n",
      "    L: dock/ligand.mol2\n",
      "  rb:\n",
      "    L: dock/ligand.rb\n",
      "  fixed_atoms:\n",
      "    R: dock/receptor.pdb\n",
      "    RL: dock/complex.pdb\n",
      "  grids:\n",
      "    LJr: grids/LJr.nc\n",
      "    LJa: grids/LJa.nc\n",
      "    ELE: grids/pbsa.nc\n",
      "    desolv: grids/desolv.nc\n",
      "  score: prmtopcrd/anchor_and_grow_scored.mol2\n",
      "  dir_cool: cool\n",
      "\n",
      "to be used:\n",
      "  ligand_database: dock/ligand.db\n",
      "  forcefield: ../Data/gaff2.dat\n",
      "  frcmodList: ['/Users/dminh/Installers/AlGDock-0.0.1/Example/dock/ligand.frcmod']\n",
      "  tarball:\n",
      "    L: prmtopcrd/ligand.tar.gz\n",
      "    R: prmtopcrd/receptor.tar.gz\n",
      "    RL: prmtopcrd/complex.tar.gz\n",
      "  prmtop:\n",
      "    L: dock/ligand.prmtop\n",
      "    R: dock/receptor.prmtop\n",
      "    RL: dock/complex.prmtop\n",
      "  inpcrd:\n",
      "    L: dock/ligand.trans.inpcrd\n",
      "    R: dock/receptor.trans.inpcrd\n",
      "    RL: dock/complex.trans.inpcrd\n",
      "  mol2:\n",
      "    L: dock/ligand.mol2\n",
      "  rb:\n",
      "    L: dock/ligand.rb\n",
      "  fixed_atoms:\n",
      "    R: dock/receptor.pdb\n",
      "    RL: dock/complex.pdb\n",
      "  grids:\n",
      "    LJr: grids/LJr.nc\n",
      "    LJa: grids/LJa.nc\n",
      "    ELE: grids/pbsa.nc\n",
      "    desolv: grids/desolv.nc\n",
      "  score: prmtopcrd/anchor_and_grow_scored.mol2\n",
      "  dir_cool: cool\n",
      "  namd: ../../../Applications/NAMD_2.10/namd2\n",
      "\n",
      ">>> Setting up the simulation\n",
      "  considering a residue named \"iga\" as the ligand\n",
      "\n",
      "*** Simulation parameters and constants ***\n",
      "\n",
      "for cool:\n",
      "  protocol: Adaptive\n",
      "  therm_speed: 5.0\n",
      "  T_HIGH: 600.0\n",
      "  T_SIMMIN: 300.0\n",
      "  T_TARGET: 300.0\n",
      "  H_mass: 4.0\n",
      "  fraction_CD: 0.5\n",
      "  CD_steps_per_trial: 5\n",
      "  delta_t: 3.0\n",
      "  sampler: HMC\n",
      "  steps_per_seed: 200\n",
      "  seeds_per_state: 10\n",
      "  darts_per_seed: 0\n",
      "  repX_cycles: 3\n",
      "  min_repX_acc: 0.4\n",
      "  sweeps_per_cycle: 25\n",
      "  attempts_per_sweep: 100\n",
      "  steps_per_sweep: 100\n",
      "  darts_per_sweep: 0\n",
      "  snaps_per_independent: 3.0\n",
      "  phases: ['NAMD_Gas', 'NAMD_OBC']\n",
      "  sampling_importance_resampling: True\n",
      "  solvation: Fractional\n",
      "  keep_intermediate: True\n",
      "  GMC_attempts: 0\n",
      "  GMC_tors_threshold: 0.0\n",
      "  delta_t_CD: 4.0\n",
      "\n",
      "for dock:\n",
      "  protocol: Adaptive\n",
      "  therm_speed: 0.5\n",
      "  T_HIGH: 600.0\n",
      "  T_SIMMIN: 300.0\n",
      "  T_TARGET: 300.0\n",
      "  H_mass: 4.0\n",
      "  fraction_CD: 0.5\n",
      "  CD_steps_per_trial: 5\n",
      "  delta_t: 3.0\n",
      "  sampler: HMC\n",
      "  steps_per_seed: 200\n",
      "  seeds_per_state: 10\n",
      "  darts_per_seed: 0\n",
      "  repX_cycles: 4\n",
      "  min_repX_acc: 0.4\n",
      "  sweeps_per_cycle: 25\n",
      "  attempts_per_sweep: 100\n",
      "  steps_per_sweep: 100\n",
      "  darts_per_sweep: 0\n",
      "  snaps_per_independent: 20.0\n",
      "  phases: ['NAMD_Gas', 'NAMD_OBC']\n",
      "  sampling_importance_resampling: True\n",
      "  solvation: Fractional\n",
      "  keep_intermediate: True\n",
      "  GMC_attempts: 0\n",
      "  GMC_tors_threshold: 0.0\n",
      "  site: Cylinder\n",
      "  site_center: array([ 1.74395,  1.74395,  1.44395])\n",
      "  site_direction: array([ 0.,  0.,  1.])\n",
      "  site_max_Z: 2.04395\n",
      "  site_max_R: 0.6\n",
      "  site_density: 50.0\n",
      "  pose: -1\n",
      "  k_pose: 200.0\n",
      "  MCMC_moves: 1\n",
      "  rmsd: True\n",
      "  receptor_NAMD_Gas: array([[ 0.,  0.,  0.,  0.,  0.,  0.,  0.,  0.]])\n",
      "  receptor_NAMD_OBC: array([[     0.       ,      0.       ,      0.       ,      0.       ,\n",
      "        -40218.8790752,      0.       ,      0.       , -40218.8790752]])\n",
      "  delta_t_CD: 4.0\n"
     ]
    }
   ],
   "source": [
    "import AlGDock.BindingPMF_plots\n",
    "from AlGDock.BindingPMF_plots import *\n",
    "import os, shutil, glob\n",
    "\n",
    "phases = ['NAMD_Gas', 'NAMD_OBC']\n",
    "\n",
    "self = AlGDock.BindingPMF_plots.BPMF_plots(\\\n",
    "  dir_dock='dock', dir_cool='cool',\\\n",
    "  ligand_tarball='prmtopcrd/ligand.tar.gz', \\\n",
    "  ligand_database='ligand.db', \\\n",
    "  forcefield='prmtopcrd/gaff2.dat', \\\n",
    "  ligand_prmtop='ligand.prmtop', \\\n",
    "  ligand_inpcrd='ligand.trans.inpcrd', \\\n",
    "  ligand_mol2='ligand.mol2', \\\n",
    "  ligand_rb='ligand.rb', \\\n",
    "  receptor_tarball='prmtopcrd/receptor.tar.gz', \\\n",
    "  receptor_prmtop='receptor.prmtop', \\\n",
    "  receptor_inpcrd='receptor.trans.inpcrd', \\\n",
    "  receptor_fixed_atoms='receptor.pdb', \\\n",
    "  complex_tarball='prmtopcrd/complex.tar.gz', \\\n",
    "  complex_prmtop='complex.prmtop', \\\n",
    "  complex_inpcrd='complex.trans.inpcrd', \\\n",
    "  complex_fixed_atoms='complex.pdb', \\\n",
    "  score = 'prmtopcrd/anchor_and_grow_scored.mol2', \\\n",
    "  pose=-1, \\\n",
    "  rmsd=True, \\\n",
    "  dir_grid='grids', \\\n",
    "  protocol='Adaptive', cool_therm_speed=5.0, dock_therm_speed=0.5, \\\n",
    "  T_HIGH=600.0, T_SIMMIN=300.0, T_TARGET=300.0, \\\n",
    "  sampler='HMC', \\\n",
    "  MCMC_moves=1, \\\n",
    "  sampling_importance_resampling = True, \\\n",
    "  solvation = 'Fractional', \\\n",
    "  seeds_per_state=10, steps_per_seed=200, darts_per_seed=0, \\\n",
    "  sweeps_per_cycle=25, attempts_per_sweep=100, \\\n",
    "  steps_per_sweep=100, darts_per_sweep=0, \\\n",
    "  cool_repX_cycles=3, dock_repX_cycles=4, \\\n",
    "  site='Cylinder', site_center=[1.74395, 1.74395, 1.44395], \\\n",
    "  site_direction=[0, 0, 1.0], \\\n",
    "  site_max_Z=2.04395, \\\n",
    "  site_max_R=0.6, \\\n",
    "  phases=phases, \\\n",
    "  cores=-1, \\\n",
    "  random_seed=-1, \\\n",
    "  max_time=240, \\\n",
    "  keep_intermediate=True)\n",
    "\n",
    "#  site='Sphere', site_center=[1.74395, 1.74395, 1.74395], \\\n",
    "#  site_max_R=0.6, \\\n",
    "#  site_density=10., \\\n"
   ]
  },
  {
   "cell_type": "code",
   "execution_count": 2,
   "metadata": {
    "collapsed": false
   },
   "outputs": [
    {
     "data": {
      "text/plain": [
       "{'Lennard-Jones': 6.5212467867313535,\n",
       " 'OBC': -378.93112269194324,\n",
       " 'cosine dihedral angle': 15.47576976114714,\n",
       " 'electrostatic': 51.757619490055369,\n",
       " 'electrostatic/pair sum': 51.757619490055369,\n",
       " 'harmonic bond': 30.551864155281425,\n",
       " 'harmonic bond angle': 30.239176601938475}"
      ]
     },
     "execution_count": 2,
     "metadata": {},
     "output_type": "execute_result"
    }
   ],
   "source": [
    "self.universe.setConfiguration(Configuration(self.universe,self.confs['ligand']))\n",
    "self._set_universe_evaluator(self._lambda(1.0, 'cool'))\n",
    "self.universe.energyTerms()"
   ]
  },
  {
   "cell_type": "code",
   "execution_count": 3,
   "metadata": {
    "collapsed": true
   },
   "outputs": [],
   "source": [
    "# First goal: Get GB radii for ligand.\n",
    "# Second goal: Load receptor\n",
    "# Third goal: Get GB radii for ligand with receptor present"
   ]
  },
  {
   "cell_type": "code",
   "execution_count": 4,
   "metadata": {
    "collapsed": true
   },
   "outputs": [],
   "source": [
    "# Sum for atom 0: 1.53322, 1.53322\n",
    "# Sum for atom 1: 1.55805, 1.55805\n",
    "# Sum for atom 2: 1.41308, 1.41308\n",
    "# Sum for atom 3: 1.45316, 1.45316\n",
    "# Sum for atom 4: 2.02321, 2.02321\n",
    "# Sum for atom 5: 1.53141, 1.53141\n",
    "# Sum for atom 6: 1.38527, 1.38527\n",
    "# Sum for atom 7: 1.79948, 1.79948\n",
    "# Sum for atom 8: 1.98504, 1.98504\n",
    "# Sum for atom 9: 2.64444, 2.64444\n",
    "# Sum for atom 10: 1.93677, 1.93677\n",
    "# Sum for atom 11: 2.16131, 2.16131\n",
    "# Sum for atom 12: 2.18574, 2.18574\n",
    "# Sum for atom 13: 2.01636, 2.01636\n",
    "# Sum for atom 14: 2.04696, 2.04696\n",
    "# Sum for atom 15: 2.64509, 2.64509\n",
    "# Sum for atom 16: 2.77886, 2.77886\n",
    "# Sum for atom 17: 2.82329, 2.82329\n",
    "# Sum for atom 18: 2.6043, 2.6043\n",
    "# Sum for atom 19: 2.39835, 2.39835\n",
    "# Sum for atom 20: 1.64417, 1.64417\n",
    "# Sum for atom 21: 1.21037, 1.21037\n",
    "# Sum for atom 22: 1.18917, 1.18917\n",
    "# Sum for atom 23: 1.21617, 1.21617"
   ]
  },
  {
   "cell_type": "code",
   "execution_count": 5,
   "metadata": {
    "collapsed": false
   },
   "outputs": [],
   "source": [
    "# from AlGDock.ForceFields.OBC.OBC import OBCForceField\n",
    "# FF_desolv = OBCForceField(desolvationGridFN=self._FNs['grids']['desolv'])\n",
    "# self.universe.setForceField(FF_desolv)\n",
    "\n",
    "# from MMTK.ForceFields.ForceFieldTest import gradientTest\n",
    "# gradientTest(self.universe)"
   ]
  },
  {
   "cell_type": "code",
   "execution_count": 6,
   "metadata": {
    "collapsed": false
   },
   "outputs": [
    {
     "name": "stderr",
     "output_type": "stream",
     "text": [
      "Warning: multiple database entries for\n",
      "         /Users/dminh/Installers/AlGDock-0.0.1/Example/dock/receptor.db,\n",
      "         using first one\n",
      "/Users/dminh/Installers/AlGDock-0.0.1/Example/dock/receptor.db\n",
      "/Users/dminh/Installers/AlGDock-0.0.1/Example/dock/receptor.db\n"
     ]
    }
   ],
   "source": [
    "self.receptor_R = MMTK.Molecule('receptor.db')\n",
    "\n",
    "self.receptor_RL = MMTK.Molecule('receptor.db')\n",
    "self.molecule_RL = MMTK.Molecule(os.path.basename(self._FNs['ligand_database']))"
   ]
  },
  {
   "cell_type": "code",
   "execution_count": 7,
   "metadata": {
    "collapsed": false
   },
   "outputs": [],
   "source": [
    "self.universe_R = MMTK.Universe.InfiniteUniverse()\n",
    "self.universe_R.addObject(self.receptor_R)\n",
    "\n",
    "self.universe_RL = MMTK.Universe.InfiniteUniverse()\n",
    "self.universe_RL.addObject(self.receptor_RL)\n",
    "self.universe_RL.addObject(self.molecule_RL)"
   ]
  },
  {
   "cell_type": "code",
   "execution_count": 8,
   "metadata": {
    "collapsed": false
   },
   "outputs": [],
   "source": [
    "from MMTK.ForceFields import Amber12SBForceField\n",
    "self._forceFields['AMBER'] = Amber12SBForceField(\\\n",
    "  '/Users/dminh/Installers/AlGDock-0.0.1/Data/parm10.dat', \n",
    "  mod_files=['/Users/dminh/Installers/AlGDock-0.0.1/Data/frcmod.ff14SB'])"
   ]
  },
  {
   "cell_type": "code",
   "execution_count": 9,
   "metadata": {
    "collapsed": false
   },
   "outputs": [
    {
     "ename": "KeyError",
     "evalue": "'No parameters for bond Atom receptor.db.H9i10531 (atom type hn) - Atom receptor.db.N1i10541 (atom type n3)'",
     "output_type": "error",
     "traceback": [
      "\u001b[0;31m---------------------------------------------------------------------------\u001b[0m",
      "\u001b[0;31mKeyError\u001b[0m                                  Traceback (most recent call last)",
      "\u001b[0;32m<ipython-input-9-a5933d26dfd7>\u001b[0m in \u001b[0;36m<module>\u001b[0;34m()\u001b[0m\n\u001b[1;32m      1\u001b[0m \u001b[0mself\u001b[0m\u001b[0;34m.\u001b[0m\u001b[0muniverse_R\u001b[0m\u001b[0;34m.\u001b[0m\u001b[0msetForceField\u001b[0m\u001b[0;34m(\u001b[0m\u001b[0mself\u001b[0m\u001b[0;34m.\u001b[0m\u001b[0m_forceFields\u001b[0m\u001b[0;34m[\u001b[0m\u001b[0;34m'AMBER'\u001b[0m\u001b[0;34m]\u001b[0m\u001b[0;34m)\u001b[0m\u001b[0;34m\u001b[0m\u001b[0m\n\u001b[0;32m----> 2\u001b[0;31m \u001b[0mself\u001b[0m\u001b[0;34m.\u001b[0m\u001b[0muniverse_R\u001b[0m\u001b[0;34m.\u001b[0m\u001b[0menergy\u001b[0m\u001b[0;34m(\u001b[0m\u001b[0;34m)\u001b[0m\u001b[0;34m\u001b[0m\u001b[0m\n\u001b[0m",
      "\u001b[0;32m/Users/dminh/Applications/miniconda2/envs/algdock/lib/python2.7/site-packages/MMTK/Universe.pyc\u001b[0m in \u001b[0;36menergy\u001b[0;34m(self, subset1, subset2, small_change)\u001b[0m\n\u001b[1;32m    806\u001b[0m         \u001b[0;34m:\u001b[0m\u001b[0mrtype\u001b[0m\u001b[0;34m:\u001b[0m \u001b[0mfloat\u001b[0m\u001b[0;34m\u001b[0m\u001b[0m\n\u001b[1;32m    807\u001b[0m         \"\"\"\n\u001b[0;32m--> 808\u001b[0;31m         \u001b[0meval\u001b[0m \u001b[0;34m=\u001b[0m \u001b[0mself\u001b[0m\u001b[0;34m.\u001b[0m\u001b[0menergyEvaluator\u001b[0m\u001b[0;34m(\u001b[0m\u001b[0msubset1\u001b[0m\u001b[0;34m,\u001b[0m \u001b[0msubset2\u001b[0m\u001b[0;34m)\u001b[0m\u001b[0;34m\u001b[0m\u001b[0m\n\u001b[0m\u001b[1;32m    809\u001b[0m         \u001b[0;32mreturn\u001b[0m \u001b[0meval\u001b[0m\u001b[0;34m(\u001b[0m\u001b[0;36m0\u001b[0m\u001b[0;34m,\u001b[0m \u001b[0;36m0\u001b[0m\u001b[0;34m,\u001b[0m \u001b[0msmall_change\u001b[0m\u001b[0;34m)\u001b[0m\u001b[0;34m\u001b[0m\u001b[0m\n\u001b[1;32m    810\u001b[0m \u001b[0;34m\u001b[0m\u001b[0m\n",
      "\u001b[0;32m/Users/dminh/Applications/miniconda2/envs/algdock/lib/python2.7/site-packages/MMTK/Universe.pyc\u001b[0m in \u001b[0;36menergyEvaluator\u001b[0;34m(self, subset1, subset2, threads, mpi_communicator)\u001b[0m\n\u001b[1;32m    785\u001b[0m             eval = ForceField.EnergyEvaluator(self, self._forcefield,\n\u001b[1;32m    786\u001b[0m                                               \u001b[0msubset1\u001b[0m\u001b[0;34m,\u001b[0m \u001b[0msubset2\u001b[0m\u001b[0;34m,\u001b[0m\u001b[0;34m\u001b[0m\u001b[0m\n\u001b[0;32m--> 787\u001b[0;31m                                               threads, mpi_communicator)\n\u001b[0m\u001b[1;32m    788\u001b[0m             \u001b[0mself\u001b[0m\u001b[0;34m.\u001b[0m\u001b[0m_evaluator\u001b[0m\u001b[0;34m[\u001b[0m\u001b[0;34m(\u001b[0m\u001b[0msubset1\u001b[0m\u001b[0;34m,\u001b[0m \u001b[0msubset2\u001b[0m\u001b[0;34m,\u001b[0m \u001b[0mthreads\u001b[0m\u001b[0;34m)\u001b[0m\u001b[0;34m]\u001b[0m \u001b[0;34m=\u001b[0m \u001b[0meval\u001b[0m\u001b[0;34m\u001b[0m\u001b[0m\n\u001b[1;32m    789\u001b[0m         \u001b[0;32mreturn\u001b[0m \u001b[0meval\u001b[0m\u001b[0;34m\u001b[0m\u001b[0m\n",
      "\u001b[0;32m/Users/dminh/Applications/miniconda2/envs/algdock/lib/python2.7/site-packages/MMTK/ForceFields/ForceField.pyc\u001b[0m in \u001b[0;36m__init__\u001b[0;34m(self, universe, force_field, subset1, subset2, threads, mpi_communicator)\u001b[0m\n\u001b[1;32m    275\u001b[0m         terms = self.ff.evaluatorTerms(self.universe,\n\u001b[1;32m    276\u001b[0m                                        \u001b[0msubset1\u001b[0m\u001b[0;34m,\u001b[0m \u001b[0msubset2\u001b[0m\u001b[0;34m,\u001b[0m\u001b[0;34m\u001b[0m\u001b[0m\n\u001b[0;32m--> 277\u001b[0;31m                                        self.global_data)\n\u001b[0m\u001b[1;32m    278\u001b[0m         \u001b[0;32mif\u001b[0m \u001b[0;32mnot\u001b[0m \u001b[0misinstance\u001b[0m\u001b[0;34m(\u001b[0m\u001b[0mterms\u001b[0m\u001b[0;34m,\u001b[0m \u001b[0mlist\u001b[0m\u001b[0;34m)\u001b[0m\u001b[0;34m:\u001b[0m\u001b[0;34m\u001b[0m\u001b[0m\n\u001b[1;32m    279\u001b[0m             \u001b[0;32mraise\u001b[0m \u001b[0mValueError\u001b[0m\u001b[0;34m(\u001b[0m\u001b[0;34m\"evaluator term list not a list\"\u001b[0m\u001b[0;34m)\u001b[0m\u001b[0;34m\u001b[0m\u001b[0m\n",
      "\u001b[0;32m/Users/dminh/Applications/miniconda2/envs/algdock/lib/python2.7/site-packages/MMTK/ForceFields/ForceField.pyc\u001b[0m in \u001b[0;36mevaluatorTerms\u001b[0;34m(self, system, subset1, subset2, global_data)\u001b[0m\n\u001b[1;32m    163\u001b[0m             \u001b[0meval_objects\u001b[0m\u001b[0;34m.\u001b[0m\u001b[0mextend\u001b[0m\u001b[0;34m(\u001b[0m\u001b[0mterms\u001b[0m\u001b[0;34m)\u001b[0m\u001b[0;34m\u001b[0m\u001b[0m\n\u001b[1;32m    164\u001b[0m         self._compoundEvaluator(system, subset1, subset2, global_data,\n\u001b[0;32m--> 165\u001b[0;31m                                 'evaluatorTerms', add_item)\n\u001b[0m\u001b[1;32m    166\u001b[0m         \u001b[0;32mreturn\u001b[0m \u001b[0meval_objects\u001b[0m\u001b[0;34m\u001b[0m\u001b[0m\n\u001b[1;32m    167\u001b[0m \u001b[0;34m\u001b[0m\u001b[0m\n",
      "\u001b[0;32m/Users/dminh/Applications/miniconda2/envs/algdock/lib/python2.7/site-packages/MMTK/ForceFields/ForceField.pyc\u001b[0m in \u001b[0;36m_compoundEvaluator\u001b[0;34m(self, system, subset1, subset2, global_data, method, add_item)\u001b[0m\n\u001b[1;32m    175\u001b[0m                 \u001b[0;32mif\u001b[0m \u001b[0mff\u001b[0m\u001b[0;34m.\u001b[0m\u001b[0mready\u001b[0m\u001b[0;34m(\u001b[0m\u001b[0mglobal_data\u001b[0m\u001b[0;34m)\u001b[0m\u001b[0;34m:\u001b[0m\u001b[0;34m\u001b[0m\u001b[0m\n\u001b[1;32m    176\u001b[0m                     item = getattr(ff, method)(system, subset1, subset2,\n\u001b[0;32m--> 177\u001b[0;31m                                                global_data)\n\u001b[0m\u001b[1;32m    178\u001b[0m                     \u001b[0madd_item\u001b[0m\u001b[0;34m(\u001b[0m\u001b[0mitem\u001b[0m\u001b[0;34m)\u001b[0m\u001b[0;34m\u001b[0m\u001b[0m\n\u001b[1;32m    179\u001b[0m                     \u001b[0mdone\u001b[0m\u001b[0;34m.\u001b[0m\u001b[0mappend\u001b[0m\u001b[0;34m(\u001b[0m\u001b[0mff\u001b[0m\u001b[0;34m)\u001b[0m\u001b[0;34m\u001b[0m\u001b[0m\n",
      "\u001b[0;32m/Users/dminh/Applications/miniconda2/envs/algdock/lib/python2.7/site-packages/MMTK/ForceFields/BondedInteractions.pyc\u001b[0m in \u001b[0;36mevaluatorTerms\u001b[0;34m(self, universe, subset1, subset2, global_data)\u001b[0m\n\u001b[1;32m     95\u001b[0m              \u001b[0mCosineDihedralTerm\u001b[0m\u001b[0;34m\u001b[0m\u001b[0m\n\u001b[1;32m     96\u001b[0m         param = self.evaluatorParameters(universe, subset1, subset2,\n\u001b[0;32m---> 97\u001b[0;31m                                          global_data)\n\u001b[0m\u001b[1;32m     98\u001b[0m         \u001b[0meval_list\u001b[0m \u001b[0;34m=\u001b[0m \u001b[0;34m[\u001b[0m\u001b[0;34m]\u001b[0m\u001b[0;34m\u001b[0m\u001b[0m\n\u001b[1;32m     99\u001b[0m         \u001b[0mbonds\u001b[0m \u001b[0;34m=\u001b[0m \u001b[0mparam\u001b[0m\u001b[0;34m[\u001b[0m\u001b[0;34m'harmonic_distance_term'\u001b[0m\u001b[0;34m]\u001b[0m\u001b[0;34m\u001b[0m\u001b[0m\n",
      "\u001b[0;32m/Users/dminh/Applications/miniconda2/envs/algdock/lib/python2.7/site-packages/MMTK/ForceFields/MMForceField.pyc\u001b[0m in \u001b[0;36mevaluatorParameters\u001b[0;34m(self, universe, subset1, subset2, global_data)\u001b[0m\n\u001b[1;32m     82\u001b[0m         return BondedForceField.evaluatorParameters(self, universe,\n\u001b[1;32m     83\u001b[0m                                                     \u001b[0msubset1\u001b[0m\u001b[0;34m,\u001b[0m \u001b[0msubset2\u001b[0m\u001b[0;34m,\u001b[0m\u001b[0;34m\u001b[0m\u001b[0m\n\u001b[0;32m---> 84\u001b[0;31m                                                     global_data)\n\u001b[0m\u001b[1;32m     85\u001b[0m \u001b[0;34m\u001b[0m\u001b[0m\n\u001b[1;32m     86\u001b[0m     \u001b[0;32mdef\u001b[0m \u001b[0maddBondTerm\u001b[0m\u001b[0;34m(\u001b[0m\u001b[0mself\u001b[0m\u001b[0;34m,\u001b[0m \u001b[0mdata\u001b[0m\u001b[0;34m,\u001b[0m \u001b[0mbond\u001b[0m\u001b[0;34m,\u001b[0m \u001b[0mobject\u001b[0m\u001b[0;34m,\u001b[0m \u001b[0mglobal_data\u001b[0m\u001b[0;34m)\u001b[0m\u001b[0;34m:\u001b[0m\u001b[0;34m\u001b[0m\u001b[0m\n",
      "\u001b[0;32m/Users/dminh/Applications/miniconda2/envs/algdock/lib/python2.7/site-packages/MMTK/ForceFields/BondedInteractions.pyc\u001b[0m in \u001b[0;36mevaluatorParameters\u001b[0;34m(self, universe, subset1, subset2, global_data)\u001b[0m\n\u001b[1;32m     44\u001b[0m                     \u001b[0;32mif\u001b[0m \u001b[0msubset1\u001b[0m \u001b[0;32mis\u001b[0m \u001b[0mNone\u001b[0m\u001b[0;34m:\u001b[0m\u001b[0;34m\u001b[0m\u001b[0m\n\u001b[1;32m     45\u001b[0m                         \u001b[0;32mfor\u001b[0m \u001b[0mbond\u001b[0m \u001b[0;32min\u001b[0m \u001b[0mbu\u001b[0m\u001b[0;34m.\u001b[0m\u001b[0mbonds\u001b[0m\u001b[0;34m:\u001b[0m\u001b[0;34m\u001b[0m\u001b[0m\n\u001b[0;32m---> 46\u001b[0;31m                             \u001b[0mself\u001b[0m\u001b[0;34m.\u001b[0m\u001b[0maddBondTerm\u001b[0m\u001b[0;34m(\u001b[0m\u001b[0mdata\u001b[0m\u001b[0;34m,\u001b[0m \u001b[0mbond\u001b[0m\u001b[0;34m,\u001b[0m \u001b[0mbu\u001b[0m\u001b[0;34m,\u001b[0m \u001b[0mglobal_data\u001b[0m\u001b[0;34m)\u001b[0m\u001b[0;34m\u001b[0m\u001b[0m\n\u001b[0m\u001b[1;32m     47\u001b[0m                     \u001b[0;32melse\u001b[0m\u001b[0;34m:\u001b[0m\u001b[0;34m\u001b[0m\u001b[0m\n\u001b[1;32m     48\u001b[0m                         \u001b[0;32mfor\u001b[0m \u001b[0mbond\u001b[0m \u001b[0;32min\u001b[0m \u001b[0mbu\u001b[0m\u001b[0;34m.\u001b[0m\u001b[0mbonds\u001b[0m\u001b[0;34m:\u001b[0m\u001b[0;34m\u001b[0m\u001b[0m\n",
      "\u001b[0;32m/Users/dminh/Applications/miniconda2/envs/algdock/lib/python2.7/site-packages/MMTK/ForceFields/MMForceField.pyc\u001b[0m in \u001b[0;36maddBondTerm\u001b[0;34m(self, data, bond, object, global_data)\u001b[0m\n\u001b[1;32m     97\u001b[0m             raise KeyError(('No parameters for bond %s (atom type %s)' +\n\u001b[1;32m     98\u001b[0m                             \u001b[0;34m' - %s (atom type %s)'\u001b[0m\u001b[0;34m)\u001b[0m \u001b[0;34m%\u001b[0m \u001b[0;34m(\u001b[0m\u001b[0mstr\u001b[0m\u001b[0;34m(\u001b[0m\u001b[0ma1\u001b[0m\u001b[0;34m)\u001b[0m\u001b[0;34m,\u001b[0m \u001b[0mt1\u001b[0m\u001b[0;34m,\u001b[0m\u001b[0;34m\u001b[0m\u001b[0m\n\u001b[0;32m---> 99\u001b[0;31m                                                        str(a2), t2))\n\u001b[0m\u001b[1;32m    100\u001b[0m         \u001b[0;32mif\u001b[0m \u001b[0mp\u001b[0m \u001b[0;32mis\u001b[0m \u001b[0;32mnot\u001b[0m \u001b[0mNone\u001b[0m \u001b[0;32mand\u001b[0m \u001b[0mp\u001b[0m\u001b[0;34m[\u001b[0m\u001b[0;36m1\u001b[0m\u001b[0;34m]\u001b[0m \u001b[0;34m!=\u001b[0m \u001b[0;36m0.\u001b[0m\u001b[0;34m:\u001b[0m\u001b[0;34m\u001b[0m\u001b[0m\n\u001b[1;32m    101\u001b[0m             \u001b[0mdata\u001b[0m\u001b[0;34m.\u001b[0m\u001b[0madd\u001b[0m\u001b[0;34m(\u001b[0m\u001b[0;34m'bonds'\u001b[0m\u001b[0;34m,\u001b[0m \u001b[0;34m(\u001b[0m\u001b[0mi1\u001b[0m\u001b[0;34m,\u001b[0m \u001b[0mi2\u001b[0m\u001b[0;34m,\u001b[0m \u001b[0mp\u001b[0m\u001b[0;34m[\u001b[0m\u001b[0;36m0\u001b[0m\u001b[0;34m]\u001b[0m\u001b[0;34m,\u001b[0m \u001b[0mp\u001b[0m\u001b[0;34m[\u001b[0m\u001b[0;36m1\u001b[0m\u001b[0;34m]\u001b[0m\u001b[0;34m*\u001b[0m\u001b[0mself\u001b[0m\u001b[0;34m.\u001b[0m\u001b[0mscale_factor\u001b[0m\u001b[0;34m)\u001b[0m\u001b[0;34m)\u001b[0m\u001b[0;34m\u001b[0m\u001b[0m\n",
      "\u001b[0;31mKeyError\u001b[0m: 'No parameters for bond Atom receptor.db.H9i10531 (atom type hn) - Atom receptor.db.N1i10541 (atom type n3)'"
     ]
    }
   ],
   "source": [
    "# TODO: Load gaff and all frcmods into forcefield\n",
    "self.universe_R.setForceField(self._forceFields['AMBER'])\n",
    "self.universe_R.energy()"
   ]
  },
  {
   "cell_type": "code",
   "execution_count": null,
   "metadata": {
    "collapsed": false
   },
   "outputs": [],
   "source": [
    "self.universe_RL.setForceField(self._forceFields['gaff'] + self._forceFields['AMBER'])\n",
    "# self.universe_RL._evaluator[(None,None,None)] = self.universe._evaluator[(None,None,None)]\n",
    "self.universe_RL.energy()"
   ]
  },
  {
   "cell_type": "code",
   "execution_count": null,
   "metadata": {
    "collapsed": false
   },
   "outputs": [],
   "source": [
    "self.universe_RL.energyTerms()"
   ]
  },
  {
   "cell_type": "code",
   "execution_count": null,
   "metadata": {
    "collapsed": true
   },
   "outputs": [],
   "source": [
    "self.molecule."
   ]
  }
 ],
 "metadata": {
  "kernelspec": {
   "display_name": "Python 2",
   "language": "python",
   "name": "python2"
  },
  "language_info": {
   "codemirror_mode": {
    "name": "ipython",
    "version": 2
   },
   "file_extension": ".py",
   "mimetype": "text/x-python",
   "name": "python",
   "nbconvert_exporter": "python",
   "pygments_lexer": "ipython2",
   "version": "2.7.11"
  }
 },
 "nbformat": 4,
 "nbformat_minor": 2
}
