{
 "cells": [
  {
   "cell_type": "code",
   "execution_count": 1,
   "metadata": {
    "collapsed": false
   },
   "outputs": [
    {
     "name": "stdout",
     "output_type": "stream",
     "text": [
      "###########\n",
      "# AlGDock #\n",
      "###########\n",
      "Molecular docking with adaptively scaled alchemical interaction grids\n",
      "\n",
      "in /Users/dminh/Applications/miniconda2/envs/algdock/lib/python2.7/site-packages/AlGDock/BindingPMF.py\n",
      "last modified Fri Jun 23 13:29:59 2017\n",
      "    \n",
      "using 4/4 available cores\n",
      "using random number seed of -1\n",
      "\n",
      "*** Directories ***\n",
      "  start: /Users/dminh/Installers/AlGDock-0.0.1/Example\n",
      "  cool: /Users/dminh/Installers/AlGDock-0.0.1/Example/cool\n",
      "  dock: /Users/dminh/Installers/AlGDock-0.0.1/Example/dock\n",
      "\n",
      "*** Files ***\n",
      "previously stored in cool directory:\n",
      "  prmtop:\n",
      "    L: prmtopcrd/ligand.prmtop\n",
      "  ligand_database: prmtopcrd/ligand.db\n",
      "  forcefield: ../Data/gaff2.dat\n",
      "  inpcrd:\n",
      "    L: prmtopcrd/ligand.trans.inpcrd\n",
      "\n",
      "previously stored in dock directory:\n",
      "  namd: ../../../Applications/NAMD_2.10/namd2\n",
      "  grids:\n",
      "    LJr: grids/LJr.nc\n",
      "    LJa: grids/LJa.nc\n",
      "    ELE: grids/pbsa.nc\n",
      "    desolv: grids/desolv.nc\n",
      "  prmtop:\n",
      "    L: prmtopcrd/ligand.prmtop\n",
      "    R: prmtopcrd/receptor.prmtop\n",
      "    RL: prmtopcrd/complex.prmtop\n",
      "  ligand_database: prmtopcrd/ligand.db\n",
      "  fixed_atoms:\n",
      "    R: prmtopcrd/receptor.pdb\n",
      "    RL: prmtopcrd/complex.pdb\n",
      "  mol2:\n",
      "    L: prmtopcrd/ligand.mol2\n",
      "  score: prmtopcrd/anchor_and_grow_scored.mol2\n",
      "  forcefield: ../Data/gaff2.dat\n",
      "  dir_cool: cool\n",
      "  inpcrd:\n",
      "    L: prmtopcrd/ligand.trans.inpcrd\n",
      "    R: prmtopcrd/receptor.trans.inpcrd\n",
      "    RL: prmtopcrd/complex.trans.inpcrd\n",
      "\n",
      "from arguments and defaults:\n",
      "  failed to find file in: prmtopcrd/ligand.rb, /Users/dminh/Installers/AlGDock-0.0.1/Example/dock/prmtopcrd/ligand.rb\n",
      "  ligand_database: prmtopcrd/ligand.db\n",
      "  forcefield: ../Data/gaff2.dat\n",
      "  prmtop:\n",
      "    L: prmtopcrd/ligand.prmtop\n",
      "    R: prmtopcrd/receptor.prmtop\n",
      "    RL: prmtopcrd/complex.prmtop\n",
      "  inpcrd:\n",
      "    L: prmtopcrd/ligand.trans.inpcrd\n",
      "    R: prmtopcrd/receptor.trans.inpcrd\n",
      "    RL: prmtopcrd/complex.trans.inpcrd\n",
      "  mol2:\n",
      "    L: prmtopcrd/ligand.mol2\n",
      "  fixed_atoms:\n",
      "    R: prmtopcrd/receptor.pdb\n",
      "    RL: prmtopcrd/complex.pdb\n",
      "  grids:\n",
      "    LJr: grids/LJr.nc\n",
      "    LJa: grids/LJa.nc\n",
      "    ELE: grids/pbsa.nc\n",
      "    desolv: grids/desolv.nc\n",
      "  score: prmtopcrd/anchor_and_grow_scored.mol2\n",
      "  dir_cool: cool\n",
      "\n",
      "to be used:\n",
      "  ligand_database: prmtopcrd/ligand.db\n",
      "  forcefield: ../Data/gaff2.dat\n",
      "  frcmodList: ['/Users/dminh/Installers/AlGDock-0.0.1/Example/prmtopcrd/ligand.frcmod']\n",
      "  prmtop:\n",
      "    L: prmtopcrd/ligand.prmtop\n",
      "    R: prmtopcrd/receptor.prmtop\n",
      "    RL: prmtopcrd/complex.prmtop\n",
      "  inpcrd:\n",
      "    L: prmtopcrd/ligand.trans.inpcrd\n",
      "    R: prmtopcrd/receptor.trans.inpcrd\n",
      "    RL: prmtopcrd/complex.trans.inpcrd\n",
      "  mol2:\n",
      "    L: prmtopcrd/ligand.mol2\n",
      "  fixed_atoms:\n",
      "    R: prmtopcrd/receptor.pdb\n",
      "    RL: prmtopcrd/complex.pdb\n",
      "  grids:\n",
      "    LJr: grids/LJr.nc\n",
      "    LJa: grids/LJa.nc\n",
      "    ELE: grids/pbsa.nc\n",
      "    desolv: grids/desolv.nc\n",
      "  score: prmtopcrd/anchor_and_grow_scored.mol2\n",
      "  dir_cool: cool\n",
      "  namd: ../../../Applications/NAMD_2.10/namd2\n",
      "\n",
      ">>> Setting up the simulation\n",
      "  considering a residue named \"iga\" as the ligand\n",
      "\n",
      "*** Simulation parameters and constants ***\n",
      "\n",
      "for cool:\n",
      "  protocol: Adaptive\n",
      "  therm_speed: 5.0\n",
      "  T_HIGH: 600.0\n",
      "  T_SIMMIN: 300.0\n",
      "  T_TARGET: 300.0\n",
      "  H_mass: 4.0\n",
      "  fraction_CD: 0.5\n",
      "  CD_steps_per_trial: 5\n",
      "  delta_t: 3.0\n",
      "  sampler: HMC\n",
      "  steps_per_seed: 200\n",
      "  seeds_per_state: 10\n",
      "  darts_per_seed: 0\n",
      "  repX_cycles: 3\n",
      "  min_repX_acc: 0.4\n",
      "  sweeps_per_cycle: 25\n",
      "  attempts_per_sweep: 100\n",
      "  steps_per_sweep: 100\n",
      "  darts_per_sweep: 0\n",
      "  snaps_per_independent: 3.0\n",
      "  phases: ['NAMD_Gas', 'NAMD_OBC']\n",
      "  sampling_importance_resampling: True\n",
      "  solvation: Fractional\n",
      "  keep_intermediate: True\n",
      "  GMC_attempts: 0\n",
      "  GMC_tors_threshold: 0.0\n",
      "  delta_t_CD: 4.0\n",
      "\n",
      "for dock:\n",
      "  protocol: Adaptive\n",
      "  therm_speed: 0.5\n",
      "  T_HIGH: 600.0\n",
      "  T_SIMMIN: 300.0\n",
      "  T_TARGET: 300.0\n",
      "  H_mass: 4.0\n",
      "  fraction_CD: 0.5\n",
      "  CD_steps_per_trial: 5\n",
      "  delta_t: 3.0\n",
      "  sampler: HMC\n",
      "  steps_per_seed: 200\n",
      "  seeds_per_state: 10\n",
      "  darts_per_seed: 0\n",
      "  repX_cycles: 4\n",
      "  min_repX_acc: 0.4\n",
      "  sweeps_per_cycle: 25\n",
      "  attempts_per_sweep: 100\n",
      "  steps_per_sweep: 100\n",
      "  darts_per_sweep: 0\n",
      "  snaps_per_independent: 20.0\n",
      "  phases: ['NAMD_Gas', 'NAMD_OBC']\n",
      "  sampling_importance_resampling: True\n",
      "  solvation: Fractional\n",
      "  keep_intermediate: True\n",
      "  GMC_attempts: 0\n",
      "  GMC_tors_threshold: 0.0\n",
      "  site: Sphere\n",
      "  site_center: array([ 1.7416,  1.7416,  1.7416])\n",
      "  site_max_R: 0.6\n",
      "  site_density: 10.0\n",
      "  pose: -1\n",
      "  k_pose: 200.0\n",
      "  MCMC_moves: 1\n",
      "  rmsd: True\n",
      "  receptor_NAMD_Gas: array([[ 0.,  0.,  0.,  0.,  0.,  0.,  0.,  0.]])\n",
      "  receptor_NAMD_OBC: array([[     0.       ,      0.       ,      0.       ,      0.       ,\n",
      "        -70537.9380112,      0.       ,      0.       , -70537.9380112]])\n",
      "  delta_t_CD: 4.0\n"
     ]
    }
   ],
   "source": [
    "import AlGDock.BindingPMF_plots\n",
    "from AlGDock.BindingPMF_plots import *\n",
    "import os, shutil, glob\n",
    "\n",
    "phases = ['NAMD_Gas', 'NAMD_OBC']\n",
    "\n",
    "self = AlGDock.BindingPMF_plots.BPMF_plots(\\\n",
    "  dir_dock='dock', dir_cool='cool',\\\n",
    "  ligand_database='prmtopcrd/ligand.db', \\\n",
    "  forcefield='prmtopcrd/gaff2.dat', \\\n",
    "  ligand_prmtop='prmtopcrd/ligand.prmtop', \\\n",
    "  ligand_inpcrd='prmtopcrd/ligand.trans.inpcrd', \\\n",
    "  ligand_mol2='prmtopcrd/ligand.mol2', \\\n",
    "  ligand_rb='prmtopcrd/ligand.rb', \\\n",
    "  receptor_prmtop='prmtopcrd/receptor.prmtop', \\\n",
    "  receptor_inpcrd='prmtopcrd/receptor.trans.inpcrd', \\\n",
    "  receptor_fixed_atoms='prmtopcrd/receptor.pdb', \\\n",
    "  complex_prmtop='prmtopcrd/complex.prmtop', \\\n",
    "  complex_inpcrd='prmtopcrd/complex.trans.inpcrd', \\\n",
    "  complex_fixed_atoms='prmtopcrd/complex.pdb', \\\n",
    "  score = 'prmtopcrd/anchor_and_grow_scored.mol2', \\\n",
    "  pose=-1, \\\n",
    "  rmsd=True, \\\n",
    "  dir_grid='grids', \\\n",
    "  protocol='Adaptive', cool_therm_speed=5.0, dock_therm_speed=0.5, \\\n",
    "  T_HIGH=600.0, T_SIMMIN=300.0, T_TARGET=300.0, \\\n",
    "  sampler='HMC', \\\n",
    "  MCMC_moves=1, \\\n",
    "  sampling_importance_resampling = True, \\\n",
    "  solvation = 'Fractional', \\\n",
    "  seeds_per_state=10, steps_per_seed=200, darts_per_seed=0, \\\n",
    "  sweeps_per_cycle=25, attempts_per_sweep=100, \\\n",
    "  steps_per_sweep=100, darts_per_sweep=0, \\\n",
    "  cool_repX_cycles=3, dock_repX_cycles=4, \\\n",
    "  site='Sphere', site_center=[1.7416, 1.7416, 1.7416], \\\n",
    "  site_max_R=0.6, \\\n",
    "  site_density=10., \\\n",
    "  phases=phases, \\\n",
    "  cores=-1, \\\n",
    "  random_seed=-1, \\\n",
    "  max_time=240, \\\n",
    "  keep_intermediate=True)"
   ]
  },
  {
   "cell_type": "code",
   "execution_count": 2,
   "metadata": {
    "collapsed": false
   },
   "outputs": [
    {
     "name": "stdout",
     "output_type": "stream",
     "text": [
      "  LJr grid loaded from LJr.nc in 0.45 s\n",
      "  LJa grid loaded from LJa.nc in 0.18 s\n",
      "  ELE grid loaded from pbsa.nc in 0.03 s\n"
     ]
    },
    {
     "data": {
      "text/plain": [
       "{'ELE': -32.689209633621488,\n",
       " 'LJa': -281.57677977378074,\n",
       " 'LJr': 186.28414841594798,\n",
       " 'Lennard-Jones': 21.413802964373939,\n",
       " 'OBC_desolv': -358.92191041097993,\n",
       " 'cosine dihedral angle': 1.0999459308051078,\n",
       " 'electrostatic': 51.402086447910861,\n",
       " 'electrostatic/pair sum': 51.402086447910861,\n",
       " 'harmonic bond': 31.147260184927156,\n",
       " 'harmonic bond angle': 24.155664120012112,\n",
       " 'site': 0.0}"
      ]
     },
     "execution_count": 2,
     "metadata": {},
     "output_type": "execute_result"
    }
   ],
   "source": [
    "self.universe.setConfiguration(Configuration(self.universe,self.confs['ligand']))\n",
    "self._set_universe_evaluator(self._lambda(1.0, 'dock'))\n",
    "self.universe.energyTerms()"
   ]
  },
  {
   "cell_type": "code",
   "execution_count": 3,
   "metadata": {
    "collapsed": false
   },
   "outputs": [
    {
     "name": "stdout",
     "output_type": "stream",
     "text": [
      "/Users/dminh/Installers/AlGDock-0.0.1/Example/grids/desolv.nc\n"
     ]
    }
   ],
   "source": [
    "print self._forceFields['OBC'].desolvationGridFN"
   ]
  },
  {
   "cell_type": "code",
   "execution_count": 4,
   "metadata": {
    "collapsed": true
   },
   "outputs": [],
   "source": [
    "# First goal: Get GB radii for ligand.\n",
    "# Second goal: Load receptor\n",
    "# Third goal: Get GB radii for ligand with receptor present"
   ]
  },
  {
   "cell_type": "code",
   "execution_count": 5,
   "metadata": {
    "collapsed": true
   },
   "outputs": [],
   "source": [
    "# These are I before and after the fractional desolvation\n",
    "# Sum for atom 0: 1.55022, 1.66261\n",
    "# Sum for atom 1: 1.56983, 1.68106\n",
    "# Sum for atom 2: 1.41972, 1.53815\n",
    "# Sum for atom 3: 1.45936, 1.58425\n",
    "# Sum for atom 4: 2.05316, 2.15476\n",
    "# Sum for atom 5: 1.5354, 1.65705\n",
    "# Sum for atom 6: 1.43417, 1.56071\n",
    "# Sum for atom 7: 1.85508, 1.9636\n",
    "# Sum for atom 8: 2.06909, 2.17661\n",
    "# Sum for atom 9: 2.4237, 2.57502\n",
    "# Sum for atom 10: 1.9603, 2.16599\n",
    "# Sum for atom 11: 2.18017, 2.32447\n",
    "# Sum for atom 12: 2.19774, 2.32646\n",
    "# Sum for atom 13: 2.02152, 2.16213\n",
    "# Sum for atom 14: 2.05662, 2.21947\n",
    "# Sum for atom 15: 2.65659, 2.79067\n",
    "# Sum for atom 16: 2.81839, 2.9631\n",
    "# Sum for atom 17: 2.90653, 3.02582\n",
    "# Sum for atom 18: 2.37779, 2.5372\n",
    "# Sum for atom 19: 2.17795, 2.32426\n",
    "# Sum for atom 20: 1.77652, 1.89423\n",
    "# Sum for atom 21: 1.22359, 1.38423\n",
    "# Sum for atom 22: 1.2336, 1.40284\n",
    "# Sum for atom 23: 1.21771, 1.37135"
   ]
  },
  {
   "cell_type": "code",
   "execution_count": 6,
   "metadata": {
    "collapsed": false
   },
   "outputs": [],
   "source": [
    "# This is to test the gradients, which do not work\n",
    "# from AlGDock.ForceFields.OBC.OBC import OBCForceField\n",
    "# FF_desolv = OBCForceField(desolvationGridFN=self._FNs['grids']['desolv'])\n",
    "# self.universe.setForceField(FF_desolv)\n",
    "\n",
    "# from MMTK.ForceFields.ForceFieldTest import gradientTest\n",
    "#\n",
    "# gradientTest(self.universe)"
   ]
  },
  {
   "cell_type": "code",
   "execution_count": 7,
   "metadata": {
    "collapsed": false
   },
   "outputs": [],
   "source": [
    "# This seems to crash all the time for an unknown reason\n",
    "self.receptor_R = MMTK.Molecule('receptor.db')\n",
    "\n",
    "self.universe_R = MMTK.Universe.InfiniteUniverse()\n",
    "self.universe_R.addObject(self.receptor_R)\n",
    "\n",
    "from MMTK.ForceFields import Amber12SBForceField\n",
    "self._forceFields['AMBER'] = \\\n",
    "  Amber12SBForceField(\\\n",
    "    mod_files=['/Users/dminh/Installers/AlGDock-0.0.1/Data/frcmod.ff14SB',\n",
    "               '/Users/dminh/Installers/AlGDock-0.0.1/Example/prmtopcrd/R2773.frcmod',\n",
    "               '/Users/dminh/Installers/AlGDock-0.0.1/Example/prmtopcrd/R2777.frcmod'])\n",
    "#    '/Users/dminh/Installers/AlGDock-0.0.1/Data/parm10_gaff2.dat',   \n",
    "self.universe_R.setForceField(self._forceFields['AMBER'])\n",
    "self.universe_R.energy()"
   ]
  },
  {
   "cell_type": "code",
   "execution_count": 14,
   "metadata": {
    "collapsed": false
   },
   "outputs": [
    {
     "ename": "AttributeError",
     "evalue": "'AtomType' object has no attribute 'scaling_factor_BornRadii'",
     "output_type": "error",
     "traceback": [
      "\u001b[0;31m---------------------------------------------------------------------------\u001b[0m",
      "\u001b[0;31mAttributeError\u001b[0m                            Traceback (most recent call last)",
      "\u001b[0;32m<ipython-input-14-f0b78f39dd1f>\u001b[0m in \u001b[0;36m<module>\u001b[0;34m()\u001b[0m\n\u001b[1;32m     11\u001b[0m     \u001b[0;31m# mod_files=['/Users/dminh/Installers/AlGDock-0.0.1/Data/frcmod.ff14SB'])\u001b[0m\u001b[0;34m\u001b[0m\u001b[0;34m\u001b[0m\u001b[0m\n\u001b[1;32m     12\u001b[0m \u001b[0muniverse\u001b[0m\u001b[0;34m.\u001b[0m\u001b[0msetForceField\u001b[0m\u001b[0;34m(\u001b[0m\u001b[0mforcefield\u001b[0m\u001b[0;34m)\u001b[0m\u001b[0;34m\u001b[0m\u001b[0m\n\u001b[0;32m---> 13\u001b[0;31m \u001b[0muniverse\u001b[0m\u001b[0;34m.\u001b[0m\u001b[0menergyTerms\u001b[0m\u001b[0;34m(\u001b[0m\u001b[0;34m)\u001b[0m\u001b[0;34m\u001b[0m\u001b[0m\n\u001b[0m",
      "\u001b[0;32m/Users/dminh/Applications/miniconda2/envs/algdock/lib/python2.7/site-packages/MMTK/Universe.pyc\u001b[0m in \u001b[0;36menergyTerms\u001b[0;34m(self, subset1, subset2, small_change)\u001b[0m\n\u001b[1;32m    845\u001b[0m         \u001b[0;34m:\u001b[0m\u001b[0mrtype\u001b[0m\u001b[0;34m:\u001b[0m \u001b[0mdict\u001b[0m\u001b[0;34m\u001b[0m\u001b[0m\n\u001b[1;32m    846\u001b[0m         \"\"\"\n\u001b[0;32m--> 847\u001b[0;31m         \u001b[0meval\u001b[0m \u001b[0;34m=\u001b[0m \u001b[0mself\u001b[0m\u001b[0;34m.\u001b[0m\u001b[0menergyEvaluator\u001b[0m\u001b[0;34m(\u001b[0m\u001b[0msubset1\u001b[0m\u001b[0;34m,\u001b[0m \u001b[0msubset2\u001b[0m\u001b[0;34m)\u001b[0m\u001b[0;34m\u001b[0m\u001b[0m\n\u001b[0m\u001b[1;32m    848\u001b[0m         \u001b[0meval\u001b[0m\u001b[0;34m(\u001b[0m\u001b[0;36m0\u001b[0m\u001b[0;34m,\u001b[0m \u001b[0;36m0\u001b[0m\u001b[0;34m,\u001b[0m \u001b[0msmall_change\u001b[0m\u001b[0;34m)\u001b[0m\u001b[0;34m\u001b[0m\u001b[0m\n\u001b[1;32m    849\u001b[0m         \u001b[0;32mreturn\u001b[0m \u001b[0meval\u001b[0m\u001b[0;34m.\u001b[0m\u001b[0mlastEnergyTerms\u001b[0m\u001b[0;34m(\u001b[0m\u001b[0;34m)\u001b[0m\u001b[0;34m\u001b[0m\u001b[0m\n",
      "\u001b[0;32m/Users/dminh/Applications/miniconda2/envs/algdock/lib/python2.7/site-packages/MMTK/Universe.pyc\u001b[0m in \u001b[0;36menergyEvaluator\u001b[0;34m(self, subset1, subset2, threads, mpi_communicator)\u001b[0m\n\u001b[1;32m    785\u001b[0m             eval = ForceField.EnergyEvaluator(self, self._forcefield,\n\u001b[1;32m    786\u001b[0m                                               \u001b[0msubset1\u001b[0m\u001b[0;34m,\u001b[0m \u001b[0msubset2\u001b[0m\u001b[0;34m,\u001b[0m\u001b[0;34m\u001b[0m\u001b[0m\n\u001b[0;32m--> 787\u001b[0;31m                                               threads, mpi_communicator)\n\u001b[0m\u001b[1;32m    788\u001b[0m             \u001b[0mself\u001b[0m\u001b[0;34m.\u001b[0m\u001b[0m_evaluator\u001b[0m\u001b[0;34m[\u001b[0m\u001b[0;34m(\u001b[0m\u001b[0msubset1\u001b[0m\u001b[0;34m,\u001b[0m \u001b[0msubset2\u001b[0m\u001b[0;34m,\u001b[0m \u001b[0mthreads\u001b[0m\u001b[0;34m)\u001b[0m\u001b[0;34m]\u001b[0m \u001b[0;34m=\u001b[0m \u001b[0meval\u001b[0m\u001b[0;34m\u001b[0m\u001b[0m\n\u001b[1;32m    789\u001b[0m         \u001b[0;32mreturn\u001b[0m \u001b[0meval\u001b[0m\u001b[0;34m\u001b[0m\u001b[0m\n",
      "\u001b[0;32m/Users/dminh/Applications/miniconda2/envs/algdock/lib/python2.7/site-packages/MMTK/ForceFields/ForceField.pyc\u001b[0m in \u001b[0;36m__init__\u001b[0;34m(self, universe, force_field, subset1, subset2, threads, mpi_communicator)\u001b[0m\n\u001b[1;32m    275\u001b[0m         terms = self.ff.evaluatorTerms(self.universe,\n\u001b[1;32m    276\u001b[0m                                        \u001b[0msubset1\u001b[0m\u001b[0;34m,\u001b[0m \u001b[0msubset2\u001b[0m\u001b[0;34m,\u001b[0m\u001b[0;34m\u001b[0m\u001b[0m\n\u001b[0;32m--> 277\u001b[0;31m                                        self.global_data)\n\u001b[0m\u001b[1;32m    278\u001b[0m         \u001b[0;32mif\u001b[0m \u001b[0;32mnot\u001b[0m \u001b[0misinstance\u001b[0m\u001b[0;34m(\u001b[0m\u001b[0mterms\u001b[0m\u001b[0;34m,\u001b[0m \u001b[0mlist\u001b[0m\u001b[0;34m)\u001b[0m\u001b[0;34m:\u001b[0m\u001b[0;34m\u001b[0m\u001b[0m\n\u001b[1;32m    279\u001b[0m             \u001b[0;32mraise\u001b[0m \u001b[0mValueError\u001b[0m\u001b[0;34m(\u001b[0m\u001b[0;34m\"evaluator term list not a list\"\u001b[0m\u001b[0;34m)\u001b[0m\u001b[0;34m\u001b[0m\u001b[0m\n",
      "\u001b[0;32m/Users/dminh/Applications/miniconda2/envs/algdock/lib/python2.7/site-packages/MMTK/ForceFields/ForceField.pyc\u001b[0m in \u001b[0;36mevaluatorTerms\u001b[0;34m(self, system, subset1, subset2, global_data)\u001b[0m\n\u001b[1;32m    163\u001b[0m             \u001b[0meval_objects\u001b[0m\u001b[0;34m.\u001b[0m\u001b[0mextend\u001b[0m\u001b[0;34m(\u001b[0m\u001b[0mterms\u001b[0m\u001b[0;34m)\u001b[0m\u001b[0;34m\u001b[0m\u001b[0m\n\u001b[1;32m    164\u001b[0m         self._compoundEvaluator(system, subset1, subset2, global_data,\n\u001b[0;32m--> 165\u001b[0;31m                                 'evaluatorTerms', add_item)\n\u001b[0m\u001b[1;32m    166\u001b[0m         \u001b[0;32mreturn\u001b[0m \u001b[0meval_objects\u001b[0m\u001b[0;34m\u001b[0m\u001b[0m\n\u001b[1;32m    167\u001b[0m \u001b[0;34m\u001b[0m\u001b[0m\n",
      "\u001b[0;32m/Users/dminh/Applications/miniconda2/envs/algdock/lib/python2.7/site-packages/MMTK/ForceFields/ForceField.pyc\u001b[0m in \u001b[0;36m_compoundEvaluator\u001b[0;34m(self, system, subset1, subset2, global_data, method, add_item)\u001b[0m\n\u001b[1;32m    175\u001b[0m                 \u001b[0;32mif\u001b[0m \u001b[0mff\u001b[0m\u001b[0;34m.\u001b[0m\u001b[0mready\u001b[0m\u001b[0;34m(\u001b[0m\u001b[0mglobal_data\u001b[0m\u001b[0;34m)\u001b[0m\u001b[0;34m:\u001b[0m\u001b[0;34m\u001b[0m\u001b[0m\n\u001b[1;32m    176\u001b[0m                     item = getattr(ff, method)(system, subset1, subset2,\n\u001b[0;32m--> 177\u001b[0;31m                                                global_data)\n\u001b[0m\u001b[1;32m    178\u001b[0m                     \u001b[0madd_item\u001b[0m\u001b[0;34m(\u001b[0m\u001b[0mitem\u001b[0m\u001b[0;34m)\u001b[0m\u001b[0;34m\u001b[0m\u001b[0m\n\u001b[1;32m    179\u001b[0m                     \u001b[0mdone\u001b[0m\u001b[0;34m.\u001b[0m\u001b[0mappend\u001b[0m\u001b[0;34m(\u001b[0m\u001b[0mff\u001b[0m\u001b[0;34m)\u001b[0m\u001b[0;34m\u001b[0m\u001b[0m\n",
      "\u001b[0;32m/Users/dminh/Applications/miniconda2/envs/algdock/lib/python2.7/site-packages/AlGDock/ForceFields/OBC/OBC.pyc\u001b[0m in \u001b[0;36mevaluatorTerms\u001b[0;34m(self, universe, subset1, subset2, global_data)\u001b[0m\n\u001b[1;32m    111\u001b[0m             \u001b[0;32mfor\u001b[0m \u001b[0ma\u001b[0m \u001b[0;32min\u001b[0m \u001b[0mo\u001b[0m\u001b[0;34m.\u001b[0m\u001b[0matomList\u001b[0m\u001b[0;34m(\u001b[0m\u001b[0;34m)\u001b[0m\u001b[0;34m:\u001b[0m\u001b[0;34m\u001b[0m\u001b[0m\n\u001b[1;32m    112\u001b[0m               \u001b[0mcharges_ps\u001b[0m\u001b[0;34m[\u001b[0m\u001b[0ma\u001b[0m\u001b[0;34m]\u001b[0m \u001b[0;34m=\u001b[0m \u001b[0mo\u001b[0m\u001b[0;34m.\u001b[0m\u001b[0mgetAtomProperty\u001b[0m\u001b[0;34m(\u001b[0m\u001b[0ma\u001b[0m\u001b[0;34m,\u001b[0m \u001b[0;34m'amber_charge'\u001b[0m\u001b[0;34m)\u001b[0m\u001b[0;34m\u001b[0m\u001b[0m\n\u001b[0;32m--> 113\u001b[0;31m               \u001b[0matomicRadii_ps\u001b[0m\u001b[0;34m[\u001b[0m\u001b[0ma\u001b[0m\u001b[0;34m]\u001b[0m \u001b[0;34m=\u001b[0m \u001b[0mo\u001b[0m\u001b[0;34m.\u001b[0m\u001b[0mgetAtomProperty\u001b[0m\u001b[0;34m(\u001b[0m\u001b[0ma\u001b[0m\u001b[0;34m,\u001b[0m \u001b[0;34m'scaling_factor_BornRadii'\u001b[0m\u001b[0;34m)\u001b[0m\u001b[0;34m\u001b[0m\u001b[0m\n\u001b[0m\u001b[1;32m    114\u001b[0m               \u001b[0mscaleFactors_ps\u001b[0m\u001b[0;34m[\u001b[0m\u001b[0ma\u001b[0m\u001b[0;34m]\u001b[0m \u001b[0;34m=\u001b[0m \u001b[0mo\u001b[0m\u001b[0;34m.\u001b[0m\u001b[0mgetAtomProperty\u001b[0m\u001b[0;34m(\u001b[0m\u001b[0ma\u001b[0m\u001b[0;34m,\u001b[0m \u001b[0;34m'scaling_factor_BornScreening'\u001b[0m\u001b[0;34m)\u001b[0m\u001b[0;34m\u001b[0m\u001b[0m\n\u001b[1;32m    115\u001b[0m           \u001b[0mcharges\u001b[0m \u001b[0;34m=\u001b[0m \u001b[0mcharges_ps\u001b[0m\u001b[0;34m.\u001b[0m\u001b[0marray\u001b[0m\u001b[0;34m\u001b[0m\u001b[0m\n",
      "\u001b[0;32m/Users/dminh/Applications/miniconda2/envs/algdock/lib/python2.7/site-packages/MMTK/ChemicalObjects.pyc\u001b[0m in \u001b[0;36mgetAtomProperty\u001b[0;34m(self, atom, property, levels)\u001b[0m\n\u001b[1;32m    385\u001b[0m                     raise KeyError('Property ' + property +\n\u001b[1;32m    386\u001b[0m                                     ' not defined for  ', `atom`)\n\u001b[0;32m--> 387\u001b[0;31m                 \u001b[0;32mreturn\u001b[0m \u001b[0mlevels\u001b[0m\u001b[0;34m[\u001b[0m\u001b[0;34m-\u001b[0m\u001b[0;36m1\u001b[0m\u001b[0;34m]\u001b[0m\u001b[0;34m.\u001b[0m\u001b[0mgetAtomProperty\u001b[0m\u001b[0;34m(\u001b[0m\u001b[0matom\u001b[0m\u001b[0;34m,\u001b[0m \u001b[0mproperty\u001b[0m\u001b[0;34m,\u001b[0m \u001b[0mlevels\u001b[0m\u001b[0;34m[\u001b[0m\u001b[0;34m:\u001b[0m\u001b[0;34m-\u001b[0m\u001b[0;36m1\u001b[0m\u001b[0;34m]\u001b[0m\u001b[0;34m)\u001b[0m\u001b[0;34m\u001b[0m\u001b[0m\n\u001b[0m\u001b[1;32m    388\u001b[0m \u001b[0;34m\u001b[0m\u001b[0m\n\u001b[1;32m    389\u001b[0m     \u001b[0;32mdef\u001b[0m \u001b[0mdeleteUndefinedAtoms\u001b[0m\u001b[0;34m(\u001b[0m\u001b[0mself\u001b[0m\u001b[0;34m)\u001b[0m\u001b[0;34m:\u001b[0m\u001b[0;34m\u001b[0m\u001b[0m\n",
      "\u001b[0;32m/Users/dminh/Applications/miniconda2/envs/algdock/lib/python2.7/site-packages/MMTK/ChemicalObjects.pyc\u001b[0m in \u001b[0;36mgetAtomProperty\u001b[0;34m(self, atom, property, levels)\u001b[0m\n\u001b[1;32m    385\u001b[0m                     raise KeyError('Property ' + property +\n\u001b[1;32m    386\u001b[0m                                     ' not defined for  ', `atom`)\n\u001b[0;32m--> 387\u001b[0;31m                 \u001b[0;32mreturn\u001b[0m \u001b[0mlevels\u001b[0m\u001b[0;34m[\u001b[0m\u001b[0;34m-\u001b[0m\u001b[0;36m1\u001b[0m\u001b[0;34m]\u001b[0m\u001b[0;34m.\u001b[0m\u001b[0mgetAtomProperty\u001b[0m\u001b[0;34m(\u001b[0m\u001b[0matom\u001b[0m\u001b[0;34m,\u001b[0m \u001b[0mproperty\u001b[0m\u001b[0;34m,\u001b[0m \u001b[0mlevels\u001b[0m\u001b[0;34m[\u001b[0m\u001b[0;34m:\u001b[0m\u001b[0;34m-\u001b[0m\u001b[0;36m1\u001b[0m\u001b[0;34m]\u001b[0m\u001b[0;34m)\u001b[0m\u001b[0;34m\u001b[0m\u001b[0m\n\u001b[0m\u001b[1;32m    388\u001b[0m \u001b[0;34m\u001b[0m\u001b[0m\n\u001b[1;32m    389\u001b[0m     \u001b[0;32mdef\u001b[0m \u001b[0mdeleteUndefinedAtoms\u001b[0m\u001b[0;34m(\u001b[0m\u001b[0mself\u001b[0m\u001b[0;34m)\u001b[0m\u001b[0;34m:\u001b[0m\u001b[0;34m\u001b[0m\u001b[0m\n",
      "\u001b[0;32m/Users/dminh/Applications/miniconda2/envs/algdock/lib/python2.7/site-packages/MMTK/ChemicalObjects.pyc\u001b[0m in \u001b[0;36mgetAtomProperty\u001b[0;34m(self, atom, property, levels)\u001b[0m\n\u001b[1;32m    385\u001b[0m                     raise KeyError('Property ' + property +\n\u001b[1;32m    386\u001b[0m                                     ' not defined for  ', `atom`)\n\u001b[0;32m--> 387\u001b[0;31m                 \u001b[0;32mreturn\u001b[0m \u001b[0mlevels\u001b[0m\u001b[0;34m[\u001b[0m\u001b[0;34m-\u001b[0m\u001b[0;36m1\u001b[0m\u001b[0;34m]\u001b[0m\u001b[0;34m.\u001b[0m\u001b[0mgetAtomProperty\u001b[0m\u001b[0;34m(\u001b[0m\u001b[0matom\u001b[0m\u001b[0;34m,\u001b[0m \u001b[0mproperty\u001b[0m\u001b[0;34m,\u001b[0m \u001b[0mlevels\u001b[0m\u001b[0;34m[\u001b[0m\u001b[0;34m:\u001b[0m\u001b[0;34m-\u001b[0m\u001b[0;36m1\u001b[0m\u001b[0;34m]\u001b[0m\u001b[0;34m)\u001b[0m\u001b[0;34m\u001b[0m\u001b[0m\n\u001b[0m\u001b[1;32m    388\u001b[0m \u001b[0;34m\u001b[0m\u001b[0m\n\u001b[1;32m    389\u001b[0m     \u001b[0;32mdef\u001b[0m \u001b[0mdeleteUndefinedAtoms\u001b[0m\u001b[0;34m(\u001b[0m\u001b[0mself\u001b[0m\u001b[0;34m)\u001b[0m\u001b[0;34m:\u001b[0m\u001b[0;34m\u001b[0m\u001b[0m\n",
      "\u001b[0;32m/Users/dminh/Applications/miniconda2/envs/algdock/lib/python2.7/site-packages/MMTK/ChemicalObjects.pyc\u001b[0m in \u001b[0;36mgetAtomProperty\u001b[0;34m(self, atom, property, levels)\u001b[0m\n\u001b[1;32m    385\u001b[0m                     raise KeyError('Property ' + property +\n\u001b[1;32m    386\u001b[0m                                     ' not defined for  ', `atom`)\n\u001b[0;32m--> 387\u001b[0;31m                 \u001b[0;32mreturn\u001b[0m \u001b[0mlevels\u001b[0m\u001b[0;34m[\u001b[0m\u001b[0;34m-\u001b[0m\u001b[0;36m1\u001b[0m\u001b[0;34m]\u001b[0m\u001b[0;34m.\u001b[0m\u001b[0mgetAtomProperty\u001b[0m\u001b[0;34m(\u001b[0m\u001b[0matom\u001b[0m\u001b[0;34m,\u001b[0m \u001b[0mproperty\u001b[0m\u001b[0;34m,\u001b[0m \u001b[0mlevels\u001b[0m\u001b[0;34m[\u001b[0m\u001b[0;34m:\u001b[0m\u001b[0;34m-\u001b[0m\u001b[0;36m1\u001b[0m\u001b[0;34m]\u001b[0m\u001b[0;34m)\u001b[0m\u001b[0;34m\u001b[0m\u001b[0m\n\u001b[0m\u001b[1;32m    388\u001b[0m \u001b[0;34m\u001b[0m\u001b[0m\n\u001b[1;32m    389\u001b[0m     \u001b[0;32mdef\u001b[0m \u001b[0mdeleteUndefinedAtoms\u001b[0m\u001b[0;34m(\u001b[0m\u001b[0mself\u001b[0m\u001b[0;34m)\u001b[0m\u001b[0;34m:\u001b[0m\u001b[0;34m\u001b[0m\u001b[0m\n",
      "\u001b[0;32m/Users/dminh/Applications/miniconda2/envs/algdock/lib/python2.7/site-packages/MMTK/ChemicalObjects.pyc\u001b[0m in \u001b[0;36mgetAtomProperty\u001b[0;34m(self, atom, property, levels)\u001b[0m\n\u001b[1;32m    677\u001b[0m         \u001b[0;32mif\u001b[0m \u001b[0mself\u001b[0m \u001b[0;34m!=\u001b[0m \u001b[0matom\u001b[0m\u001b[0;34m:\u001b[0m\u001b[0;34m\u001b[0m\u001b[0m\n\u001b[1;32m    678\u001b[0m             \u001b[0;32mraise\u001b[0m \u001b[0mValueError\u001b[0m\u001b[0;34m(\u001b[0m\u001b[0;34m\"Wrong atom\"\u001b[0m\u001b[0;34m)\u001b[0m\u001b[0;34m\u001b[0m\u001b[0m\n\u001b[0;32m--> 679\u001b[0;31m         \u001b[0;32mreturn\u001b[0m \u001b[0mgetattr\u001b[0m\u001b[0;34m(\u001b[0m\u001b[0mself\u001b[0m\u001b[0;34m,\u001b[0m \u001b[0mproperty\u001b[0m\u001b[0;34m)\u001b[0m\u001b[0;34m\u001b[0m\u001b[0m\n\u001b[0m\u001b[1;32m    680\u001b[0m \u001b[0;34m\u001b[0m\u001b[0m\n\u001b[1;32m    681\u001b[0m     \u001b[0;32mdef\u001b[0m \u001b[0m_description\u001b[0m\u001b[0;34m(\u001b[0m\u001b[0mself\u001b[0m\u001b[0;34m,\u001b[0m \u001b[0mtag\u001b[0m\u001b[0;34m,\u001b[0m \u001b[0mindex_map\u001b[0m\u001b[0;34m,\u001b[0m \u001b[0mtoplevel\u001b[0m\u001b[0;34m)\u001b[0m\u001b[0;34m:\u001b[0m\u001b[0;34m\u001b[0m\u001b[0m\n",
      "\u001b[0;32m/Users/dminh/Applications/miniconda2/envs/algdock/lib/python2.7/site-packages/MMTK/ChemicalObjects.pyc\u001b[0m in \u001b[0;36m__getattr__\u001b[0;34m(self, attr)\u001b[0m\n\u001b[1;32m     56\u001b[0m             \u001b[0;32mraise\u001b[0m \u001b[0mAttributeError\u001b[0m\u001b[0;34m\u001b[0m\u001b[0m\n\u001b[1;32m     57\u001b[0m         \u001b[0;32melse\u001b[0m\u001b[0;34m:\u001b[0m\u001b[0;34m\u001b[0m\u001b[0m\n\u001b[0;32m---> 58\u001b[0;31m             \u001b[0;32mreturn\u001b[0m \u001b[0mgetattr\u001b[0m\u001b[0;34m(\u001b[0m\u001b[0mself\u001b[0m\u001b[0;34m.\u001b[0m\u001b[0mtype\u001b[0m\u001b[0;34m,\u001b[0m \u001b[0mattr\u001b[0m\u001b[0;34m)\u001b[0m\u001b[0;34m\u001b[0m\u001b[0m\n\u001b[0m\u001b[1;32m     59\u001b[0m \u001b[0;34m\u001b[0m\u001b[0m\n\u001b[1;32m     60\u001b[0m     \u001b[0;32mdef\u001b[0m \u001b[0misSubsetModel\u001b[0m\u001b[0;34m(\u001b[0m\u001b[0mself\u001b[0m\u001b[0;34m)\u001b[0m\u001b[0;34m:\u001b[0m\u001b[0;34m\u001b[0m\u001b[0m\n",
      "\u001b[0;31mAttributeError\u001b[0m: 'AtomType' object has no attribute 'scaling_factor_BornRadii'"
     ]
    }
   ],
   "source": [
    "import MMTK\n",
    "universe = MMTK.Universe.InfiniteUniverse()\n",
    "\n",
    "from MMTK.Proteins import Protein\n",
    "protein = Protein('/Users/dminh/Installers/AlGDock-0.0.1/Example/prmtopcrd/receptor.pdb')\n",
    "universe.addObject(protein)\n",
    "\n",
    "from MMTK.ForceFields import Amber12SBForceField\n",
    "forcefield = Amber12SBForceField(mod_files=['/Users/dminh/Installers/AlGDock-0.0.1/Data/frcmod.ff14SB']) + \\\n",
    "  self._forceFields['OBC']\n",
    "    # '/Users/dminh/Installers/AlGDock-0.0.1/Data/parm10.dat', \n",
    "    # mod_files=['/Users/dminh/Installers/AlGDock-0.0.1/Data/frcmod.ff14SB'])\n",
    "universe.setForceField(forcefield)\n",
    "universe.energyTerms()"
   ]
  },
  {
   "cell_type": "code",
   "execution_count": 9,
   "metadata": {
    "collapsed": false
   },
   "outputs": [],
   "source": [
    "# self.receptor_RL = MMTK.Molecule('receptor.db')\n",
    "# self.molecule_RL = MMTK.Molecule(os.path.basename(self._FNs['ligand_database']))\n",
    "\n",
    "# self.universe_RL = MMTK.Universe.InfiniteUniverse()\n",
    "# self.universe_RL.addObject(self.receptor_RL)\n",
    "# self.universe_RL.addObject(self.molecule_RL)"
   ]
  },
  {
   "cell_type": "code",
   "execution_count": 10,
   "metadata": {
    "collapsed": false
   },
   "outputs": [],
   "source": [
    "# from MMTK.ForceFields import Amber12SBForceField\n",
    "# self._forceFields['AMBER'] = Amber12SBForceField(\\\n",
    "#   '/Users/dminh/Installers/AlGDock-0.0.1/Data/parm10.dat', \n",
    "#   mod_files=['/Users/dminh/Installers/AlGDock-0.0.1/Data/frcmod.ff14SB'])"
   ]
  },
  {
   "cell_type": "code",
   "execution_count": 11,
   "metadata": {
    "collapsed": false
   },
   "outputs": [],
   "source": [
    "# self.universe_RL.setForceField(self._forceFields['gaff'] + self._forceFields['AMBER'])\n",
    "# # self.universe_RL._evaluator[(None,None,None)] = self.universe._evaluator[(None,None,None)]\n",
    "# self.universe_RL.energy()"
   ]
  },
  {
   "cell_type": "code",
   "execution_count": 12,
   "metadata": {
    "collapsed": false
   },
   "outputs": [],
   "source": [
    "# self.universe_RL.energyTerms()"
   ]
  },
  {
   "cell_type": "code",
   "execution_count": 13,
   "metadata": {
    "collapsed": true
   },
   "outputs": [],
   "source": [
    "# self.molecule."
   ]
  }
 ],
 "metadata": {
  "kernelspec": {
   "display_name": "Python 2",
   "language": "python",
   "name": "python2"
  },
  "language_info": {
   "codemirror_mode": {
    "name": "ipython",
    "version": 2
   },
   "file_extension": ".py",
   "mimetype": "text/x-python",
   "name": "python",
   "nbconvert_exporter": "python",
   "pygments_lexer": "ipython2",
   "version": "2.7.11"
  }
 },
 "nbformat": 4,
 "nbformat_minor": 2
}
