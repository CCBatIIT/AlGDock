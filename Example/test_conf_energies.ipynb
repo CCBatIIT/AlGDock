{
 "cells": [
  {
   "cell_type": "code",
   "execution_count": 1,
   "metadata": {
    "collapsed": false
   },
   "outputs": [
    {
     "name": "stdout",
     "output_type": "stream",
     "text": [
      "###########\n",
      "# AlGDock #\n",
      "###########\n",
      "Molecular docking with adaptively scaled alchemical interaction grids\n",
      "\n",
      "in /Users/dminh/Applications/miniconda2/envs/algdock/lib/python2.7/site-packages/AlGDock/BindingPMF.py\n",
      "last modified Fri Jul  7 04:39:28 2017\n",
      "    \n",
      "using 4/4 available cores\n",
      "using random number seed of -1\n",
      "\n",
      "*** Directories ***\n",
      "  start: /Users/dminh/Installers/AlGDock-0.0.1/Example\n",
      "  cool: /Users/dminh/Installers/AlGDock-0.0.1/Example/cool\n",
      "  dock: /Users/dminh/Installers/AlGDock-0.0.1/Example/dock\n",
      "\n",
      "*** Files ***\n",
      "previously stored in cool directory:\n",
      "  prmtop:\n",
      "    L: prmtopcrd/ligand.prmtop\n",
      "  ligand_database: prmtopcrd/ligand.db\n",
      "  forcefield: ../Data/gaff2.dat\n",
      "  inpcrd:\n",
      "    L: prmtopcrd/ligand.trans.inpcrd\n",
      "\n",
      "previously stored in dock directory:\n",
      "  namd: ../../../Applications/NAMD_2.10/namd2\n",
      "  grids:\n",
      "    LJr: grids/LJr.nc\n",
      "    LJa: grids/LJa.nc\n",
      "    ELE: grids/pbsa.nc\n",
      "    desolv: grids/desolv.nc\n",
      "  prmtop:\n",
      "    L: prmtopcrd/ligand.prmtop\n",
      "    R: prmtopcrd/receptor.prmtop\n",
      "    RL: prmtopcrd/complex.prmtop\n",
      "  ligand_database: prmtopcrd/ligand.db\n",
      "  fixed_atoms:\n",
      "    R: prmtopcrd/receptor.pdb\n",
      "    RL: prmtopcrd/complex.pdb\n",
      "  mol2:\n",
      "    L: prmtopcrd/ligand.mol2\n",
      "  score: prmtopcrd/xtal_plus_dock6_scored.mol2\n",
      "  forcefield: ../Data/gaff2.dat\n",
      "  dir_cool: cool\n",
      "  inpcrd:\n",
      "    L: prmtopcrd/ligand.trans.inpcrd\n",
      "    R: prmtopcrd/receptor.trans.inpcrd\n",
      "    RL: prmtopcrd/complex.trans.inpcrd\n",
      "\n",
      "from arguments and defaults:\n",
      "  failed to find file in: prmtopcrd/ligand.rb, /Users/dminh/Installers/AlGDock-0.0.1/Example/dock/prmtopcrd/ligand.rb\n",
      "  ligand_database: prmtopcrd/ligand.db\n",
      "  forcefield: ../Data/gaff2.dat\n",
      "  prmtop:\n",
      "    L: prmtopcrd/ligand.prmtop\n",
      "    R: prmtopcrd/receptor.prmtop\n",
      "    RL: prmtopcrd/complex.prmtop\n",
      "  inpcrd:\n",
      "    L: prmtopcrd/ligand.trans.inpcrd\n",
      "    R: prmtopcrd/receptor.trans.inpcrd\n",
      "    RL: prmtopcrd/complex.trans.inpcrd\n",
      "  mol2:\n",
      "    L: prmtopcrd/ligand.mol2\n",
      "  fixed_atoms:\n",
      "    R: prmtopcrd/receptor.pdb\n",
      "    RL: prmtopcrd/complex.pdb\n",
      "  grids:\n",
      "    LJr: grids/LJr.nc\n",
      "    LJa: grids/LJa.nc\n",
      "    ELE: grids/pbsa.nc\n",
      "    desolv: grids/desolv.nc\n",
      "  score: prmtopcrd/xtal_plus_dock6_scored.mol2\n",
      "  dir_cool: cool\n",
      "\n",
      "to be used:\n",
      "  ligand_database: prmtopcrd/ligand.db\n",
      "  forcefield: ../Data/gaff2.dat\n",
      "  frcmodList: ['/Users/dminh/Installers/AlGDock-0.0.1/Example/prmtopcrd/ligand.frcmod']\n",
      "  prmtop:\n",
      "    L: prmtopcrd/ligand.prmtop\n",
      "    R: prmtopcrd/receptor.prmtop\n",
      "    RL: prmtopcrd/complex.prmtop\n",
      "  inpcrd:\n",
      "    L: prmtopcrd/ligand.trans.inpcrd\n",
      "    R: prmtopcrd/receptor.trans.inpcrd\n",
      "    RL: prmtopcrd/complex.trans.inpcrd\n",
      "  mol2:\n",
      "    L: prmtopcrd/ligand.mol2\n",
      "  fixed_atoms:\n",
      "    R: prmtopcrd/receptor.pdb\n",
      "    RL: prmtopcrd/complex.pdb\n",
      "  grids:\n",
      "    LJr: grids/LJr.nc\n",
      "    LJa: grids/LJa.nc\n",
      "    ELE: grids/pbsa.nc\n",
      "    desolv: grids/desolv.nc\n",
      "  score: prmtopcrd/xtal_plus_dock6_scored.mol2\n",
      "  dir_cool: cool\n",
      "  namd: ../../../Applications/NAMD_2.10/namd2\n",
      "\n",
      ">>> Setting up the simulation\n",
      "  considering a residue named \"iga\" as the ligand\n",
      "\n",
      "*** Simulation parameters and constants ***\n",
      "\n",
      "for cool:\n",
      "  protocol: Adaptive\n",
      "  therm_speed: 25.0\n",
      "  T_HIGH: 450.0\n",
      "  T_SIMMIN: 300.0\n",
      "  T_TARGET: 300.0\n",
      "  H_mass: 4.0\n",
      "  fraction_CD: 0.5\n",
      "  CD_steps_per_trial: 5\n",
      "  delta_t: 3.0\n",
      "  sampler: HMC\n",
      "  steps_per_seed: 200\n",
      "  seeds_per_state: 10\n",
      "  darts_per_seed: 0\n",
      "  repX_cycles: 3\n",
      "  min_repX_acc: 0.4\n",
      "  sweeps_per_cycle: 50\n",
      "  attempts_per_sweep: 100\n",
      "  steps_per_sweep: 50\n",
      "  darts_per_sweep: 0\n",
      "  snaps_per_independent: 3.0\n",
      "  phases: ['NAMD_Gas', 'NAMD_OBC']\n",
      "  sampling_importance_resampling: True\n",
      "  solvation: Full\n",
      "  keep_intermediate: True\n",
      "  GMC_attempts: 0\n",
      "  GMC_tors_threshold: 0.0\n",
      "  delta_t_CD: 4.0\n",
      "\n",
      "for dock:\n",
      "  protocol: Adaptive\n",
      "  therm_speed: 0.25\n",
      "  T_HIGH: 450.0\n",
      "  T_SIMMIN: 300.0\n",
      "  T_TARGET: 300.0\n",
      "  H_mass: 4.0\n",
      "  fraction_CD: 0.5\n",
      "  CD_steps_per_trial: 5\n",
      "  delta_t: 3.0\n",
      "  sampler: HMC\n",
      "  steps_per_seed: 200\n",
      "  seeds_per_state: 10\n",
      "  darts_per_seed: 0\n",
      "  repX_cycles: 4\n",
      "  min_repX_acc: 0.4\n",
      "  sweeps_per_cycle: 50\n",
      "  attempts_per_sweep: 100\n",
      "  steps_per_sweep: 50\n",
      "  darts_per_sweep: 0\n",
      "  snaps_per_independent: 20.0\n",
      "  phases: ['NAMD_Gas', 'NAMD_OBC']\n",
      "  sampling_importance_resampling: True\n",
      "  solvation: Full\n",
      "  keep_intermediate: True\n",
      "  GMC_attempts: 0\n",
      "  GMC_tors_threshold: 0.0\n",
      "  temperature_scaling: Quadratic\n",
      "  site: Sphere\n",
      "  site_center: array([ 1.7416,  1.7416,  1.7416])\n",
      "  site_max_R: 1.0\n",
      "  site_density: 10.0\n",
      "  pose: -1\n",
      "  k_pose: 200.0\n",
      "  MCMC_moves: 1\n",
      "  rmsd: True\n",
      "  receptor_NAMD_Gas: array([[ 0.,  0.,  0.,  0.,  0.,  0.,  0.,  0.]])\n",
      "  receptor_NAMD_OBC: array([[     0.      ,      0.      ,      0.      ,      0.      ,\n",
      "        -56747.052264,      0.      ,      0.      , -56747.052264]])\n",
      "  delta_t_CD: 4.0\n"
     ]
    }
   ],
   "source": [
    "import AlGDock.BindingPMF_plots\n",
    "from AlGDock.BindingPMF_plots import *\n",
    "import os, shutil, glob\n",
    "\n",
    "phases = ['NAMD_Gas', 'NAMD_OBC']\n",
    "\n",
    "self = AlGDock.BindingPMF_plots.BPMF_plots(\\\n",
    "  dir_dock='dock', dir_cool='cool',\\\n",
    "  ligand_database='prmtopcrd/ligand.db', \\\n",
    "  forcefield='prmtopcrd/gaff2.dat', \\\n",
    "  ligand_prmtop='prmtopcrd/ligand.prmtop', \\\n",
    "  ligand_inpcrd='prmtopcrd/ligand.trans.inpcrd', \\\n",
    "  ligand_mol2='prmtopcrd/ligand.mol2', \\\n",
    "  ligand_rb='prmtopcrd/ligand.rb', \\\n",
    "  receptor_prmtop='prmtopcrd/receptor.prmtop', \\\n",
    "  receptor_inpcrd='prmtopcrd/receptor.trans.inpcrd', \\\n",
    "  receptor_fixed_atoms='prmtopcrd/receptor.pdb', \\\n",
    "  complex_prmtop='prmtopcrd/complex.prmtop', \\\n",
    "  complex_inpcrd='prmtopcrd/complex.trans.inpcrd', \\\n",
    "  complex_fixed_atoms='prmtopcrd/complex.pdb', \\\n",
    "  score = 'prmtopcrd/xtal_plus_dock6_scored.mol2', \\\n",
    "  temperature_scaling = 'Quadratic', \\\n",
    "  pose = -1, \\\n",
    "  rmsd=True, \\\n",
    "  dir_grid='grids', \\\n",
    "  protocol='Adaptive', cool_therm_speed=25.0, dock_therm_speed=0.25, \\\n",
    "  T_HIGH=450.0, T_SIMMIN=300.0, T_TARGET=300.0, \\\n",
    "  sampler='HMC', \\\n",
    "  MCMC_moves=1, \\\n",
    "  sampling_importance_resampling = True, \\\n",
    "  solvation = 'Full', \\\n",
    "  seeds_per_state=10, steps_per_seed=200, darts_per_seed=0, \\\n",
    "  sweeps_per_cycle=50, attempts_per_sweep=100, \\\n",
    "  steps_per_sweep=50, darts_per_sweep=0, \\\n",
    "  cool_repX_cycles=3, dock_repX_cycles=4, \\\n",
    "  site='Sphere', site_center=[1.7416, 1.7416, 1.7416], \\\n",
    "  site_max_R=1.0, \\\n",
    "  site_density=10., \\\n",
    "  phases=phases, \\\n",
    "  cores=-1, \\\n",
    "  random_seed=-1, \\\n",
    "  max_time=240, \\\n",
    "  keep_intermediate=True)"
   ]
  },
  {
   "cell_type": "code",
   "execution_count": 4,
   "metadata": {
    "collapsed": false
   },
   "outputs": [
    {
     "name": "stdout",
     "output_type": "stream",
     "text": [
      "  LJr grid loaded from LJr.nc in 0.40 s\n",
      "  LJa grid loaded from LJa.nc in 0.16 s\n",
      "  ELE grid loaded from pbsa.nc in 0.03 s\n",
      "  keeping 693 configurations out of\n",
      "  0 from xtal, 693 from dock6, 0 from initial docking, and 0 duplicated\n"
     ]
    }
   ],
   "source": [
    "    minimize=False\n",
    "\n",
    "    # Determine the name of the file\n",
    "    prefix = 'xtal' if self._FNs['score']=='default' else \\\n",
    "      os.path.basename(self._FNs['score']).split('.')[0]\n",
    "    if minimize:\n",
    "      prefix = 'min_' + prefix\n",
    "    energyFN = os.path.join(self.dir['dock'],prefix+'.pkl.gz')\n",
    "\n",
    "    # Set the force field to fully interacting\n",
    "    lambda_o = self._lambda(1.0, 'dock')\n",
    "    self._set_universe_evaluator(lambda_o)\n",
    "\n",
    "    # Load the configurations\n",
    "    if os.path.isfile(energyFN):\n",
    "      (confs, Es) = self._load_pkl_gz(energyFN)\n",
    "    else:\n",
    "      (confs, Es) = self._get_confs_to_rescore(site=False, \\\n",
    "        minimize=minimize, sort=False)"
   ]
  },
  {
   "cell_type": "code",
   "execution_count": 5,
   "metadata": {
    "collapsed": false
   },
   "outputs": [
    {
     "name": "stdout",
     "output_type": "stream",
     "text": [
      "  sLJr grid loaded from LJr.nc in 0.29 s\n",
      "  sELE grid loaded from pbsa.nc in 0.02 s\n"
     ]
    }
   ],
   "source": [
    "    # Calculate MM energies\n",
    "    if not 'MM' in Es.keys():\n",
    "      Es = self._energyTerms(confs, Es)\n",
    "\n",
    "    # Calculate RMSD\n",
    "    if (self.params['dock']['rmsd'] is not False):\n",
    "      Es['rmsd'] = np.array([np.sqrt(((confs[c][self.molecule.heavy_atoms,:] - \\\n",
    "        self.confs['rmsd'])**2).sum()/self.molecule.nhatoms) \\\n",
    "          for c in range(len(confs))])"
   ]
  },
  {
   "cell_type": "code",
   "execution_count": 13,
   "metadata": {
    "collapsed": false
   },
   "outputs": [],
   "source": [
    "%matplotlib inline\n",
    "import matplotlib.pyplot as plt"
   ]
  },
  {
   "cell_type": "code",
   "execution_count": 10,
   "metadata": {
    "collapsed": false
   },
   "outputs": [],
   "source": [
    "E_test = self._energyTerms(confs, {})"
   ]
  },
  {
   "cell_type": "code",
   "execution_count": 12,
   "metadata": {
    "collapsed": false
   },
   "outputs": [
    {
     "data": {
      "text/plain": [
       "['MM', 'sLJr', 'OBC', 'ELE', 'LJa', 'sELE', 'site', 'LJr']"
      ]
     },
     "execution_count": 12,
     "metadata": {},
     "output_type": "execute_result"
    }
   ],
   "source": [
    "E_test.keys()"
   ]
  },
  {
   "cell_type": "code",
   "execution_count": 14,
   "metadata": {
    "collapsed": false
   },
   "outputs": [
    {
     "data": {
      "text/plain": [
       "['Grid_vdw',\n",
       " 'Cluster Size',\n",
       " 'HA_RMSDh',\n",
       " 'LJr',\n",
       " 'rmsd',\n",
       " 'Int_energy',\n",
       " 'MM',\n",
       " 'Grid Score',\n",
       " 'HA_RMSDm',\n",
       " 'Grid_es',\n",
       " 'OBC',\n",
       " 'ELE',\n",
       " 'LJa',\n",
       " 'sLJr',\n",
       " 'site',\n",
       " 'HA_RMSDs',\n",
       " 'sELE',\n",
       " 'total']"
      ]
     },
     "execution_count": 14,
     "metadata": {},
     "output_type": "execute_result"
    }
   ],
   "source": [
    "Es.keys()"
   ]
  },
  {
   "cell_type": "code",
   "execution_count": 40,
   "metadata": {
    "collapsed": false
   },
   "outputs": [],
   "source": [
    "scores = {}\n",
    "for solvation in ['Desolvated','Fractional','Full']:\n",
    "  self.params['dock']['solvation'] = solvation\n",
    "  lambda_o = self._lambda(1.0, 'dock')\n",
    "  self._set_universe_evaluator(lambda_o)\n",
    "  Eterms = self._energyTerms(confs, Es)\n",
    "  scores[solvation] = self._u_kln([Eterms], [lambda_o])"
   ]
  },
  {
   "cell_type": "code",
   "execution_count": 41,
   "metadata": {
    "collapsed": false
   },
   "outputs": [
    {
     "data": {
      "text/plain": [
       "array([ 0.,  0.,  0.,  0.,  0.,  0.,  0.,  0.,  0.,  0.,  0.,  0.,  0.,\n",
       "        0.,  0.,  0.,  0.,  0.,  0.,  0.,  0.,  0.,  0.,  0.,  0.,  0.,\n",
       "        0.,  0.,  0.,  0.,  0.,  0.,  0.,  0.,  0.,  0.,  0.,  0.,  0.,\n",
       "        0.,  0.,  0.,  0.,  0.,  0.,  0.,  0.,  0.,  0.,  0.,  0.,  0.,\n",
       "        0.,  0.,  0.,  0.,  0.,  0.,  0.,  0.,  0.,  0.,  0.,  0.,  0.,\n",
       "        0.,  0.,  0.,  0.,  0.,  0.,  0.,  0.,  0.,  0.,  0.,  0.,  0.,\n",
       "        0.,  0.,  0.,  0.,  0.,  0.,  0.,  0.,  0.,  0.,  0.,  0.,  0.,\n",
       "        0.,  0.,  0.,  0.,  0.,  0.,  0.,  0.,  0.,  0.,  0.,  0.,  0.,\n",
       "        0.,  0.,  0.,  0.,  0.,  0.,  0.,  0.,  0.,  0.,  0.,  0.,  0.,\n",
       "        0.,  0.,  0.,  0.,  0.,  0.,  0.,  0.,  0.,  0.,  0.,  0.,  0.,\n",
       "        0.,  0.,  0.,  0.,  0.,  0.,  0.,  0.,  0.,  0.,  0.,  0.,  0.,\n",
       "        0.,  0.,  0.,  0.,  0.,  0.,  0.,  0.,  0.,  0.,  0.,  0.,  0.,\n",
       "        0.,  0.,  0.,  0.,  0.,  0.,  0.,  0.,  0.,  0.,  0.,  0.,  0.,\n",
       "        0.,  0.,  0.,  0.,  0.,  0.,  0.,  0.,  0.,  0.,  0.,  0.,  0.,\n",
       "        0.,  0.,  0.,  0.,  0.,  0.,  0.,  0.,  0.,  0.,  0.,  0.,  0.,\n",
       "        0.,  0.,  0.,  0.,  0.,  0.,  0.,  0.,  0.,  0.,  0.,  0.,  0.,\n",
       "        0.,  0.,  0.,  0.,  0.,  0.,  0.,  0.,  0.,  0.,  0.,  0.,  0.,\n",
       "        0.,  0.,  0.,  0.,  0.,  0.,  0.,  0.,  0.,  0.,  0.,  0.,  0.,\n",
       "        0.,  0.,  0.,  0.,  0.,  0.,  0.,  0.,  0.,  0.,  0.,  0.,  0.,\n",
       "        0.,  0.,  0.,  0.,  0.,  0.,  0.,  0.,  0.,  0.,  0.,  0.,  0.,\n",
       "        0.,  0.,  0.,  0.,  0.,  0.,  0.,  0.,  0.,  0.,  0.,  0.,  0.,\n",
       "        0.,  0.,  0.,  0.,  0.,  0.,  0.,  0.,  0.,  0.,  0.,  0.,  0.,\n",
       "        0.,  0.,  0.,  0.,  0.,  0.,  0.,  0.,  0.,  0.,  0.,  0.,  0.,\n",
       "        0.,  0.,  0.,  0.,  0.,  0.,  0.,  0.,  0.,  0.,  0.,  0.,  0.,\n",
       "        0.,  0.,  0.,  0.,  0.,  0.,  0.,  0.,  0.,  0.,  0.,  0.,  0.,\n",
       "        0.,  0.,  0.,  0.,  0.,  0.,  0.,  0.,  0.,  0.,  0.,  0.,  0.,\n",
       "        0.,  0.,  0.,  0.,  0.,  0.,  0.,  0.,  0.,  0.,  0.,  0.,  0.,\n",
       "        0.,  0.,  0.,  0.,  0.,  0.,  0.,  0.,  0.,  0.,  0.,  0.,  0.,\n",
       "        0.,  0.,  0.,  0.,  0.,  0.,  0.,  0.,  0.,  0.,  0.,  0.,  0.,\n",
       "        0.,  0.,  0.,  0.,  0.,  0.,  0.,  0.,  0.,  0.,  0.,  0.,  0.,\n",
       "        0.,  0.,  0.,  0.,  0.,  0.,  0.,  0.,  0.,  0.,  0.,  0.,  0.,\n",
       "        0.,  0.,  0.,  0.,  0.,  0.,  0.,  0.,  0.,  0.,  0.,  0.,  0.,\n",
       "        0.,  0.,  0.,  0.,  0.,  0.,  0.,  0.,  0.,  0.,  0.,  0.,  0.,\n",
       "        0.,  0.,  0.,  0.,  0.,  0.,  0.,  0.,  0.,  0.,  0.,  0.,  0.,\n",
       "        0.,  0.,  0.,  0.,  0.,  0.,  0.,  0.,  0.,  0.,  0.,  0.,  0.,\n",
       "        0.,  0.,  0.,  0.,  0.,  0.,  0.,  0.,  0.,  0.,  0.,  0.,  0.,\n",
       "        0.,  0.,  0.,  0.,  0.,  0.,  0.,  0.,  0.,  0.,  0.,  0.,  0.,\n",
       "        0.,  0.,  0.,  0.,  0.,  0.,  0.,  0.,  0.,  0.,  0.,  0.,  0.,\n",
       "        0.,  0.,  0.,  0.,  0.,  0.,  0.,  0.,  0.,  0.,  0.,  0.,  0.,\n",
       "        0.,  0.,  0.,  0.,  0.,  0.,  0.,  0.,  0.,  0.,  0.,  0.,  0.,\n",
       "        0.,  0.,  0.,  0.,  0.,  0.,  0.,  0.,  0.,  0.,  0.,  0.,  0.,\n",
       "        0.,  0.,  0.,  0.,  0.,  0.,  0.,  0.,  0.,  0.,  0.,  0.,  0.,\n",
       "        0.,  0.,  0.,  0.,  0.,  0.,  0.,  0.,  0.,  0.,  0.,  0.,  0.,\n",
       "        0.,  0.,  0.,  0.,  0.,  0.,  0.,  0.,  0.,  0.,  0.,  0.,  0.,\n",
       "        0.,  0.,  0.,  0.,  0.,  0.,  0.,  0.,  0.,  0.,  0.,  0.,  0.,\n",
       "        0.,  0.,  0.,  0.,  0.,  0.,  0.,  0.,  0.,  0.,  0.,  0.,  0.,\n",
       "        0.,  0.,  0.,  0.,  0.,  0.,  0.,  0.,  0.,  0.,  0.,  0.,  0.,\n",
       "        0.,  0.,  0.,  0.,  0.,  0.,  0.,  0.,  0.,  0.,  0.,  0.,  0.,\n",
       "        0.,  0.,  0.,  0.,  0.,  0.,  0.,  0.,  0.,  0.,  0.,  0.,  0.,\n",
       "        0.,  0.,  0.,  0.,  0.,  0.,  0.,  0.,  0.,  0.,  0.,  0.,  0.,\n",
       "        0.,  0.,  0.,  0.,  0.,  0.,  0.,  0.,  0.,  0.,  0.,  0.,  0.,\n",
       "        0.,  0.,  0.,  0.,  0.,  0.,  0.,  0.,  0.,  0.,  0.,  0.,  0.,\n",
       "        0.,  0.,  0.,  0.,  0.,  0.,  0.,  0.,  0.,  0.,  0.,  0.,  0.,\n",
       "        0.,  0.,  0.,  0.])"
      ]
     },
     "execution_count": 41,
     "metadata": {},
     "output_type": "execute_result"
    }
   ],
   "source": [
    "scores['Full']-scores['Fractional']"
   ]
  },
  {
   "cell_type": "code",
   "execution_count": null,
   "metadata": {
    "collapsed": true
   },
   "outputs": [],
   "source": []
  }
 ],
 "metadata": {
  "kernelspec": {
   "display_name": "Python 2",
   "language": "python",
   "name": "python2"
  },
  "language_info": {
   "codemirror_mode": {
    "name": "ipython",
    "version": 2
   },
   "file_extension": ".py",
   "mimetype": "text/x-python",
   "name": "python",
   "nbconvert_exporter": "python",
   "pygments_lexer": "ipython2",
   "version": "2.7.11"
  }
 },
 "nbformat": 4,
 "nbformat_minor": 2
}
