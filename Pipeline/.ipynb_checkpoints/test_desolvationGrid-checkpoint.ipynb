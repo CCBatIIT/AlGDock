{
 "cells": [
  {
   "cell_type": "code",
   "execution_count": 1,
   "metadata": {
    "collapsed": false
   },
   "outputs": [
    {
     "name": "stdout",
     "output_type": "stream",
     "text": [
      "Reading header from /Users/dminh/clusters/CCB/AstexDiv_xtal/3-grids/1tow/header_coarse.dx\n",
      "*** Files and parameters ***\n",
      "Input AMBER prmtop      :\t/Users/dminh/clusters/CCB/AstexDiv_xtal/1-build/1tow/receptor.prmtop\n",
      "Input AMBER inpcrd      :\t/Users/dminh/clusters/CCB/AstexDiv_xtal/3-grids/1tow/receptor.trans.inpcrd\n",
      "Input grid header file  :\t/Users/dminh/clusters/CCB/AstexDiv_xtal/3-grids/1tow/header_coarse.dx\n",
      "Output grid             :\tdesolv.dx\n",
      "Grid spacing            :\t[ 0.5  0.5  0.5]\n",
      "Grid counts             :\t[73 73 73]\n",
      "\n",
      "Finding SAS points\n",
      " in 6.18 s\n"
     ]
    }
   ],
   "source": [
    "execfile('desolvationGrid.py')\n",
    "self.receptor_SAS_points()"
   ]
  },
  {
   "cell_type": "code",
   "execution_count": 2,
   "metadata": {
    "collapsed": false
   },
   "outputs": [
    {
     "name": "stdout",
     "output_type": "stream",
     "text": [
      "Determining whether grid points are high or low dielectric\n",
      " in 156.68 s\n",
      " in 0.31 s\n"
     ]
    }
   ],
   "source": [
    "self.receptor_MS()\n",
    "self.full_MS()"
   ]
  },
  {
   "cell_type": "code",
   "execution_count": 3,
   "metadata": {
    "collapsed": true
   },
   "outputs": [],
   "source": [
    "# TODO: Numerical integral of r^{-4}"
   ]
  },
  {
   "cell_type": "code",
   "execution_count": 4,
   "metadata": {
    "collapsed": true
   },
   "outputs": [],
   "source": [
    "del set_inside_sphere_to"
   ]
  },
  {
   "cell_type": "code",
   "execution_count": 5,
   "metadata": {
    "collapsed": false
   },
   "outputs": [],
   "source": [
    "%load_ext Cython"
   ]
  },
  {
   "cell_type": "code",
   "execution_count": 13,
   "metadata": {
    "collapsed": false
   },
   "outputs": [
    {
     "name": "stderr",
     "output_type": "stream",
     "text": [
      "\n",
      "Error compiling Cython file:\n",
      "------------------------------------------------------------\n",
      "...\n",
      "\n",
      "@cython.boundscheck(False)\n",
      "@cython.wraparound(False)\n",
      "@cython.cdivision(True)\n",
      "cpdef set_inside_sphere_to(\\\n",
      "    np.bool_[:,:,:] grid, \\\n",
      "   ^\n",
      "------------------------------------------------------------\n",
      "\n",
      "/Users/dminh/.ipython/cython/_cython_magic_39736fd3ab6823e4b259c85630e79712.pyx:16:4: 'bool_' is not a type identifier\n",
      "\n",
      "Error compiling Cython file:\n",
      "------------------------------------------------------------\n",
      "...\n",
      "    np.bool_[:,:,:] grid, \\\n",
      "    double[:] spacing, \\\n",
      "    long[:] counts, \\\n",
      "    double[:] point, \\\n",
      "    double r, \\\n",
      "    np.bool_ val):\n",
      "   ^\n",
      "------------------------------------------------------------\n",
      "\n",
      "/Users/dminh/.ipython/cython/_cython_magic_39736fd3ab6823e4b259c85630e79712.pyx:21:4: 'bool_' is not a type identifier\n"
     ]
    }
   ],
   "source": [
    "%%cython\n",
    "\n",
    "import cython\n",
    "\n",
    "import numpy as np\n",
    "cimport numpy as np\n",
    "\n",
    "from cpython cimport bool\n",
    "\n",
    "ctypedef np.float_t float_t\n",
    "ctypedef np.int_t int_t\n",
    "\n",
    "@cython.boundscheck(False)\n",
    "@cython.wraparound(False)\n",
    "@cython.cdivision(True)\n",
    "cpdef set_inside_sphere_to(\\\n",
    "    int[:,:,:] grid, \\\n",
    "    double[:] spacing, \\\n",
    "    long[:] counts, \\\n",
    "    double[:] point, \\\n",
    "    double r, \\\n",
    "    int val):\n",
    "\n",
    "  cdef np.ndarray[np.int_t] lower_lim, upper_lim\n",
    "  cdef int d, i, j, k\n",
    "  cdef double r2\n",
    "  \n",
    "  lower_lim = np.zeros((3,), dtype=int)\n",
    "  upper_lim = np.zeros((3,), dtype=int)\n",
    "  \n",
    "  for d in [0,1,2]:\n",
    "    lower_lim[d] = max(int(np.floor((point[d]-r)/spacing[d])),0)\n",
    "    upper_lim[d] = min(int(np.ceil((point[d]+r)/spacing[d])),counts[d])\n",
    "    \n",
    "  r2 = r*r\n",
    "  for i in range(lower_lim[0],upper_lim[0]):\n",
    "    for j in range(lower_lim[1],upper_lim[1]):\n",
    "      for k in range(lower_lim[2],upper_lim[2]):\n",
    "        if (np.square(point[0]-i*spacing[0]) + \\\n",
    "            np.square(point[1]-j*spacing[1]) + \\\n",
    "            np.square(point[2]-k*spacing[2]))<r2:\n",
    "          grid[i,j,k]=val\n",
    "\n",
    "# This is the original python code\n",
    "# def set_inside_sphere_to(grid, spacing, counts, point, r, val):\n",
    "#   lower_lim = [max(int(np.floor((point[d]-r)/spacing[d])),0) \\\n",
    "#     for d in range(3)]\n",
    "#   upper_lim = [min(int(np.ceil((point[d]+r)/spacing[d])),counts[d]) \\\n",
    "#     for d in range(3)]\n",
    "#   r2 = r*r\n",
    "#   for i in range(lower_lim[0],upper_lim[0]):\n",
    "#     for j in range(lower_lim[1],upper_lim[1]):\n",
    "#       for k in range(lower_lim[2],upper_lim[2]):\n",
    "#         if (np.square(point[0]-i*spacing[0]) + \\\n",
    "#             np.square(point[1]-j*spacing[1]) + \\\n",
    "#             np.square(point[2]-k*spacing[2]))<r2:\n",
    "#           grid[i,j,k]=val"
   ]
  },
  {
   "cell_type": "code",
   "execution_count": 12,
   "metadata": {
    "collapsed": false
   },
   "outputs": [
    {
     "ename": "ValueError",
     "evalue": "Does not understand character buffer dtype format string ('?')",
     "output_type": "error",
     "traceback": [
      "\u001b[0;31m---------------------------------------------------------------------------\u001b[0m",
      "\u001b[0;31mValueError\u001b[0m                                Traceback (most recent call last)",
      "\u001b[0;32m<ipython-input-12-fca2a3941a69>\u001b[0m in \u001b[0;36m<module>\u001b[0;34m()\u001b[0m\n\u001b[1;32m      3\u001b[0m \u001b[0;31m# Tentatively assign the grid inside the SAS to low dielectric\u001b[0m\u001b[0;34m\u001b[0m\u001b[0;34m\u001b[0m\u001b[0m\n\u001b[1;32m      4\u001b[0m \u001b[0;32mfor\u001b[0m \u001b[0matom_index\u001b[0m \u001b[0;32min\u001b[0m \u001b[0mrange\u001b[0m\u001b[0;34m(\u001b[0m\u001b[0;36m5\u001b[0m\u001b[0;34m)\u001b[0m\u001b[0;34m:\u001b[0m\u001b[0;34m\u001b[0m\u001b[0m\n\u001b[0;32m----> 5\u001b[0;31m   \u001b[0mset_inside_sphere_to\u001b[0m\u001b[0;34m(\u001b[0m\u001b[0mself\u001b[0m\u001b[0;34m.\u001b[0m\u001b[0mreceptor_MS_grid\u001b[0m\u001b[0;34m,\u001b[0m \u001b[0mself\u001b[0m\u001b[0;34m.\u001b[0m\u001b[0mkwargs\u001b[0m\u001b[0;34m[\u001b[0m\u001b[0;34m'spacing'\u001b[0m\u001b[0;34m]\u001b[0m\u001b[0;34m,\u001b[0m     \u001b[0mself\u001b[0m\u001b[0;34m.\u001b[0m\u001b[0mkwargs\u001b[0m\u001b[0;34m[\u001b[0m\u001b[0;34m'counts'\u001b[0m\u001b[0;34m]\u001b[0m\u001b[0;34m,\u001b[0m \u001b[0mself\u001b[0m\u001b[0;34m.\u001b[0m\u001b[0mcrd\u001b[0m\u001b[0;34m[\u001b[0m\u001b[0matom_index\u001b[0m\u001b[0;34m,\u001b[0m\u001b[0;34m:\u001b[0m\u001b[0;34m]\u001b[0m\u001b[0;34m,\u001b[0m     \u001b[0mSAS_radii\u001b[0m\u001b[0;34m[\u001b[0m\u001b[0matom_index\u001b[0m\u001b[0;34m]\u001b[0m\u001b[0;34m,\u001b[0m \u001b[0mFalse\u001b[0m\u001b[0;34m)\u001b[0m\u001b[0;34m\u001b[0m\u001b[0m\n\u001b[0m",
      "\u001b[0;32m_cython_magic_c9f61556980a2cd58655eca08dc3bbb8.pyx\u001b[0m in \u001b[0;36m_cython_magic_c9f61556980a2cd58655eca08dc3bbb8.set_inside_sphere_to (/Users/dminh/.ipython/cython/_cython_magic_c9f61556980a2cd58655eca08dc3bbb8.c:2741)\u001b[0;34m()\u001b[0m\n",
      "\u001b[0;31mValueError\u001b[0m: Does not understand character buffer dtype format string ('?')"
     ]
    }
   ],
   "source": [
    "    SAS_radii = self.LJ_radii + self.kwargs['probe_radius']\n",
    "    self.receptor_MS_grid = np.ones(shape=tuple(self.kwargs['counts']), \\\n",
    "      dtype=bool)\n",
    "    # Tentatively assign the grid inside the SAS to low dielectric\n",
    "    for atom_index in range(5):\n",
    "      set_inside_sphere_to(self.receptor_MS_grid, self.kwargs['spacing'], \\\n",
    "        self.kwargs['counts'], self.crd[atom_index,:], \\\n",
    "        SAS_radii[atom_index], False)\n"
   ]
  },
  {
   "cell_type": "code",
   "execution_count": null,
   "metadata": {
    "collapsed": true
   },
   "outputs": [],
   "source": []
  }
 ],
 "metadata": {
  "kernelspec": {
   "display_name": "Python 2",
   "language": "python",
   "name": "python2"
  },
  "language_info": {
   "codemirror_mode": {
    "name": "ipython",
    "version": 2
   },
   "file_extension": ".py",
   "mimetype": "text/x-python",
   "name": "python",
   "nbconvert_exporter": "python",
   "pygments_lexer": "ipython2",
   "version": "2.7.11"
  }
 },
 "nbformat": 4,
 "nbformat_minor": 2
}
