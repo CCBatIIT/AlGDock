{
 "cells": [
  {
   "cell_type": "code",
   "execution_count": 1,
   "metadata": {
    "collapsed": false
   },
   "outputs": [
    {
     "name": "stdout",
     "output_type": "stream",
     "text": [
      "Reading header from /Users/dminh/clusters/CCB/AstexDiv_xtal/3-grids/1tow/header_coarse.dx\n",
      "*** Files and parameters ***\n",
      "Input AMBER prmtop      :\t/Users/dminh/clusters/CCB/AstexDiv_xtal/1-build/1tow/receptor.prmtop\n",
      "Input AMBER inpcrd      :\t/Users/dminh/clusters/CCB/AstexDiv_xtal/3-grids/1tow/receptor.trans.inpcrd\n",
      "Input grid header file  :\t/Users/dminh/clusters/CCB/AstexDiv_xtal/3-grids/1tow/header_coarse.dx\n",
      "Output grid             :\tdesolv.dx\n",
      "Grid spacing            :\t[ 0.5  0.5  0.5]\n",
      "Grid counts             :\t[73 73 73]\n",
      "\n",
      "Finding receptor SAS points\n",
      " in 6.35 s\n",
      "Determining the number of SAS points marking each grid point\n",
      " in 3.78 s\n"
     ]
    }
   ],
   "source": [
    "AstexDiv_Dir = '/Users/dminh/clusters/CCB/AstexDiv_xtal'\n",
    "import argparse\n",
    "parser = argparse.ArgumentParser(description='Calculates a desolvation grids')\n",
    "parser.add_argument('--prmtop_FN', \\\n",
    "  default = AstexDiv_Dir + '/1-build/1tow/receptor.prmtop', \\\n",
    "  help='Input AMBER PRMTOP file')\n",
    "parser.add_argument('--inpcrd_FN', \\\n",
    "  default = AstexDiv_Dir + '/3-grids/1tow/receptor.trans.inpcrd', \\\n",
    "  help='Input coordinates')\n",
    "parser.add_argument('--header_FN', \\\n",
    "  default = AstexDiv_Dir + '/3-grids/1tow/header_coarse.dx', \\\n",
    "  help='Input grid header (optional)')\n",
    "parser.add_argument('--grid_FN', \\\n",
    "  default='desolv.dx', \\\n",
    "  help='Output for desolvation grid')\n",
    "parser.add_argument('--probe_radius', default=1.4, \\\n",
    "  help='Radius of the solvent probe, in A')\n",
    "parser.add_argument('--ligand_atom_radius', default=1.4, \\\n",
    "  help='Radius of the ligand atom, in A')\n",
    "parser.add_argument('--SAS_points', default=1000, \\\n",
    "  help='Number of points on solvent accessible surface per receptor atom')\n",
    "parser.add_argument('--integration_cutoff', default=10,\n",
    "  help='Numerical integration cutoff, in A')\n",
    "parser.add_argument('--spacing', nargs=3, type=float, \\\n",
    "  help='Grid spacing (overrides header)')\n",
    "parser.add_argument('--counts', nargs=3, type=int, \\\n",
    "  help='Number of point in each direction (overrides header)')\n",
    "parser.add_argument('-f')\n",
    "args = parser.parse_args()\n",
    "\n",
    "import desolvationGrid\n",
    "self = desolvationGrid.desolvationGridCalculation(**vars(args))\n",
    "self.calc_receptor_SAS_points()\n",
    "self.calc_receptor_MS()"
   ]
  },
  {
   "cell_type": "code",
   "execution_count": 14,
   "metadata": {
    "collapsed": false
   },
   "outputs": [],
   "source": [
    "#     self.desolvationGrid = calc_desolvationGrid(self.receptor_MS_grid, \\\n",
    "#       self.kwargs['spacing'], self.kwargs['counts'], \\\n",
    "#       self.receptor_SAS_points, self.crd, \\\n",
    "#       SAS_sphere_pts, self.LJ_r2, max(np.sqrt(self.LJ_r2)), \\\n",
    "#       self.kwargs['ligand_atom_radius'], \\\n",
    "#       self.kwargs['probe_radius'], self.kwargs['integration_cutoff'])\n",
    "\n",
    "#           desolvationGrid[i,j,k] = fraction_r4inv_low_dielectric(grid_c, \\\n",
    "#             spacing, counts, grid_point_x, grid_point_y, grid_point_z, \\\n",
    "#             ligand_atom_radius, integration_cutoff)\n",
    "\n",
    "# cpdef fraction_r4inv_low_dielectric(\\\n",
    "#     int_t[:,:,:] grid, \\\n",
    "#     float_t[:] spacing, \\\n",
    "#     int_t[:] counts, \\\n",
    "#     float_t point_x, \\\n",
    "#     float_t point_y, \\\n",
    "#     float_t point_z, \\\n",
    "#     float_t r_min, \\\n",
    "#     float_t r_max)\n",
    "\n",
    "grid = self.receptor_MS_grid\n",
    "spacing = self.kwargs['spacing']\n",
    "counts = self.kwargs['counts']\n",
    "\n",
    "r_min = self.kwargs['probe_radius']\n",
    "r_max = self.kwargs['integration_cutoff']*2\n",
    "\n",
    "point_x = 30*spacing[0]\n",
    "point_y = 25*spacing[1]\n",
    "point_z = 25*spacing[2]\n",
    "\n",
    "I_low_dielectric = 0.\n",
    "I_total = 0.\n",
    "\n",
    "i_min = max(int((point_x-r_max)/spacing[0]),0)\n",
    "i_max = min(int((point_x+r_max)/spacing[0])+1,counts[0])\n",
    "j_min = max(int((point_y-r_max)/spacing[1]),0)\n",
    "j_max = min(int((point_y+r_max)/spacing[1])+1,counts[1])\n",
    "k_min = max(int((point_z-r_max)/spacing[2]),0)\n",
    "k_max = min(int((point_z+r_max)/spacing[2])+1,counts[2])\n",
    "\n",
    "r_min2 = r_min*r_min\n",
    "r_max2 = r_max*r_max\n",
    "i = i_min\n",
    "while i<i_max:\n",
    "  dx  = point_x-i*spacing[0]\n",
    "  dx2 = dx*dx\n",
    "  j = j_min\n",
    "  while j<j_max:\n",
    "    dy  = point_y-j*spacing[1]\n",
    "    dy2 = dy*dy\n",
    "    dx2dy2 = dx2 + dy2\n",
    "    if dx2dy2 < r_max2:\n",
    "      k = k_min\n",
    "      while k<k_max:\n",
    "        dz  = point_z-k*spacing[2]\n",
    "        dz2 = dz*dz\n",
    "        r2 = dx2dy2 + dz2\n",
    "        if (r2 < r_max2) and (r2 > r_min2):\n",
    "          r4inv = 1/(r2*r2)\n",
    "          if grid[i,j,k]<1:\n",
    "            I_low_dielectric += r4inv\n",
    "          I_total += r4inv\n",
    "        k += 1\n",
    "    j += 1\n",
    "  i += 1\n"
   ]
  },
  {
   "cell_type": "code",
   "execution_count": 15,
   "metadata": {
    "collapsed": false
   },
   "outputs": [
    {
     "name": "stdout",
     "output_type": "stream",
     "text": [
      "I_low_dielectric\t3.55904423027\n",
      "I_total         \t68.6321151429\n",
      "Fraction Desolvated\t0.0518568344115\n"
     ]
    }
   ],
   "source": [
    "print 'I_low_dielectric\\t', I_low_dielectric\n",
    "print 'I_total         \\t', I_total\n",
    "\n",
    "fD = I_low_dielectric/I_total\n",
    "print 'Fraction Desolvated\\t', fD"
   ]
  },
  {
   "cell_type": "code",
   "execution_count": 16,
   "metadata": {
    "collapsed": false
   },
   "outputs": [
    {
     "data": {
      "text/plain": [
       "0.03704059600821101"
      ]
     },
     "execution_count": 16,
     "metadata": {},
     "output_type": "execute_result"
    }
   ],
   "source": [
    "# Previous Igrid\n",
    "fD * (1/r_min - 1/r_max)"
   ]
  },
  {
   "cell_type": "code",
   "execution_count": 20,
   "metadata": {
    "collapsed": false
   },
   "outputs": [
    {
     "data": {
      "text/plain": [
       "0.035402467620679064"
      ]
     },
     "execution_count": 20,
     "metadata": {},
     "output_type": "execute_result"
    }
   ],
   "source": [
    "# A simpler numerical integral\n",
    "import math\n",
    "dV = spacing[0]*spacing[1]*spacing[2]\n",
    "I_low_dielectric*dV/(4*math.pi)"
   ]
  },
  {
   "cell_type": "code",
   "execution_count": 18,
   "metadata": {
    "collapsed": false
   },
   "outputs": [
    {
     "data": {
      "text/plain": [
       "0.44488052878430351"
      ]
     },
     "execution_count": 18,
     "metadata": {},
     "output_type": "execute_result"
    }
   ],
   "source": [
    "I_low_dielectric*dV"
   ]
  },
  {
   "cell_type": "code",
   "execution_count": 19,
   "metadata": {
    "collapsed": false
   },
   "outputs": [
    {
     "data": {
      "text/plain": [
       "0.46546585721593248"
      ]
     },
     "execution_count": 19,
     "metadata": {},
     "output_type": "execute_result"
    }
   ],
   "source": [
    "fD * (1/r_min - 1/r_max) * 4 * math.pi"
   ]
  },
  {
   "cell_type": "code",
   "execution_count": null,
   "metadata": {
    "collapsed": true
   },
   "outputs": [],
   "source": []
  }
 ],
 "metadata": {
  "kernelspec": {
   "display_name": "Python 2",
   "language": "python",
   "name": "python2"
  },
  "language_info": {
   "codemirror_mode": {
    "name": "ipython",
    "version": 2
   },
   "file_extension": ".py",
   "mimetype": "text/x-python",
   "name": "python",
   "nbconvert_exporter": "python",
   "pygments_lexer": "ipython2",
   "version": "2.7.11"
  }
 },
 "nbformat": 4,
 "nbformat_minor": 2
}
