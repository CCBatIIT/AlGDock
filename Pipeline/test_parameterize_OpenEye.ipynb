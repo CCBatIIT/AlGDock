{
 "cells": [
  {
   "cell_type": "code",
   "execution_count": 1,
   "metadata": {
    "collapsed": false
   },
   "outputs": [
    {
     "name": "stdout",
     "output_type": "stream",
     "text": [
      "Generating AAA.mol2 based on CC(=O)NCCC1=CNc2c1cc(OC)cc2\n"
     ]
    }
   ],
   "source": [
    "class args:\n",
    "  out_FN = 'AAA.mol2'\n",
    "  SMILES = 'CC(=O)NCCC1=CNc2c1cc(OC)cc2' # 'N[C@@H](C)C(=O)O'\n",
    "  UseOpenEye = 'Y'\n",
    "\n",
    "print 'Generating %s based on %s'%(args.out_FN, args.SMILES)\n",
    "\n",
    "import os, inspect\n",
    "dirs = {}\n",
    "dirs['script'] = os.path.dirname(os.path.abspath(\\\n",
    "  inspect.getfile(inspect.currentframe())))\n",
    "execfile(os.path.join(dirs['script'],'_external_paths.py'))\n",
    "command_paths = findPaths(['balloon','chimera'])\n",
    "threeD_FN = os.path.join('3D', os.path.basename(args.out_FN))"
   ]
  },
  {
   "cell_type": "code",
   "execution_count": 2,
   "metadata": {
    "collapsed": false
   },
   "outputs": [
    {
     "name": "stdout",
     "output_type": "stream",
     "text": [
      "The canonical SMILES for a reasonably protonated state is CC(=O)NCCc1c[nH]c2c1cc(cc2)OC\n"
     ]
    }
   ],
   "source": [
    "from openeye import oechem\n",
    "from openeye import oequacpac\n",
    "\n",
    "# Create a OpenEye molecule object from the SMILES string\n",
    "mol = oechem.OEGraphMol()\n",
    "if not oechem.OESmilesToMol(mol, args.SMILES):\n",
    "  raise Exception('Invalid SMILES string', args.SMILES)\n",
    "  \n",
    "oechem.OECanonicalOrderAtoms(mol)\n",
    "oechem.OECanonicalOrderBonds(mol)\n",
    "\n",
    "# Assign a reasonable protomer\n",
    "if not oequacpac.OEGetReasonableProtomer(mol):\n",
    "  raise Exception('Failed to get a reasonable protomer at pH 7.4')\n",
    "  \n",
    "oechem.OEAssignAromaticFlags(mol, oechem.OEAroModelOpenEye)\n",
    "oechem.OEAddExplicitHydrogens(mol)\n",
    "\n",
    "smi = oechem.OECreateSmiString(mol, oechem.OESMILESFlag_Canonical)\n",
    "print 'The canonical SMILES for a reasonably protonated state is', smi"
   ]
  },
  {
   "cell_type": "code",
   "execution_count": 3,
   "metadata": {
    "collapsed": false
   },
   "outputs": [
    {
     "data": {
      "image/png": "[encoded data removed]",
      "text/plain": [
       "<IPython.core.display.Image object>"
      ]
     },
     "execution_count": 3,
     "metadata": {},
     "output_type": "execute_result"
    }
   ],
   "source": [
    "import oenotebook as oenb\n",
    "\n",
    "oenb.draw_mol(mol)"
   ]
  },
  {
   "cell_type": "code",
   "execution_count": 4,
   "metadata": {
    "collapsed": false
   },
   "outputs": [
    {
     "name": "stdout",
     "output_type": "stream",
     "text": [
      "<oeomega.OEOmega; proxy of <Swig Object of type 'OEConfGen::OEOmega *' at 0x1092595d0> >\n",
      "<oechem.OEMol; proxy of <Swig Object of type 'OEMolWrapper *' at 0x1092594e0> >\n"
     ]
    },
    {
     "data": {
      "text/plain": [
       "True"
      ]
     },
     "execution_count": 4,
     "metadata": {},
     "output_type": "execute_result"
    }
   ],
   "source": [
    "  # Generate conformations\n",
    "  from openeye import oeomega\n",
    "\n",
    "  mol_multiconf = oechem.OEMol(mol)\n",
    "\n",
    "  omega = oeomega.OEOmega()\n",
    "  # These parameters were chosen to match http://docs.eyesopen.com/toolkits/cookbook/python/modeling/am1-bcc.html\n",
    "  omega.SetMaxConfs(800)\n",
    "  omega.SetIncludeInput(False)\n",
    "  omega.SetCanonOrder(False)\n",
    "\n",
    "  omega.SetStrictStereo(True)\n",
    "  omega.SetStrictAtomTypes(True)\n",
    "\n",
    "  omega.SetSampleHydrogens(True)  # Word to the wise: skipping this step can lead to significantly different charges!\n",
    "  omega.SetEnergyWindow(15.0)\n",
    "  omega.SetRMSThreshold(1.0)  # Word to the wise: skipping this step can lead to significantly different charges!\n",
    "\n",
    "  omega(mol_multiconf)  # generate conformation"
   ]
  },
  {
   "cell_type": "code",
   "execution_count": 5,
   "metadata": {
    "collapsed": false
   },
   "outputs": [
    {
     "name": "stdout",
     "output_type": "stream",
     "text": [
      "Warning: SelectElfDiverseConfs: elfPop.NumConfs 1 <= elfLimit 1\n",
      ": 0 formal charges give total charge 0 ; Sum of Partial Charges 0.0000\n"
     ]
    },
    {
     "data": {
      "text/plain": [
       "0"
      ]
     },
     "execution_count": 5,
     "metadata": {},
     "output_type": "execute_result"
    }
   ],
   "source": [
    "# Generate am1bcc partial charges\n",
    "oequacpac.OEAssignPartialCharges(mol_multiconf, oequacpac.OECharges_AM1BCCSym)\n",
    "\n",
    "# Get total charge\n",
    "conf = mol_multiconf.GetConf(oechem.OEHasConfIdx(0))\n",
    "absFCharge = 0\n",
    "sumFCharge = 0\n",
    "sumPCharge = 0.0\n",
    "for atm in mol_multiconf.GetAtoms():\n",
    "    sumFCharge += atm.GetFormalCharge()\n",
    "    absFCharge += abs(atm.GetFormalCharge())\n",
    "    sumPCharge += atm.GetPartialCharge()\n",
    "oechem.OEThrow.Info(\"%s: %d formal charges give total charge %d ; Sum of Partial Charges %5.4f\"\n",
    "                         % (mol_multiconf.GetTitle(), absFCharge, sumFCharge, sumPCharge))\n",
    "\n",
    "# Output file\n",
    "ofs = oechem.oemolostream(args.out_FN)\n",
    "ofs.SetFormat(oechem.OEFormat_MOL2H)\n",
    "oechem.OEWriteMolecule(ofs, conf)"
   ]
  },
  {
   "cell_type": "code",
   "execution_count": null,
   "metadata": {
    "collapsed": true
   },
   "outputs": [],
   "source": []
  }
 ],
 "metadata": {
  "kernelspec": {
   "display_name": "Python 2",
   "language": "python",
   "name": "python2"
  },
  "language_info": {
   "codemirror_mode": {
    "name": "ipython",
    "version": 2
   },
   "file_extension": ".py",
   "mimetype": "text/x-python",
   "name": "python",
   "nbconvert_exporter": "python",
   "pygments_lexer": "ipython2",
   "version": "2.7.11"
  }
 },
 "nbformat": 4,
 "nbformat_minor": 2
}
