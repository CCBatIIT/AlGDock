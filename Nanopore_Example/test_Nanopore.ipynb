{
 "cells": [
  {
   "cell_type": "code",
   "execution_count": 1,
   "metadata": {
    "collapsed": false
   },
   "outputs": [
    {
     "name": "stdout",
     "output_type": "stream",
     "text": [
      "  grid type LJa not found\n",
      "  grid type ELE not found\n"
     ]
    },
    {
     "name": "stderr",
     "output_type": "stream",
     "text": [
      "Warning: multiple database entries for\n",
      "         /Users/dminh/Installers/AlGDock-0.0.1/Nanopore_Example/ligand.db,\n",
      "         using first one\n",
      "/Users/dminh/Installers/AlGDock-0.0.1/Nanopore_Example/ligand.db\n",
      "/Users/dminh/Installers/AlGDock-0.0.1/Nanopore_Example/ligand.db\n"
     ]
    }
   ],
   "source": [
    "import AlGDock.Nanopore\n",
    "from AlGDock.Nanopore import *\n",
    "\n",
    "self = AlGDock.Nanopore.Simulation(\\\n",
    "  ligand_tarball='prmtopcrd/ligand.tar.gz', \\\n",
    "  ligand_database='ligand.db', \\\n",
    "  forcefield='prmtopcrd/gaff.dat', \\\n",
    "  frcmodList=['ligand.frcmod'], \\\n",
    "  ligand_prmtop='ligand.prmtop', \\\n",
    "  grid_LJr='grids/LJr.nc', \\\n",
    "  starting_conf='prmtopcrd/anchor_and_grow_scored.mol2', \\\n",
    "  ef=1.0E8, \\\n",
    "  max_trials=10000, \\\n",
    "  report_interval=100)"
   ]
  },
  {
   "cell_type": "code",
   "execution_count": 2,
   "metadata": {
    "collapsed": false
   },
   "outputs": [
    {
     "name": "stdout",
     "output_type": "stream",
     "text": [
      "Simulating motion from 0.20000 to 1.80000\n",
      "Trial      0, COM: [0.48641011897147823, 0.5195822239253441, 0.2274598866830508]\n"
     ]
    },
    {
     "name": "stderr",
     "output_type": "stream",
     "text": [
      "/Users/dminh/Applications/miniconda2/envs/algdock/lib/python2.7/site-packages/simtk/openmm/app/internal/amber_file_parser.py:1010: UserWarning: Non-optimal GB parameters detected for GB model OBC2\n",
      "  'model %s' % gbmodel)\n"
     ]
    },
    {
     "name": "stdout",
     "output_type": "stream",
     "text": [
      "Trial    100, COM: [0.5018127513637335, 0.38280997947467105, 0.5289558304543043]\n",
      "Trial    200, COM: [0.7028397194289955, 0.46225581754458617, 0.6137105982961111]\n",
      "Trial    300, COM: [0.6854178086419123, 0.41111290528306177, 0.6382155870254187]\n",
      "Trial    400, COM: [0.6772097200302113, 0.3878595517087754, 0.6261963544390063]\n",
      "Trial    500, COM: [0.5468343068302401, 0.3921164542654682, 0.793468958583295]\n",
      "Trial    600, COM: [0.5184887430310394, 0.5146105893848353, 0.9405338672561881]\n",
      "Trial    700, COM: [0.666105288421152, 0.5187444172041633, 0.9671476436991225]\n",
      "Trial    800, COM: [0.5747669896711305, 0.4553522638827878, 1.1123100070897498]\n",
      "Trial    900, COM: [0.5197198713456933, 0.5375225651740471, 1.4543231266393373]\n",
      "Trial   1000, COM: [0.4988038317545555, 0.6351729493038265, 1.6524294639424875]\n",
      "Trial   1100, COM: [0.4166511058153393, 0.772662823251289, 1.6583318882075226]\n",
      "Trial   1200, COM: [0.3591009912996962, 0.6980928057824677, 1.7289306424819062]\n",
      "Number of trials before pore crossing:  1254\n",
      "Number of configurations:  13\n"
     ]
    }
   ],
   "source": [
    "self.run()"
   ]
  },
  {
   "cell_type": "code",
   "execution_count": 3,
   "metadata": {
    "collapsed": false
   },
   "outputs": [],
   "source": [
    "self.view_trajectory()"
   ]
  },
  {
   "cell_type": "code",
   "execution_count": null,
   "metadata": {
    "collapsed": true
   },
   "outputs": [],
   "source": []
  }
 ],
 "metadata": {
  "kernelspec": {
   "display_name": "Python 2",
   "language": "python",
   "name": "python2"
  },
  "language_info": {
   "codemirror_mode": {
    "name": "ipython",
    "version": 2
   },
   "file_extension": ".py",
   "mimetype": "text/x-python",
   "name": "python",
   "nbconvert_exporter": "python",
   "pygments_lexer": "ipython2",
   "version": "2.7.11"
  }
 },
 "nbformat": 4,
 "nbformat_minor": 2
}
