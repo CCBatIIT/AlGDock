{
 "cells": [
  {
   "cell_type": "code",
   "execution_count": 1,
   "metadata": {
    "collapsed": false
   },
   "outputs": [
    {
     "name": "stdout",
     "output_type": "stream",
     "text": [
      "The net charge on the ligand is too low for the electric field to have an effect\n",
      "  grid type LJa not found\n",
      "  grid type ELE not found\n"
     ]
    },
    {
     "name": "stderr",
     "output_type": "stream",
     "text": [
      "Warning: multiple database entries for\n",
      "         /Users/dminh/Installers/AlGDock-0.0.1/Nanopore_Example/prmtopcrd/yff_14.db,\n",
      "         using first one\n",
      "/Users/dminh/Installers/AlGDock-0.0.1/Nanopore_Example/prmtopcrd/yff_14.db\n",
      "/Users/dminh/Installers/AlGDock-0.0.1/Nanopore_Example/prmtopcrd/yff_14.db\n"
     ]
    }
   ],
   "source": [
    "import AlGDock.Nanopore\n",
    "from AlGDock.Nanopore import *\n",
    "\n",
    "# This will run a small molecule\n",
    "#  self = AlGDock.Nanopore.Simulation(\\\n",
    "#    ligand_tarball='prmtopcrd/ligand.tar.gz', \\\n",
    "#    ligand_database='ligand.db', \\\n",
    "#    forcefield='prmtopcrd/gaff2.dat', \\\n",
    "#    frcmodList=['ligand.frcmod'], \\\n",
    "#    ligand_prmtop='ligand.prmtop', \\\n",
    "#    starting_conf='prmtopcrd/anchor_and_grow_scored.mol2', \\\n",
    "#    grid_LJr='grids/LJr.nc', \\\n",
    "#    ef=1.0E8, \\\n",
    "#    max_trials=10000, \\\n",
    "#    report_interval=100)\n",
    "\n",
    "# This will run a peptide\n",
    "self = AlGDock.Nanopore.Simulation(\\\n",
    "  ligand_database='prmtopcrd/YFF_14.db', \\\n",
    "  forcefield='prmtopcrd/parm10.dat', \\\n",
    "  frcmodList=['prmtopcrd/frcmod.ff14SB'], \\\n",
    "  ligand_prmtop='prmtopcrd/YFF_14.prmtop', \\\n",
    "  starting_conf='prmtopcrd/YFF_14.inpcrd', \\\n",
    "  grid_LJr='grids/LJr.nc', \\\n",
    "  ef=1.0E8, \\\n",
    "  max_trials=10000, \\\n",
    "  report_interval=100)"
   ]
  },
  {
   "cell_type": "code",
   "execution_count": 2,
   "metadata": {
    "collapsed": false
   },
   "outputs": [],
   "source": [
    "    from AlGDock.Integrators.HamiltonianMonteCarlo.HamiltonianMonteCarlo \\\n",
    "      import HamiltonianMonteCarloIntegrator\n",
    "    sampler = HamiltonianMonteCarloIntegrator(self.universe)\n",
    "    \n",
    "    e_o = self.universe.energy()\n",
    "    T_LOW = 20.\n",
    "    T_START = 300.\n",
    "    delta_t = 1.5*MMTK.Units.fs\n",
    "    T_SERIES = T_LOW*(T_START/T_LOW)**(np.arange(30)/29.)\n",
    "    for T in T_SERIES:\n",
    "      attempts_left = 5\n",
    "      while attempts_left>0:\n",
    "        random_seed = int(T*10000) + attempts_left + \\\n",
    "          int(self.universe.configuration().array[0][0]*10000) + \\\n",
    "          int(time.time())\n",
    "        random_seed = random_seed%32767\n",
    "        (xs, energies, acc, ntrials, delta_t) = \\\n",
    "          sampler(steps = 500, steps_per_trial = 50, T=T,\\\n",
    "                  delta_t=delta_t, random_seed=random_seed)\n",
    "        if (np.std(energies)>1E-3) and float(acc)/ntrials>0.4:\n",
    "          attempts_left = 0\n",
    "        else:\n",
    "          delta_t *= 0.9\n",
    "          attempts_left -= 1\n",
    "    self.universe.normalizePosition()\n",
    "    e_f = self.universe.energy()"
   ]
  },
  {
   "cell_type": "code",
   "execution_count": 3,
   "metadata": {
    "collapsed": false
   },
   "outputs": [
    {
     "name": "stdout",
     "output_type": "stream",
     "text": [
      "{'LJr': 57418.36792153868, 'electrostatic/pair sum': -259.52123013193994, 'electric_field_z': 72.023722362006239, 'OBC': -703.20415620579445, 'cosine dihedral angle': 106.05729956020555, 'harmonic bond': 313.68534601157972, 'electrostatic': -259.52123013193994, 'harmonic bond angle': 201.39175405281833, 'Lennard-Jones': 1171.0321428611971}\n"
     ]
    }
   ],
   "source": [
    "print self.universe.energyTerms()\n",
    "\n",
    "import AlGDock.IO\n",
    "IO_dcd = AlGDock.IO.dcd(self.molecule,\n",
    "  ligand_atom_order = self.molecule.prmtop_atom_order)\n",
    "IO_dcd.write(self.args['output_dcd'], [self.universe.configuration().array])"
   ]
  },
  {
   "cell_type": "code",
   "execution_count": 4,
   "metadata": {
    "collapsed": false
   },
   "outputs": [
    {
     "name": "stdout",
     "output_type": "stream",
     "text": [
      "Simulating motion from 0.60000 to 5.40000\n",
      "Trial      0, COM: [1.5688700664004985e-16, 2.726845591600866e-16, 9.525282546003027e-17]\n",
      "Trial    100, COM: [1.5688700664004985e-16, 2.726845591600866e-16, 9.525282546003027e-17]\n",
      "Trial    200, COM: [0.5569267434036593, 0.06139405365880572, 0.17022364791638678]\n",
      "Trial    300, COM: [0.5569267434036593, 0.06139405365880572, 0.17022364791638678]\n",
      "Trial    400, COM: [0.5569267434036593, 0.06139405365880572, 0.17022364791638678]\n",
      "Trial    500, COM: [0.5569267434036593, 0.06139405365880572, 0.17022364791638678]\n",
      "Trial    600, COM: [0.5569267434036593, 0.06139405365880572, 0.17022364791638678]\n",
      "Trial    700, COM: [0.5569267434036593, 0.06139405365880572, 0.17022364791638678]\n",
      "Trial    800, COM: [0.5569267434036593, 0.06139405365880572, 0.17022364791638678]\n",
      "Trial    900, COM: [0.5569267434036593, 0.06139405365880572, 0.17022364791638678]\n",
      "Trial   1000, COM: [0.5569267434036593, 0.06139405365880572, 0.17022364791638678]\n",
      "Trial   1100, COM: [0.5569267434036593, 0.06139405365880572, 0.17022364791638678]\n"
     ]
    },
    {
     "ename": "KeyboardInterrupt",
     "evalue": "",
     "output_type": "error",
     "traceback": [
      "\u001b[0;31m---------------------------------------------------------------------------\u001b[0m",
      "\u001b[0;31mKeyboardInterrupt\u001b[0m                         Traceback (most recent call last)",
      "\u001b[0;32m<ipython-input-4-3814cdf80868>\u001b[0m in \u001b[0;36m<module>\u001b[0;34m()\u001b[0m\n\u001b[0;32m----> 1\u001b[0;31m \u001b[0mself\u001b[0m\u001b[0;34m.\u001b[0m\u001b[0mrun\u001b[0m\u001b[0;34m(\u001b[0m\u001b[0;34m)\u001b[0m\u001b[0;34m\u001b[0m\u001b[0m\n\u001b[0m\u001b[1;32m      2\u001b[0m \u001b[0mself\u001b[0m\u001b[0;34m.\u001b[0m\u001b[0mview_trajectory\u001b[0m\u001b[0;34m(\u001b[0m\u001b[0;34m)\u001b[0m\u001b[0;34m\u001b[0m\u001b[0m\n",
      "\u001b[0;32m/Users/dminh/Applications/miniconda2/envs/algdock/lib/python2.7/site-packages/AlGDock/Nanopore.pyc\u001b[0m in \u001b[0;36mrun\u001b[0;34m(self)\u001b[0m\n\u001b[1;32m    223\u001b[0m     \u001b[0mconfs\u001b[0m \u001b[0;34m=\u001b[0m \u001b[0;34m[\u001b[0m\u001b[0;34m]\u001b[0m\u001b[0;34m\u001b[0m\u001b[0m\n\u001b[1;32m    224\u001b[0m     \u001b[0;32mfor\u001b[0m \u001b[0mn\u001b[0m \u001b[0;32min\u001b[0m \u001b[0mrange\u001b[0m\u001b[0;34m(\u001b[0m\u001b[0mself\u001b[0m\u001b[0;34m.\u001b[0m\u001b[0margs\u001b[0m\u001b[0;34m[\u001b[0m\u001b[0;34m'max_trials'\u001b[0m\u001b[0;34m]\u001b[0m\u001b[0;34m)\u001b[0m\u001b[0;34m:\u001b[0m\u001b[0;34m\u001b[0m\u001b[0m\n\u001b[0;32m--> 225\u001b[0;31m       \u001b[0msampler\u001b[0m\u001b[0;34m(\u001b[0m\u001b[0mT\u001b[0m\u001b[0;34m=\u001b[0m\u001b[0;36m300.0\u001b[0m\u001b[0;34m*\u001b[0m\u001b[0mMMTK\u001b[0m\u001b[0;34m.\u001b[0m\u001b[0mUnits\u001b[0m\u001b[0;34m.\u001b[0m\u001b[0mK\u001b[0m\u001b[0;34m,\u001b[0m \u001b[0msteps\u001b[0m\u001b[0;34m=\u001b[0m\u001b[0;36m100\u001b[0m\u001b[0;34m)\u001b[0m\u001b[0;34m\u001b[0m\u001b[0m\n\u001b[0m\u001b[1;32m    226\u001b[0m       \u001b[0;32mif\u001b[0m \u001b[0;34m(\u001b[0m\u001b[0mn\u001b[0m\u001b[0;34m%\u001b[0m\u001b[0;36m100\u001b[0m\u001b[0;34m==\u001b[0m\u001b[0;36m0\u001b[0m\u001b[0;34m)\u001b[0m\u001b[0;34m:\u001b[0m\u001b[0;34m\u001b[0m\u001b[0m\n\u001b[1;32m    227\u001b[0m         \u001b[0;32mprint\u001b[0m \u001b[0;34m'Trial %6d, COM:'\u001b[0m\u001b[0;34m%\u001b[0m\u001b[0mn\u001b[0m\u001b[0;34m,\u001b[0m \u001b[0mself\u001b[0m\u001b[0;34m.\u001b[0m\u001b[0muniverse\u001b[0m\u001b[0;34m.\u001b[0m\u001b[0mcenterOfMass\u001b[0m\u001b[0;34m(\u001b[0m\u001b[0;34m)\u001b[0m\u001b[0;34m\u001b[0m\u001b[0m\n",
      "\u001b[0;32m/Users/dminh/Applications/miniconda2/envs/algdock/lib/python2.7/site-packages/AlGDock/Integrators/HamiltonianMonteCarlo/HamiltonianMonteCarlo.pyc\u001b[0m in \u001b[0;36m__call__\u001b[0;34m(self, **options)\u001b[0m\n\u001b[1;32m     94\u001b[0m             (self.universe,\n\u001b[1;32m     95\u001b[0m              \u001b[0mself\u001b[0m\u001b[0;34m.\u001b[0m\u001b[0muniverse\u001b[0m\u001b[0;34m.\u001b[0m\u001b[0mconfiguration\u001b[0m\u001b[0;34m(\u001b[0m\u001b[0;34m)\u001b[0m\u001b[0;34m.\u001b[0m\u001b[0marray\u001b[0m\u001b[0;34m,\u001b[0m\u001b[0;34m\u001b[0m\u001b[0m\n\u001b[0;32m---> 96\u001b[0;31m              self.universe.velocities().array) + late_args)\n\u001b[0m\u001b[1;32m     97\u001b[0m \u001b[0;34m\u001b[0m\u001b[0m\n\u001b[1;32m     98\u001b[0m           \u001b[0;31m# Decide whether to accept the move\u001b[0m\u001b[0;34m\u001b[0m\u001b[0;34m\u001b[0m\u001b[0m\n",
      "\u001b[0;32m/Users/dminh/Applications/miniconda2/envs/algdock/lib/python2.7/site-packages/MMTK/Trajectory.pyc\u001b[0m in \u001b[0;36mrun\u001b[0;34m(self, function, args)\u001b[0m\n\u001b[1;32m   1034\u001b[0m                                       function, args, self.state_accessor)\n\u001b[1;32m   1035\u001b[0m         \u001b[0;32melse\u001b[0m\u001b[0;34m:\u001b[0m\u001b[0;34m\u001b[0m\u001b[0m\n\u001b[0;32m-> 1036\u001b[0;31m             \u001b[0mapply\u001b[0m\u001b[0;34m(\u001b[0m\u001b[0mfunction\u001b[0m\u001b[0;34m,\u001b[0m \u001b[0margs\u001b[0m\u001b[0;34m)\u001b[0m\u001b[0;34m\u001b[0m\u001b[0m\n\u001b[0m\u001b[1;32m   1037\u001b[0m \u001b[0;34m\u001b[0m\u001b[0m\n\u001b[1;32m   1038\u001b[0m \u001b[0;31m#\u001b[0m\u001b[0;34m\u001b[0m\u001b[0;34m\u001b[0m\u001b[0m\n",
      "\u001b[0;31mKeyboardInterrupt\u001b[0m: "
     ]
    }
   ],
   "source": [
    "self.run()"
   ]
  },
  {
   "cell_type": "code",
   "execution_count": 5,
   "metadata": {
    "collapsed": true
   },
   "outputs": [],
   "source": [
    "self.view_trajectory()"
   ]
  },
  {
   "cell_type": "code",
   "execution_count": null,
   "metadata": {
    "collapsed": true
   },
   "outputs": [],
   "source": []
  }
 ],
 "metadata": {
  "kernelspec": {
   "display_name": "Python 2",
   "language": "python",
   "name": "python2"
  },
  "language_info": {
   "codemirror_mode": {
    "name": "ipython",
    "version": 2
   },
   "file_extension": ".py",
   "mimetype": "text/x-python",
   "name": "python",
   "nbconvert_exporter": "python",
   "pygments_lexer": "ipython2",
   "version": "2.7.11"
  }
 },
 "nbformat": 4,
 "nbformat_minor": 2
}
