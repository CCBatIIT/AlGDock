{
 "cells": [
  {
   "cell_type": "code",
   "execution_count": 1,
   "metadata": {
    "collapsed": false
   },
   "outputs": [
    {
     "name": "stdout",
     "output_type": "stream",
     "text": [
      "  extracted /Users/dminh/Installers/AlGDock-0.0.1/Nanopore_Example/ligand.db\n",
      "  extracted /Users/dminh/Installers/AlGDock-0.0.1/Nanopore_Example/ligand.frcmod\n",
      "  extracted /Users/dminh/Installers/AlGDock-0.0.1/Nanopore_Example/ligand.prmtop\n",
      "  grid type LJa not found\n"
     ]
    },
    {
     "name": "stderr",
     "output_type": "stream",
     "text": [
      "Warning: multiple database entries for\n",
      "         /Users/dminh/Installers/AlGDock-0.0.1/Nanopore_Example/ligand.db,\n",
      "         using first one\n",
      "/Users/dminh/Installers/AlGDock-0.0.1/Nanopore_Example/ligand.db\n",
      "/Users/dminh/Installers/AlGDock-0.0.1/Nanopore_Example/ligand.db\n"
     ]
    },
    {
     "name": "stdout",
     "output_type": "stream",
     "text": [
      "  grid type ELE not found\n"
     ]
    }
   ],
   "source": [
    "import AlGDock.Nanopore\n",
    "from AlGDock.Nanopore import *\n",
    "\n",
    "self = AlGDock.Nanopore.Simulation(\\\n",
    "  ligand_tarball='prmtopcrd/ligand.tar.gz', \\\n",
    "  ligand_database='ligand.db', \\\n",
    "  forcefield='prmtopcrd/gaff.dat', \\\n",
    "  frcmodList=['ligand.frcmod'], \\\n",
    "  ligand_prmtop='ligand.prmtop', \\\n",
    "  grid_LJr='grids/LJr.nc', \\\n",
    "  starting_conf='prmtopcrd/anchor_and_grow_scored.mol2', \\\n",
    "  ef=1.0E8, \\\n",
    "  max_trials=10000, \\\n",
    "  report_interval=100)"
   ]
  },
  {
   "cell_type": "code",
   "execution_count": 2,
   "metadata": {
    "collapsed": false
   },
   "outputs": [
    {
     "name": "stdout",
     "output_type": "stream",
     "text": [
      "Simulating motion from 0.20000 to 1.80000\n",
      "Trial      0, COM: [0.4994841950622626, 0.48883690505641225, 0.24081422286808335]\n"
     ]
    },
    {
     "name": "stderr",
     "output_type": "stream",
     "text": [
      "/Users/dminh/Applications/miniconda2/envs/algdock/lib/python2.7/site-packages/simtk/openmm/app/internal/amber_file_parser.py:1010: UserWarning: Non-optimal GB parameters detected for GB model OBC2\n",
      "  'model %s' % gbmodel)\n"
     ]
    },
    {
     "name": "stdout",
     "output_type": "stream",
     "text": [
      "Trial    100, COM: [0.5511036645660846, 0.5289018545979829, 0.5094217211136184]\n",
      "Trial    200, COM: [0.5454943319748038, 0.624771264127864, 0.6214246078857744]\n",
      "Trial    300, COM: [0.38894251154448206, 0.6580556606621735, 0.5875803169248227]\n",
      "Trial    400, COM: [0.3261264312835593, 0.6647961246427749, 0.7029182040116823]\n",
      "Trial    500, COM: [0.4082074560268511, 0.6468529469505232, 0.7868824896122093]\n",
      "Trial    600, COM: [0.38143397008684754, 0.6429597339322893, 0.7658682168826519]\n",
      "Trial    700, COM: [0.41252437927720387, 0.5548175019791405, 0.8758039997461691]\n",
      "Trial    800, COM: [0.5592995225379054, 0.544433974608096, 0.9513552728724444]\n",
      "Trial    900, COM: [0.6360972701999524, 0.5754374320375442, 0.9446343239412127]\n",
      "Trial   1000, COM: [0.5614094390412242, 0.4788591957872117, 1.011159612473839]\n",
      "Trial   1100, COM: [0.6134363099745272, 0.29983715743034217, 1.2396779623305587]\n",
      "Trial   1200, COM: [0.5184171345686188, 0.4160847807131322, 1.4261122144142917]\n",
      "Trial   1300, COM: [0.46906207814758466, 0.21996805803473843, 1.618286126625749]\n",
      "Number of trials before pore crossing:  1363\n",
      "Number of configurations:  14\n"
     ]
    }
   ],
   "source": [
    "self.run()"
   ]
  },
  {
   "cell_type": "code",
   "execution_count": 3,
   "metadata": {
    "collapsed": false
   },
   "outputs": [],
   "source": [
    "self.view_trajectory()"
   ]
  },
  {
   "cell_type": "code",
   "execution_count": null,
   "metadata": {
    "collapsed": true
   },
   "outputs": [],
   "source": []
  }
 ],
 "metadata": {
  "kernelspec": {
   "display_name": "Python 2",
   "language": "python",
   "name": "python2"
  },
  "language_info": {
   "codemirror_mode": {
    "name": "ipython",
    "version": 2
   },
   "file_extension": ".py",
   "mimetype": "text/x-python",
   "name": "python",
   "nbconvert_exporter": "python",
   "pygments_lexer": "ipython2",
   "version": "2.7.11"
  }
 },
 "nbformat": 4,
 "nbformat_minor": 2
}
