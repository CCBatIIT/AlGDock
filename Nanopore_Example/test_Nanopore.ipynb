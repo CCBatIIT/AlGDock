{
 "cells": [
  {
   "cell_type": "code",
   "execution_count": 1,
   "metadata": {
    "collapsed": false
   },
   "outputs": [
    {
     "name": "stdout",
     "output_type": "stream",
     "text": [
      "  extracted /Users/dminh/Installers/AlGDock-0.0.1/Nanopore_Example/ligand.db\n",
      "  extracted /Users/dminh/Installers/AlGDock-0.0.1/Nanopore_Example/ligand.frcmod\n",
      "  extracted /Users/dminh/Installers/AlGDock-0.0.1/Nanopore_Example/ligand.prmtop\n",
      "  grid type LJa not found"
     ]
    },
    {
     "name": "stderr",
     "output_type": "stream",
     "text": [
      "Warning: multiple database entries for\n",
      "         /Users/dminh/Installers/AlGDock-0.0.1/Nanopore_Example/ligand.db,\n",
      "         using first one\n",
      "/Users/dminh/Installers/AlGDock-0.0.1/Nanopore_Example/ligand.db\n",
      "/Users/dminh/Installers/AlGDock-0.0.1/Nanopore_Example/ligand.db\n"
     ]
    },
    {
     "name": "stdout",
     "output_type": "stream",
     "text": [
      "\n",
      "  grid type ELE not found\n"
     ]
    }
   ],
   "source": [
    "import AlGDock.Nanopore\n",
    "from AlGDock.Nanopore import *\n",
    "\n",
    "self = AlGDock.Nanopore.Simulation(\\\n",
    "  ligand_tarball='prmtopcrd/ligand.tar.gz', \\\n",
    "  ligand_database='ligand.db', \\\n",
    "  forcefield='prmtopcrd/gaff.dat', \\\n",
    "  frcmodList=['ligand.frcmod'], \\\n",
    "  ligand_prmtop='ligand.prmtop', \\\n",
    "  grid_LJr='grids/LJr.nc', \\\n",
    "  starting_conf='prmtopcrd/anchor_and_grow_scored.mol2', \\\n",
    "  ef=1.0E8, \\\n",
    "  max_trials=10000, \\\n",
    "  report_interval=100)"
   ]
  },
  {
   "cell_type": "code",
   "execution_count": 2,
   "metadata": {
    "collapsed": false
   },
   "outputs": [
    {
     "name": "stdout",
     "output_type": "stream",
     "text": [
      "Simulating motion from 0.20000 to 1.80000\n"
     ]
    },
    {
     "name": "stderr",
     "output_type": "stream",
     "text": [
      "/Users/dminh/Applications/miniconda2/envs/algdock/lib/python2.7/site-packages/simtk/openmm/app/internal/amber_file_parser.py:1010: UserWarning: Non-optimal GB parameters detected for GB model OBC2\n",
      "  'model %s' % gbmodel)\n"
     ]
    },
    {
     "name": "stdout",
     "output_type": "stream",
     "text": [
      "Trial      0, COM: [0.4964267589425149, 0.4964840328192567, 0.24038602825216784]\n",
      "Trial    100, COM: [0.44850141721871634, 0.6748687932696901, 0.3698771411710205]\n",
      "Trial    200, COM: [0.39458045026003524, 0.5999999869968635, 0.639199867954873]\n",
      "Trial    300, COM: [0.4113949691637279, 0.5146116315738214, 1.0097857006843052]\n",
      "Trial    400, COM: [0.546017894305857, 0.4230026543530237, 1.108873006598246]\n",
      "Trial    500, COM: [0.48144303321318377, 0.3532859781963921, 1.3537315839037514]\n",
      "Trial    600, COM: [0.4572700451417212, 0.4559887072073787, 1.4758613694009635]\n",
      "Trial    700, COM: [0.3193484138461007, 0.49833354427079884, 1.6351348844160674]\n",
      "Trial    800, COM: [0.3566156347175168, 0.5503431103637217, 1.676988563950804]\n",
      "Trial    900, COM: [0.2837418224959771, 0.5575837676460137, 1.5963611918578295]\n",
      "Trial   1000, COM: [0.365783967241433, 0.5513384259842201, 1.6282082214202067]\n",
      "Trial   1100, COM: [0.502321132175905, 0.42152714046866363, 1.660508267319922]\n",
      "Trial   1200, COM: [0.5244481614669858, 0.4543877656777244, 1.696083875890043]\n",
      "Trial   1300, COM: [0.44773451115656515, 0.5095232821062763, 1.7678021623090727]\n",
      "Trial   1400, COM: [0.3180257451065741, 0.514120693036896, 1.6664808814802377]\n",
      "Trial   1500, COM: [0.3103481132478145, 0.6066936211040586, 1.6908579579262084]\n",
      "Trial   1600, COM: [0.34049265767027853, 0.47626782985831645, 1.642255259668926]\n",
      "Trial   1700, COM: [0.3940459164879342, 0.4977583074039031, 1.7323289656366587]\n",
      "Trial   1800, COM: [0.3647053910483466, 0.41952304381576866, 1.6431182529623478]\n",
      "Trial   1900, COM: [0.2352957967212764, 0.5967221760716523, 1.6565446135380864]\n",
      "Trial   2000, COM: [0.2736133614351011, 0.5909917436007553, 1.7375938203126886]\n",
      "Number of trials before pore crossing:  2055\n",
      "Number of configurations:  21\n"
     ]
    }
   ],
   "source": [
    "self.run()"
   ]
  },
  {
   "cell_type": "code",
   "execution_count": 3,
   "metadata": {
    "collapsed": false
   },
   "outputs": [],
   "source": [
    "self.view_trajectory()"
   ]
  },
  {
   "cell_type": "code",
   "execution_count": null,
   "metadata": {
    "collapsed": true
   },
   "outputs": [],
   "source": []
  }
 ],
 "metadata": {
  "kernelspec": {
   "display_name": "Python 2",
   "language": "python",
   "name": "python2"
  },
  "language_info": {
   "codemirror_mode": {
    "name": "ipython",
    "version": 2
   },
   "file_extension": ".py",
   "mimetype": "text/x-python",
   "name": "python",
   "nbconvert_exporter": "python",
   "pygments_lexer": "ipython2",
   "version": "2.7.11"
  }
 },
 "nbformat": 4,
 "nbformat_minor": 2
}
