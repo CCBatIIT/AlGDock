{
 "cells": [
  {
   "cell_type": "code",
   "execution_count": 1,
   "metadata": {
    "collapsed": false
   },
   "outputs": [
    {
     "name": "stdout",
     "output_type": "stream",
     "text": [
      "  extracted /Users/dminh/Installers/AlGDock-0.0.1/Nanopore_Example/ligand.db\n",
      "  extracted /Users/dminh/Installers/AlGDock-0.0.1/Nanopore_Example/ligand.frcmod\n",
      "  extracted /Users/dminh/Installers/AlGDock-0.0.1/Nanopore_Example/ligand.prmtop\n",
      "  grid type LJa not found"
     ]
    },
    {
     "name": "stderr",
     "output_type": "stream",
     "text": [
      "Warning: multiple database entries for\n",
      "         /Users/dminh/Installers/AlGDock-0.0.1/Nanopore_Example/ligand.db,\n",
      "         using first one\n",
      "/Users/dminh/Installers/AlGDock-0.0.1/Nanopore_Example/ligand.db\n",
      "/Users/dminh/Installers/AlGDock-0.0.1/Nanopore_Example/ligand.db\n"
     ]
    },
    {
     "name": "stdout",
     "output_type": "stream",
     "text": [
      "\n",
      "  grid type ELE not found\n"
     ]
    }
   ],
   "source": [
    "import AlGDock.Nanopore\n",
    "from AlGDock.Nanopore import *\n",
    "\n",
    "self = AlGDock.Nanopore.Simulation(\\\n",
    "  ligand_tarball='prmtopcrd/ligand.tar.gz', \\\n",
    "  ligand_database='ligand.db', \\\n",
    "  forcefield='prmtopcrd/gaff.dat', \\\n",
    "  frcmodList=['ligand.frcmod'], \\\n",
    "  ligand_prmtop='ligand.prmtop', \\\n",
    "  grid_LJr='grids/LJr.nc', \\\n",
    "  starting_conf='prmtopcrd/anchor_and_grow_scored.mol2', \\\n",
    "  ef=1.0E8, \\\n",
    "  max_trials=10000, \\\n",
    "  report_interval=100)"
   ]
  },
  {
   "cell_type": "code",
   "execution_count": 2,
   "metadata": {
    "collapsed": false
   },
   "outputs": [
    {
     "name": "stdout",
     "output_type": "stream",
     "text": [
      "Simulating motion from 0.20000 to 1.80000\n"
     ]
    },
    {
     "name": "stderr",
     "output_type": "stream",
     "text": [
      "/Users/dminh/Applications/miniconda2/envs/algdock/lib/python2.7/site-packages/simtk/openmm/app/internal/amber_file_parser.py:1010: UserWarning: Non-optimal GB parameters detected for GB model OBC2\n",
      "  'model %s' % gbmodel)\n"
     ]
    },
    {
     "name": "stdout",
     "output_type": "stream",
     "text": [
      "Trial      0, COM: [0.504706597656681, 0.514018092642512, 0.24611225192236308]\n",
      "Trial    100, COM: [0.5171765159102357, 0.586364342725807, 0.591990954895479]\n",
      "Trial    200, COM: [0.4878192691486378, 0.5639548661401649, 0.6798245151973848]\n",
      "Trial    300, COM: [0.5348881212034176, 0.43937376081486357, 0.5604222389373499]\n",
      "Trial    400, COM: [0.4713111676613886, 0.5286489173245524, 1.0451049527999334]\n",
      "Trial    500, COM: [0.34877447231817993, 0.4727350743302155, 1.1166591228587368]\n",
      "Trial    600, COM: [0.5007566616433106, 0.42618976297664507, 1.0433894653713927]\n",
      "Trial    700, COM: [0.5752974641159497, 0.412859597831091, 1.2288051109219018]\n",
      "Trial    800, COM: [0.5593637607144745, 0.6027497708449696, 1.4167498288894351]\n",
      "Trial    900, COM: [0.7169283632909592, 0.6047705063581044, 1.5588976282411842]\n",
      "Trial   1000, COM: [0.51400564847268, 0.5219027332836528, 1.673372759360042]\n",
      "Number of trials before pore crossing:  1080\n",
      "Number of configurations:  11\n"
     ]
    }
   ],
   "source": [
    "print 'Simulating motion from %.5f to %.5f'%(self.z_i, self.z_f)\n",
    "\n",
    "confs = []\n",
    "for n in range(self.args['max_trials']):\n",
    "  from AlGDock.Integrators.HamiltonianMonteCarlo.HamiltonianMonteCarlo \\\n",
    "    import HamiltonianMonteCarloIntegrator\n",
    "  sampler = HamiltonianMonteCarloIntegrator(self.universe)\n",
    "  sampler(T=300.0*MMTK.Units.K, steps=100)\n",
    "  if (n%100==0):\n",
    "    print 'Trial %6d, COM:'%n, self.universe.centerOfMass()\n",
    "    confs.append(np.copy(self.universe.configuration().array))\n",
    "  if self.universe.centerOfMass()[-1]>self.z_f:\n",
    "    break\n",
    "print 'Number of trials before pore crossing: ', n\n",
    "print 'Number of configurations: ', len(confs)"
   ]
  },
  {
   "cell_type": "code",
   "execution_count": 3,
   "metadata": {
    "collapsed": false
   },
   "outputs": [],
   "source": [
    "dcdFN = 'test.dcd'\n",
    "\n",
    "import AlGDock.IO\n",
    "IO_dcd = AlGDock.IO.dcd(self.molecule,\n",
    "  ligand_atom_order = self.molecule.prmtop_atom_order)\n",
    "IO_dcd.write(dcdFN, confs)\n",
    "\n",
    "scriptFN = 'test.vmd'\n",
    "\n",
    "script = ''\n",
    "script +=  'set ligand [mol new '+self.args['ligand_prmtop']+']\\n'\n",
    "script += 'mol addfile '+dcdFN+' type dcd waitfor all\\n'\n",
    "# script += 'mol drawframes $ligand 0 {0:%d}\\n'%len(confs)\n",
    "\n",
    "scriptF = open(scriptFN,'w')\n",
    "scriptF.write(script)\n",
    "scriptF.close()"
   ]
  },
  {
   "cell_type": "code",
   "execution_count": 5,
   "metadata": {
    "collapsed": false
   },
   "outputs": [
    {
     "data": {
      "text/plain": [
       "0"
      ]
     },
     "execution_count": 5,
     "metadata": {},
     "output_type": "execute_result"
    }
   ],
   "source": [
    "vmdFN = AlGDock.findPaths(['vmd'])['vmd']\n",
    "vmd_args = [vmdFN] + ['-e', scriptFN]\n",
    "import subprocess\n",
    "p = subprocess.Popen(vmd_args, \\\n",
    "  stdout=subprocess.PIPE, stderr=subprocess.PIPE)\n",
    "(vmd_stdout, vmd_stderr) = p.communicate()\n",
    "p.wait()\n"
   ]
  },
  {
   "cell_type": "code",
   "execution_count": null,
   "metadata": {
    "collapsed": false
   },
   "outputs": [],
   "source": [
    "len(confs)"
   ]
  },
  {
   "cell_type": "code",
   "execution_count": null,
   "metadata": {
    "collapsed": true
   },
   "outputs": [],
   "source": []
  }
 ],
 "metadata": {
  "kernelspec": {
   "display_name": "Python 2",
   "language": "python",
   "name": "python2"
  },
  "language_info": {
   "codemirror_mode": {
    "name": "ipython",
    "version": 2
   },
   "file_extension": ".py",
   "mimetype": "text/x-python",
   "name": "python",
   "nbconvert_exporter": "python",
   "pygments_lexer": "ipython2",
   "version": "2.7.11"
  }
 },
 "nbformat": 4,
 "nbformat_minor": 2
}
