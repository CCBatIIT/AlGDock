{
 "cells": [
  {
   "cell_type": "code",
   "execution_count": 1,
   "metadata": {
    "collapsed": false
   },
   "outputs": [
    {
     "name": "stdout",
     "output_type": "stream",
     "text": [
      "The net charge on the ligand is too low for the electric field to have an effect\n",
      "  grid type LJa not found\n",
      "  grid type ELE not found\n"
     ]
    },
    {
     "name": "stderr",
     "output_type": "stream",
     "text": [
      "Warning: multiple database entries for\n",
      "         /Users/dminh/Installers/AlGDock-0.0.1/Nanopore_Example/prmtopcrd/yff_14.db,\n",
      "         using first one\n",
      "/Users/dminh/Installers/AlGDock-0.0.1/Nanopore_Example/prmtopcrd/yff_14.db\n",
      "/Users/dminh/Installers/AlGDock-0.0.1/Nanopore_Example/prmtopcrd/yff_14.db\n"
     ]
    }
   ],
   "source": [
    "import AlGDock.Nanopore\n",
    "from AlGDock.Nanopore import *\n",
    "\n",
    "# This will run a small molecule\n",
    "#  self = AlGDock.Nanopore.Simulation(\\\n",
    "#    ligand_tarball='prmtopcrd/ligand.tar.gz', \\\n",
    "#    ligand_database='ligand.db', \\\n",
    "#    forcefield='prmtopcrd/gaff2.dat', \\\n",
    "#    frcmodList=['ligand.frcmod'], \\\n",
    "#    ligand_prmtop='ligand.prmtop', \\\n",
    "#    starting_conf='prmtopcrd/anchor_and_grow_scored.mol2', \\\n",
    "#    grid_LJr='grids/LJr.nc', \\\n",
    "#    ef=1.0E8, \\\n",
    "#    max_trials=10000, \\\n",
    "#    report_interval=100)\n",
    "\n",
    "# This will run a peptide\n",
    "self = AlGDock.Nanopore.Simulation(\\\n",
    "  ligand_database='prmtopcrd/YFF_14.db', \\\n",
    "  forcefield='prmtopcrd/parm10.dat', \\\n",
    "  frcmodList=['prmtopcrd/frcmod.ff14SB'], \\\n",
    "  ligand_prmtop='prmtopcrd/YFF_14.prmtop', \\\n",
    "  starting_conf='prmtopcrd/YFF_14.inpcrd', \\\n",
    "  grid_LJr='grids/LJr.nc', \\\n",
    "  ef=1.0E8, \\\n",
    "  max_trials=10000, \\\n",
    "  report_interval=100)"
   ]
  },
  {
   "cell_type": "code",
   "execution_count": 5,
   "metadata": {
    "collapsed": false
   },
   "outputs": [
    {
     "ename": "NameError",
     "evalue": "name 'normalize' is not defined",
     "output_type": "error",
     "traceback": [
      "\u001b[0;31m---------------------------------------------------------------------------\u001b[0m",
      "\u001b[0;31mNameError\u001b[0m                                 Traceback (most recent call last)",
      "\u001b[0;32m<ipython-input-5-c66980b33177>\u001b[0m in \u001b[0;36m<module>\u001b[0;34m()\u001b[0m\n\u001b[1;32m     18\u001b[0m       \u001b[0mdelta_t\u001b[0m \u001b[0;34m*=\u001b[0m \u001b[0;36m0.9\u001b[0m\u001b[0;34m\u001b[0m\u001b[0m\n\u001b[1;32m     19\u001b[0m       \u001b[0mattempts_left\u001b[0m \u001b[0;34m-=\u001b[0m \u001b[0;36m1\u001b[0m\u001b[0;34m\u001b[0m\u001b[0m\n\u001b[0;32m---> 20\u001b[0;31m \u001b[0;32mif\u001b[0m \u001b[0mnormalize\u001b[0m\u001b[0;34m:\u001b[0m\u001b[0;34m\u001b[0m\u001b[0m\n\u001b[0m\u001b[1;32m     21\u001b[0m   \u001b[0mself\u001b[0m\u001b[0;34m.\u001b[0m\u001b[0muniverse\u001b[0m\u001b[0;34m.\u001b[0m\u001b[0mnormalizePosition\u001b[0m\u001b[0;34m(\u001b[0m\u001b[0;34m)\u001b[0m\u001b[0;34m\u001b[0m\u001b[0m\n\u001b[1;32m     22\u001b[0m \u001b[0me_f\u001b[0m \u001b[0;34m=\u001b[0m \u001b[0mself\u001b[0m\u001b[0;34m.\u001b[0m\u001b[0muniverse\u001b[0m\u001b[0;34m.\u001b[0m\u001b[0menergy\u001b[0m\u001b[0;34m(\u001b[0m\u001b[0;34m)\u001b[0m\u001b[0;34m\u001b[0m\u001b[0m\n",
      "\u001b[0;31mNameError\u001b[0m: name 'normalize' is not defined"
     ]
    }
   ],
   "source": [
    "    from AlGDock.Integrators.HamiltonianMonteCarlo.HamiltonianMonteCarlo \\\n",
    "      import HamiltonianMonteCarloIntegrator\n",
    "    sampler = HamiltonianMonteCarloIntegrator(self.universe)\n",
    "    \n",
    "    e_o = self.universe.energy()\n",
    "    T_LOW = 20.\n",
    "    T_START = 300.\n",
    "    delta_t = 1.5*MMTK.Units.fs\n",
    "    T_SERIES = T_LOW*(T_START/T_LOW)**(np.arange(30)/29.)\n",
    "    for T in T_SERIES:\n",
    "      attempts_left = 5\n",
    "      while attempts_left>0:\n",
    "        random_seed = int(T*10000) + attempts_left + \\\n",
    "          int(self.universe.configuration().array[0][0]*10000) + \\\n",
    "          int(time.time())\n",
    "        random_seed = random_seed%32767\n",
    "        (xs, energies, acc, ntrials, delta_t) = \\\n",
    "          sampler(steps = 500, steps_per_trial = 50, T=T,\\\n",
    "                  delta_t=delta_t, random_seed=random_seed)\n",
    "        if (np.std(energies)>1E-3) and float(acc)/ntrials>0.4:\n",
    "          attempts_left = 0\n",
    "        else:\n",
    "          delta_t *= 0.9\n",
    "          attempts_left -= 1\n",
    "    self.universe.normalizePosition()\n",
    "    e_f = self.universe.energy()"
   ]
  },
  {
   "cell_type": "code",
   "execution_count": 2,
   "metadata": {
    "collapsed": false
   },
   "outputs": [
    {
     "name": "stdout",
     "output_type": "stream",
     "text": [
      "[[ 1.11958016  1.35494716  0.51392345]\n",
      " [ 0.89105967  1.2255089   0.23902993]\n",
      " [ 1.37473363  1.26809565  0.78205746]\n",
      " [ 1.02385584  1.43040381  0.60557165]\n",
      " [ 1.48263862  1.19371162  0.70408454]\n",
      " [ 0.99896454  1.15112458  0.16105714]\n",
      " [ 1.19928848  1.00588673  0.2091959 ]\n",
      " [ 1.0122318   1.59398586  0.79700522]\n",
      " [ 1.68622158  1.0470314   0.72816574]\n",
      " [ 1.06991898  1.09162877  0.39550768]\n",
      " [ 1.22991835  1.52855898  0.7125535 ]\n",
      " [ 1.57179624  1.12155002  0.92855042]\n",
      " [ 1.28521359  0.94103894  0.29870361]\n",
      " [ 1.07381842  1.67688912  0.89152584]\n",
      " [ 1.77894478  0.97771488  0.80689084]\n",
      " [ 1.1558444   1.02678084  0.48501498]\n",
      " [ 1.29150465  1.61146239  0.80707425]\n",
      " [ 1.66451961  1.05223334  1.00727522]\n",
      " [ 1.09028143  1.51982079  0.70751899]\n",
      " [ 1.58264729  1.11894893  0.7889952 ]\n",
      " [ 1.09164108  1.08118166  0.25759753]\n",
      " [ 1.26349163  0.95148591  0.43661301]\n",
      " [ 1.21345469  1.68562736  0.8965604 ]\n",
      " [ 1.76809386  0.98031589  0.94644543]\n",
      " [ 0.96044729  1.32368201  0.3323693 ]\n",
      " [ 1.21139695  1.27096785  0.60157042]\n",
      " [ 1.4441211   1.36626873  0.87539697]\n",
      " [ 0.80386075  1.392799    0.17046762]\n",
      " [ 0.70811084  1.25944789  0.17339027]\n",
      " [ 0.83716307  1.27897796  0.05691228]\n",
      " [ 1.18010452  1.42744133  0.45949562]\n",
      " [ 1.31932384  1.1960517   0.84222735]\n",
      " [ 0.83564975  1.15346514  0.29919993]\n",
      " [ 0.95890209  1.49425796  0.5456997 ]\n",
      " [ 1.4360076   1.12003261  0.63867854]\n",
      " [ 0.9523334   1.07744556  0.09565124]\n",
      " [ 0.96318532  1.3591293   0.66142889]\n",
      " [ 1.53957544  1.26465748  0.64403553]\n",
      " [ 1.05590148  1.22207026  0.10100802]\n",
      " [ 1.21620073  0.99775273  0.10182361]\n",
      " [ 0.90351494  1.58718282  0.79308575]\n",
      " [ 1.69467013  1.04500605  0.61951253]\n",
      " [ 0.98610801  1.15025134  0.4331921 ]\n",
      " [ 1.29068582  1.47081623  0.64288221]\n",
      " [ 1.49115636  1.17754293  0.97591077]\n",
      " [ 1.36902488  0.88241653  0.26101942]\n",
      " [ 1.01305125  1.73463186  0.96119747]\n",
      " [ 1.85958496  0.92172204  0.75953082]\n",
      " [ 1.13893225  1.03491467  0.59238734]\n",
      " [ 1.40022149  1.61826562  0.81099404]\n",
      " [ 1.65607139  1.05425853  1.11592847]\n",
      " [ 1.41712941  0.83986984  0.47964859]\n",
      " [ 1.2614043   1.75017339  0.97015146]\n",
      " [ 1.84028547  0.9263481   1.00773857]\n",
      " [ 1.06377736  1.17239561  0.42148766]\n",
      " [ 1.27565395  1.43701002  0.70060474]\n",
      " [ 0.79996389  1.29405637  0.14959377]\n",
      " [ 1.04713816  1.27200045  0.41975327]\n",
      " [ 1.28363773  1.3366431   0.69262142]\n",
      " [ 1.3469619   0.88849098  0.5235633 ]\n",
      " [ 1.52528789  1.3264516   0.95864926]\n",
      " [ 0.93615526  1.44396833  0.32562386]\n",
      " [ 1.21693074  1.1490299   0.58725552]\n",
      " [ 1.41982887  1.48655502  0.86865171]]\n",
      "{'LJr': 0.0, 'electrostatic/pair sum': -274.61491342746382, 'electric_field_z': -58.887352253229238, 'OBC': -674.3284442242807, 'cosine dihedral angle': 73.517879515929096, 'harmonic bond': 5.6658131091403723, 'electrostatic': -274.61491342746382, 'harmonic bond angle': 21.901990970253035, 'Lennard-Jones': 139737.9529031023}\n"
     ]
    }
   ],
   "source": [
    "print self.universe.energyTerms()\n",
    "\n",
    "import AlGDock.IO\n",
    "IO_dcd = AlGDock.IO.dcd(self.molecule,\n",
    "  ligand_atom_order = self.molecule.prmtop_atom_order)\n",
    "IO_dcd.write(self.args['output_dcd'], [self.universe.configuration().array])"
   ]
  },
  {
   "cell_type": "code",
   "execution_count": 7,
   "metadata": {
    "collapsed": false
   },
   "outputs": [
    {
     "name": "stdout",
     "output_type": "stream",
     "text": [
      "Simulating motion from 0.60000 to 5.40000\n",
      "Trial      0, COM: [1.237132955847144, 1.243401069823231, 0.59694940253328]\n",
      "Trial    100, COM: [1.36759375843505, 1.3158893624066776, 0.5442941825330433]\n",
      "Trial    200, COM: [1.323765543017124, 1.4527882871233795, 0.6102412025874019]\n",
      "Trial    300, COM: [1.340212081902348, 1.5783592586566035, 0.635318345615737]\n",
      "Trial    400, COM: [1.303706707348885, 1.6175472092431704, 0.6880280465716864]\n",
      "Trial    500, COM: [1.189586321137778, 1.5993760872530935, 0.7175061823042246]\n",
      "Trial    600, COM: [1.135882553137019, 1.4314473813365838, 0.721785043088248]\n",
      "Trial    700, COM: [1.1465917389862876, 1.4703042035283256, 0.7015148141291522]\n",
      "Trial    800, COM: [1.077318332499994, 1.6693473795120095, 0.7945644701497677]\n",
      "Trial    900, COM: [1.0859161945116171, 1.6262982953568021, 0.9188541590150485]\n",
      "Trial   1000, COM: [1.0242707209326343, 1.6405355178820074, 0.918859279085983]\n",
      "Trial   1100, COM: [1.0748728541845847, 1.7544639327444125, 0.9235990579844834]\n",
      "Trial   1200, COM: [1.1532398605691891, 1.747892587785487, 1.114110744062306]\n",
      "Trial   1300, COM: [1.1294350923602514, 1.7689024102138649, 1.0671233681039847]\n"
     ]
    },
    {
     "ename": "KeyboardInterrupt",
     "evalue": "",
     "output_type": "error",
     "traceback": [
      "\u001b[0;31m---------------------------------------------------------------------------\u001b[0m",
      "\u001b[0;31mKeyboardInterrupt\u001b[0m                         Traceback (most recent call last)",
      "\u001b[0;32m<ipython-input-7-3814cdf80868>\u001b[0m in \u001b[0;36m<module>\u001b[0;34m()\u001b[0m\n\u001b[0;32m----> 1\u001b[0;31m \u001b[0mself\u001b[0m\u001b[0;34m.\u001b[0m\u001b[0mrun\u001b[0m\u001b[0;34m(\u001b[0m\u001b[0;34m)\u001b[0m\u001b[0;34m\u001b[0m\u001b[0m\n\u001b[0m\u001b[1;32m      2\u001b[0m \u001b[0mself\u001b[0m\u001b[0;34m.\u001b[0m\u001b[0mview_trajectory\u001b[0m\u001b[0;34m(\u001b[0m\u001b[0;34m)\u001b[0m\u001b[0;34m\u001b[0m\u001b[0m\n",
      "\u001b[0;32m/Users/dminh/Applications/miniconda2/envs/algdock/lib/python2.7/site-packages/AlGDock/Nanopore.pyc\u001b[0m in \u001b[0;36mrun\u001b[0;34m(self)\u001b[0m\n\u001b[1;32m    223\u001b[0m     \u001b[0mconfs\u001b[0m \u001b[0;34m=\u001b[0m \u001b[0;34m[\u001b[0m\u001b[0;34m]\u001b[0m\u001b[0;34m\u001b[0m\u001b[0m\n\u001b[1;32m    224\u001b[0m     \u001b[0;32mfor\u001b[0m \u001b[0mn\u001b[0m \u001b[0;32min\u001b[0m \u001b[0mrange\u001b[0m\u001b[0;34m(\u001b[0m\u001b[0mself\u001b[0m\u001b[0;34m.\u001b[0m\u001b[0margs\u001b[0m\u001b[0;34m[\u001b[0m\u001b[0;34m'max_trials'\u001b[0m\u001b[0;34m]\u001b[0m\u001b[0;34m)\u001b[0m\u001b[0;34m:\u001b[0m\u001b[0;34m\u001b[0m\u001b[0m\n\u001b[0;32m--> 225\u001b[0;31m       \u001b[0msampler\u001b[0m\u001b[0;34m(\u001b[0m\u001b[0mT\u001b[0m\u001b[0;34m=\u001b[0m\u001b[0;36m300.0\u001b[0m\u001b[0;34m*\u001b[0m\u001b[0mMMTK\u001b[0m\u001b[0;34m.\u001b[0m\u001b[0mUnits\u001b[0m\u001b[0;34m.\u001b[0m\u001b[0mK\u001b[0m\u001b[0;34m,\u001b[0m \u001b[0msteps\u001b[0m\u001b[0;34m=\u001b[0m\u001b[0;36m100\u001b[0m\u001b[0;34m)\u001b[0m\u001b[0;34m\u001b[0m\u001b[0m\n\u001b[0m\u001b[1;32m    226\u001b[0m       \u001b[0;32mif\u001b[0m \u001b[0;34m(\u001b[0m\u001b[0mn\u001b[0m\u001b[0;34m%\u001b[0m\u001b[0;36m100\u001b[0m\u001b[0;34m==\u001b[0m\u001b[0;36m0\u001b[0m\u001b[0;34m)\u001b[0m\u001b[0;34m:\u001b[0m\u001b[0;34m\u001b[0m\u001b[0m\n\u001b[1;32m    227\u001b[0m         \u001b[0;32mprint\u001b[0m \u001b[0;34m'Trial %6d, COM:'\u001b[0m\u001b[0;34m%\u001b[0m\u001b[0mn\u001b[0m\u001b[0;34m,\u001b[0m \u001b[0mself\u001b[0m\u001b[0;34m.\u001b[0m\u001b[0muniverse\u001b[0m\u001b[0;34m.\u001b[0m\u001b[0mcenterOfMass\u001b[0m\u001b[0;34m(\u001b[0m\u001b[0;34m)\u001b[0m\u001b[0;34m\u001b[0m\u001b[0m\n",
      "\u001b[0;32m/Users/dminh/Applications/miniconda2/envs/algdock/lib/python2.7/site-packages/AlGDock/Integrators/HamiltonianMonteCarlo/HamiltonianMonteCarlo.pyc\u001b[0m in \u001b[0;36m__call__\u001b[0;34m(self, **options)\u001b[0m\n\u001b[1;32m     94\u001b[0m             (self.universe,\n\u001b[1;32m     95\u001b[0m              \u001b[0mself\u001b[0m\u001b[0;34m.\u001b[0m\u001b[0muniverse\u001b[0m\u001b[0;34m.\u001b[0m\u001b[0mconfiguration\u001b[0m\u001b[0;34m(\u001b[0m\u001b[0;34m)\u001b[0m\u001b[0;34m.\u001b[0m\u001b[0marray\u001b[0m\u001b[0;34m,\u001b[0m\u001b[0;34m\u001b[0m\u001b[0m\n\u001b[0;32m---> 96\u001b[0;31m              self.universe.velocities().array) + late_args)\n\u001b[0m\u001b[1;32m     97\u001b[0m \u001b[0;34m\u001b[0m\u001b[0m\n\u001b[1;32m     98\u001b[0m           \u001b[0;31m# Decide whether to accept the move\u001b[0m\u001b[0;34m\u001b[0m\u001b[0;34m\u001b[0m\u001b[0m\n",
      "\u001b[0;32m/Users/dminh/Applications/miniconda2/envs/algdock/lib/python2.7/site-packages/MMTK/Trajectory.pyc\u001b[0m in \u001b[0;36mrun\u001b[0;34m(self, function, args)\u001b[0m\n\u001b[1;32m   1034\u001b[0m                                       function, args, self.state_accessor)\n\u001b[1;32m   1035\u001b[0m         \u001b[0;32melse\u001b[0m\u001b[0;34m:\u001b[0m\u001b[0;34m\u001b[0m\u001b[0m\n\u001b[0;32m-> 1036\u001b[0;31m             \u001b[0mapply\u001b[0m\u001b[0;34m(\u001b[0m\u001b[0mfunction\u001b[0m\u001b[0;34m,\u001b[0m \u001b[0margs\u001b[0m\u001b[0;34m)\u001b[0m\u001b[0;34m\u001b[0m\u001b[0m\n\u001b[0m\u001b[1;32m   1037\u001b[0m \u001b[0;34m\u001b[0m\u001b[0m\n\u001b[1;32m   1038\u001b[0m \u001b[0;31m#\u001b[0m\u001b[0;34m\u001b[0m\u001b[0;34m\u001b[0m\u001b[0m\n",
      "\u001b[0;31mKeyboardInterrupt\u001b[0m: "
     ]
    }
   ],
   "source": [
    "self.run()\n",
    "self.view_trajectory()"
   ]
  },
  {
   "cell_type": "code",
   "execution_count": null,
   "metadata": {
    "collapsed": true
   },
   "outputs": [],
   "source": []
  }
 ],
 "metadata": {
  "kernelspec": {
   "display_name": "Python 2",
   "language": "python",
   "name": "python2"
  },
  "language_info": {
   "codemirror_mode": {
    "name": "ipython",
    "version": 2
   },
   "file_extension": ".py",
   "mimetype": "text/x-python",
   "name": "python",
   "nbconvert_exporter": "python",
   "pygments_lexer": "ipython2",
   "version": "2.7.11"
  }
 },
 "nbformat": 4,
 "nbformat_minor": 2
}
