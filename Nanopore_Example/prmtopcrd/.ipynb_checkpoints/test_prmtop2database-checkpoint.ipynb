{
 "cells": [
  {
   "cell_type": "code",
   "execution_count": 1,
   "metadata": {
    "collapsed": false
   },
   "outputs": [],
   "source": [
    "import sys\n",
    "# sys.argv = [sys.argv[0], 'YFF_14.prmtop', 'YFF_14.db', '--inpcrd_FN', 'YFF_14.inpcrd']\n",
    "sys.argv = [sys.argv[0], 'ligand.prmtop', 'ligand.db']"
   ]
  },
  {
   "cell_type": "code",
   "execution_count": 2,
   "metadata": {
    "collapsed": false
   },
   "outputs": [
    {
     "name": "stdout",
     "output_type": "stream",
     "text": [
      "Creating database ligand.db\n"
     ]
    }
   ],
   "source": [
    "#!/usr/bin/python\n",
    "\n",
    "# Converts AMBER prmtop (and inpcrd) files to a MMTK database,\n",
    "# which is basically a python script defining a molecule's\n",
    "# atoms, bonds, and default coordinates\n",
    "\n",
    "import os, sys, time, numpy\n",
    "\n",
    "#################\n",
    "### CONSTANTS ###\n",
    "#################\n",
    "\n",
    "# Map flag to variable names\n",
    "varnames = ['POINTERS','TITLE','ATOM_NAME','AMBER_ATOM_TYPE','CHARGE','MASS',\\\n",
    "            'NONBONDED_PARM_INDEX','LENNARD_JONES_ACOEF','LENNARD_JONES_BCOEF',\\\n",
    "            'ATOM_TYPE_INDEX','BONDS_INC_HYDROGEN','BONDS_WITHOUT_HYDROGEN',\\\n",
    "            'RADII','SCREEN']\n",
    "# Masses for atoms defined in the GAFF force field\n",
    "mass2symbols = {12.01:'C',1.008:'H',19.00:'F',35.45:'Cl',79.90:'Br',126.9:'I',\\\n",
    "                14.01:'N',16.00:'O',30.97:'P',32.06:'S'}\n",
    "\n",
    "############\n",
    "### MAIN ###\n",
    "############\n",
    "\n",
    "import argparse\n",
    "parser = argparse.ArgumentParser(\n",
    "  description='Convert AMBER prmtop and inpcrd files to a MMTK database file')\n",
    "parser.add_argument('prmtop_FN', help='AMBER prmtop file')\n",
    "parser.add_argument('db_FN', help='MMTK Database file')\n",
    "parser.add_argument('--inpcrd_FN', help='AMBER inpcrd file')\n",
    "parser.add_argument('-f', help='Does nothing')\n",
    "args = parser.parse_args()\n",
    "\n",
    "print \"Creating database \"+args.db_FN\n",
    "\n",
    "### Loads AMBER parameter file\n",
    "import AlGDock.IO\n",
    "prmtop_IO = AlGDock.IO.prmtop()\n",
    "prmtop = prmtop_IO.read(args.prmtop_FN, varnames)\n",
    "\n",
    "# Modify atom names to be acceptable python variables and include the atom index\n",
    "prmtop['ATOM_NAME'] = ['%si%s'%(a_n.replace(\"'\",\"p\").strip(),ind) \\\n",
    "  for (a_n,ind) in zip(prmtop['ATOM_NAME'],range(len(prmtop['ATOM_NAME'])))]\n",
    "\n",
    "NATOM = prmtop['POINTERS'][0]\n",
    "NTYPES = prmtop['POINTERS'][1]\n",
    "\n",
    "### Extract Lennard-Jones well depth and radii for each atom\n",
    "LJ_radius = numpy.ndarray(shape=(NTYPES), dtype=float)\n",
    "LJ_depth = numpy.ndarray(shape=(NTYPES), dtype=float)\n",
    "for i in range(NTYPES):\n",
    "  LJ_index = prmtop['NONBONDED_PARM_INDEX'][NTYPES*i+i]-1\n",
    "  if prmtop['LENNARD_JONES_ACOEF'][LJ_index]<1.0e-6:\n",
    "    LJ_radius[i] = 0\n",
    "    LJ_depth[i] = 0\n",
    "  else:\n",
    "    factor = 2 * prmtop['LENNARD_JONES_ACOEF'][LJ_index] / \\\n",
    "      prmtop['LENNARD_JONES_BCOEF'][LJ_index]\n",
    "    LJ_radius[i] = pow(factor, 1.0/6.0) * 0.5\n",
    "    LJ_depth[i] = prmtop['LENNARD_JONES_BCOEF'][LJ_index] / 2 / factor\n",
    "# More useful for later calculations\n",
    "root_LJ_depth = numpy.sqrt(LJ_depth)\n",
    "LJ_diameter = LJ_radius*2\n",
    "del i, LJ_index, factor\n",
    "\n",
    "### Loads AMBER inpcrd file\n",
    "if (args.inpcrd_FN is not None) and os.path.isfile(args.inpcrd_FN):\n",
    "  inpcrdF = open(args.inpcrd_FN,'r')\n",
    "  inpcrd = inpcrdF.read().split('\\n')\n",
    "  inpcrdF.close()\n",
    "  inpcrd.pop(0) # Title\n",
    "  NATOM = int(inpcrd.pop(0)) # Number of atoms\n",
    "  w = 12 # Width of field\n",
    "  coords = []\n",
    "  for line in inpcrd:\n",
    "        coords = coords + [float(line[x:x+w]) for x in range(0,len(line),w)]\n",
    "  del w, inpcrdF, inpcrd\n",
    "else:\n",
    "  coords = None\n",
    "\n",
    "### Writes database\n",
    "db_dir = os.path.dirname(args.db_FN)\n",
    "if not (db_dir=='' or os.path.exists(db_dir)):\n",
    "  os.system('mkdir -p '+db_dir)\n",
    "\n",
    "db = open(args.db_FN,'w')\n",
    "\n",
    "db.write(\"name='%s'\\n\"%os.path.basename(args.db_FN))\n",
    "\n",
    "for [name,mass] in zip(prmtop['ATOM_NAME'],prmtop['MASS']):\n",
    "  if mass in mass2symbols.keys():\n",
    "    db.write(name.strip()+\" = Atom('\"+mass2symbols[mass]+\"')\\n\")\n",
    "  else:\n",
    "    raise Exception('Unknown atom with mass: %f!'%mass)\n",
    "    sys.exit()\n",
    "\n",
    "# The order of atoms in the prmtop file (not used by MMTK)\n",
    "db.write(\"prmtop_order = [\" + \", \".join([\"%s\"%name.strip() \\\n",
    "  for name in prmtop['ATOM_NAME']]) + \"]\\n\")\n",
    "\n",
    "bondList = list(prmtop['BONDS_INC_HYDROGEN']) + \\\n",
    "  list(prmtop['BONDS_WITHOUT_HYDROGEN'])\n",
    "db.write(\"bonds = [\" + \", \".join([\"Bond(%s, %s)\"%(\\\n",
    "  prmtop['ATOM_NAME'][bondList[i]/3].strip(),prmtop['ATOM_NAME'][bondList[i+1]/3].strip()) \\\n",
    "  for i in range(0,len(bondList),3)]) + \"]\\n\")\n",
    "\n",
    "db.write(\"amber12_atom_type = {\" + \", \".join([\"%s: '%s'\"%(name.strip(),type.strip()) \\\n",
    "  for (name,type) in zip(prmtop['ATOM_NAME'],prmtop['AMBER_ATOM_TYPE'])]) + \"}\\n\")\n",
    "\n",
    "# Write the charge, converted to units of electric charge\n",
    "# AMBER prmtop files multiply the actual charge by 18.2223, hence the division\n",
    "db.write(\"amber_charge = {\" + \", \".join(\\\n",
    "  [\"%s: '%f'\"%(name.strip(),charge/18.2223) \\\n",
    "   for (name,charge) in zip(prmtop['ATOM_NAME'],prmtop['CHARGE'])]) + \"}\\n\")\n",
    "\n",
    "# Write the grid scaling factors\n",
    "# Because the grids are in units of kcal/mol, the scaling factors are multiplied by 4.184 to convert to kJ/mol\n",
    "db.write(\"scaling_factor_ELE = {\" + \\\n",
    "  \", \".join([\"%s: %f\"%(name.strip(),4.184*charge/18.2223) \n",
    "    for (name,charge) in zip(prmtop['ATOM_NAME'],prmtop['CHARGE'])]) \\\n",
    "  + \"}\\n\")\n",
    "atom_type_indicies = [prmtop['ATOM_TYPE_INDEX'][atom_index]-1 \\\n",
    "  for atom_index in range(NATOM)]\n",
    "db.write(\"scaling_factor_LJr = {\" + \\\n",
    "  \", \".join([\"%s: %f\"%(name.strip(),4.184*root_LJ_depth[type_index]*(LJ_diameter[type_index]**6)) \\\n",
    "             for (name,type_index) in zip(prmtop['ATOM_NAME'],atom_type_indicies)]) + \"}\\n\")\n",
    "db.write(\"scaling_factor_LJa = {\" + \\\n",
    "  \", \".join([\"%s: %f\"%(name.strip(),4.184*root_LJ_depth[type_index]*(LJ_diameter[type_index]**3)) \\\n",
    "             for (name,type_index) in zip(prmtop['ATOM_NAME'],atom_type_indicies)]) + \"}\\n\")\n",
    "\n",
    "# Write the coordinates, converted from Angstroms to nanometers\n",
    "if coords is not None:\n",
    "  db.write(\"configurations = {\\n\")\n",
    "  db.write(\"'default': Cartesian({\" + \", \".join([\"%s: (%f, %f, %f)\"%(name.strip(), coords[i]/10.0, coords[i+1]/10.0, coords[i+2]/10.0) for (name,i) in zip(prmtop['ATOM_NAME'],range(0,NATOM*3,3))]) + \"})}\\n\")\n",
    "\n",
    "# TODO: Write Born radii and screening\n",
    "db.close()"
   ]
  },
  {
   "cell_type": "code",
   "execution_count": 5,
   "metadata": {
    "collapsed": false
   },
   "outputs": [],
   "source": [
    "import os\n",
    "import sys\n",
    "import time\n",
    "import numpy as np\n",
    "\n",
    "import MMTK\n",
    "import MMTK.Units\n",
    "from MMTK.ParticleProperties import Configuration\n",
    "from MMTK.ForceFields import ForceField\n",
    "\n",
    "import Scientific\n",
    "try:\n",
    "  from Scientific._vector import Vector\n",
    "except:\n",
    "  from Scientific.Geometry.VectorModule import Vector\n",
    "\n",
    "R = 8.3144621 * MMTK.Units.J / MMTK.Units.mol / MMTK.Units.K\n",
    "\n",
    "MMTK.Database.molecule_types.directory = \\\n",
    "      os.path.dirname(os.path.abspath(args.db_FN))\n",
    "molecule = MMTK.Molecule(args.db_FN)"
   ]
  },
  {
   "cell_type": "code",
   "execution_count": 7,
   "metadata": {
    "collapsed": false
   },
   "outputs": [
    {
     "data": {
      "text/plain": [
       "array([  4.27317356e+03,   3.78870767e+03,   3.78870767e+03,\n",
       "         3.78870767e+03,   3.78870767e+03,   3.78870767e+03,\n",
       "         4.27317356e+03,   4.27317356e+03,   4.27317356e+03,\n",
       "         4.27317356e+03,   5.94398340e+01,   5.94398340e+01,\n",
       "         5.94398340e+01,   5.94398340e+01,   5.94398340e+01,\n",
       "         1.56541300e+00,   3.16336300e+02,   3.16336300e+02,\n",
       "         2.56615708e+02,   2.56615708e+02,   3.62733183e+02,\n",
       "         3.62733183e+02,   3.62733183e+02,   3.62733183e+02,\n",
       "         5.94398340e+01,   4.06579160e+03,   4.06579160e+03])"
      ]
     },
     "execution_count": 7,
     "metadata": {},
     "output_type": "execute_result"
    }
   ],
   "source": [
    "import numpy as np\n",
    "np.array([molecule.getAtomProperty(a, 'scaling_factor_LJr') \\\n",
    "                  for a in molecule.atomList()],dtype=float)"
   ]
  },
  {
   "cell_type": "code",
   "execution_count": 8,
   "metadata": {
    "collapsed": false
   },
   "outputs": [
    {
     "data": {
      "text/plain": [
       "[Atom ligand.db.C10i24,\n",
       " Atom ligand.db.C1i15,\n",
       " Atom ligand.db.C2i16,\n",
       " Atom ligand.db.C3i17,\n",
       " Atom ligand.db.C4i18,\n",
       " Atom ligand.db.C5i19,\n",
       " Atom ligand.db.C6i20,\n",
       " Atom ligand.db.C7i21,\n",
       " Atom ligand.db.C8i22,\n",
       " Atom ligand.db.C9i23,\n",
       " Atom ligand.db.H10i9,\n",
       " Atom ligand.db.H11i10,\n",
       " Atom ligand.db.H12i11,\n",
       " Atom ligand.db.H13i12,\n",
       " Atom ligand.db.H14i13,\n",
       " Atom ligand.db.H15i14,\n",
       " Atom ligand.db.H1i0,\n",
       " Atom ligand.db.H2i1,\n",
       " Atom ligand.db.H3i2,\n",
       " Atom ligand.db.H4i3,\n",
       " Atom ligand.db.H5i4,\n",
       " Atom ligand.db.H6i5,\n",
       " Atom ligand.db.H7i6,\n",
       " Atom ligand.db.H8i7,\n",
       " Atom ligand.db.H9i8,\n",
       " Atom ligand.db.N1i25,\n",
       " Atom ligand.db.N2i26]"
      ]
     },
     "execution_count": 8,
     "metadata": {},
     "output_type": "execute_result"
    }
   ],
   "source": [
    "molecule.atomList()"
   ]
  },
  {
   "cell_type": "code",
   "execution_count": 10,
   "metadata": {
    "collapsed": false
   },
   "outputs": [
    {
     "data": {
      "text/plain": [
       "array([ 1.2 ,  1.2 ,  1.2 ,  1.2 ,  1.2 ,  1.2 ,  1.2 ,  1.2 ,  1.2 ,\n",
       "        1.2 ,  1.2 ,  1.2 ,  1.2 ,  1.2 ,  1.2 ,  1.7 ,  1.7 ,  1.7 ,\n",
       "        1.7 ,  1.7 ,  1.7 ,  1.7 ,  1.7 ,  1.7 ,  1.7 ,  1.55,  1.55])"
      ]
     },
     "execution_count": 10,
     "metadata": {},
     "output_type": "execute_result"
    }
   ],
   "source": [
    "prmtop['RADII']"
   ]
  },
  {
   "cell_type": "code",
   "execution_count": null,
   "metadata": {
    "collapsed": true
   },
   "outputs": [],
   "source": []
  }
 ],
 "metadata": {
  "kernelspec": {
   "display_name": "Python 2",
   "language": "python",
   "name": "python2"
  },
  "language_info": {
   "codemirror_mode": {
    "name": "ipython",
    "version": 2
   },
   "file_extension": ".py",
   "mimetype": "text/x-python",
   "name": "python",
   "nbconvert_exporter": "python",
   "pygments_lexer": "ipython2",
   "version": "2.7.11"
  }
 },
 "nbformat": 4,
 "nbformat_minor": 2
}
