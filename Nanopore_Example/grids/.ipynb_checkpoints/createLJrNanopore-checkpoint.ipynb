{
 "cells": [
  {
   "cell_type": "code",
   "execution_count": 1,
   "metadata": {
    "collapsed": false
   },
   "outputs": [],
   "source": [
    "import numpy as np\n",
    "origin = np.array((0,0,0))\n",
    "counts = np.array((50,50,120))\n",
    "spacing = np.array((0.5,0.5,0.5))\n",
    "\n",
    "grid = {}\n",
    "grid['x'] = np.zeros(shape=tuple(counts), dtype=float)\n",
    "grid['y'] = np.zeros(shape=tuple(counts), dtype=float)\n",
    "grid['z'] = np.zeros(shape=tuple(counts), dtype=float)\n",
    "for i in range(counts[0]):\n",
    "  for j in range(counts[1]):\n",
    "    for k in range(counts[2]):\n",
    "      grid['x'][i,j,k] = i*spacing[0]\n",
    "      grid['y'][i,j,k] = j*spacing[1]\n",
    "      grid['z'][i,j,k] = k*spacing[2]\n",
    "\n",
    "grid['LJr'] = np.zeros(shape=tuple(counts), dtype=float)\n",
    "mid_xy = (origin[0] + counts[0]*spacing[0]/2, origin[1] + counts[1]*spacing[1]/2)\n",
    "grid['LJr'][np.logical_and(((grid['x']-mid_xy[0])**2 + (grid['y']-mid_xy[1])**2) > 9,\\\n",
    "                           np.logical_and(grid['z']>28, grid['z']<32))] = 10.\n",
    "\n",
    "import AlGDock.IO\n",
    "IO_Grid = AlGDock.IO.Grid()\n",
    "data = {'origin':origin, 'spacing':spacing, 'counts':counts, 'vals':grid['LJr'].flatten()}\n",
    "IO_Grid.write('LJr.dx', data)\n",
    "IO_Grid.write('LJr.nc', data)"
   ]
  },
  {
   "cell_type": "code",
   "execution_count": null,
   "metadata": {
    "collapsed": true
   },
   "outputs": [],
   "source": []
  }
 ],
 "metadata": {
  "kernelspec": {
   "display_name": "Python 2",
   "language": "python",
   "name": "python2"
  },
  "language_info": {
   "codemirror_mode": {
    "name": "ipython",
    "version": 2
   },
   "file_extension": ".py",
   "mimetype": "text/x-python",
   "name": "python",
   "nbconvert_exporter": "python",
   "pygments_lexer": "ipython2",
   "version": "2.7.11"
  }
 },
 "nbformat": 4,
 "nbformat_minor": 2
}
